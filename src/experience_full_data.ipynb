{
 "cells": [
  {
   "cell_type": "markdown",
   "id": "a076f437",
   "metadata": {},
   "source": [
    "## Importations"
   ]
  },
  {
   "cell_type": "code",
   "execution_count": 9,
   "id": "481b8bc2",
   "metadata": {},
   "outputs": [],
   "source": [
    "import numpy as np\n",
    "import pandas as pd\n",
    "import itertools as it\n",
    "import scipy\n",
    "from tqdm import tqdm\n",
    "from collections import Counter\n",
    "from sklearn.preprocessing import MultiLabelBinarizer"
   ]
  },
  {
   "cell_type": "markdown",
   "id": "f77d5c31",
   "metadata": {},
   "source": [
    "# Global variables"
   ]
  },
  {
   "cell_type": "code",
   "execution_count": 10,
   "id": "79c44685",
   "metadata": {},
   "outputs": [],
   "source": [
    "# Small: 100,000 ratings and 3,600 tag applications applied to 9,000 movies by 600 users.\n",
    "# Average computation time without optimization : 10s/user --> 6100s --> less than 2 hours\n",
    "# Full: 27,000,000 ratings and 1,100,000 tag applications applied to 58,000 movies by 280,000 users.\n",
    "# Average computation time without optimization : "
   ]
  },
  {
   "cell_type": "code",
   "execution_count": 11,
   "id": "e093eebe",
   "metadata": {},
   "outputs": [],
   "source": [
    "PATH = \"../data/\"\n",
    "DATASET_TYPE = \"full\"\n",
    "TRAIN_SIZE = 0.8\n",
    "MINIMUM_SEEN_MOVIES = 1\n",
    "MINIMUM_SEEN_USERS = 20"
   ]
  },
  {
   "cell_type": "markdown",
   "id": "b3f29d4c",
   "metadata": {},
   "source": [
    "## Loading data"
   ]
  },
  {
   "cell_type": "code",
   "execution_count": 21,
   "id": "ab1b9e9d",
   "metadata": {},
   "outputs": [],
   "source": [
    "def load_data(path, dataset_type=\"small\"):\n",
    "\tif dataset_type == \"small\":\n",
    "\t\tmovies = pd.read_csv(path + \"ml-latest-small/movies.csv\")\n",
    "\t\tratings = pd.read_csv(path + \"ml-latest-small/ratings.csv\")\n",
    "\telif dataset_type == \"full\":\n",
    "\t\tmovies = pd.read_csv(path + \"ml-latest/movies.csv\")\n",
    "\t\tratings = pd.read_csv(path + \"ml-latest/ratings.csv\")\n",
    "\treturn movies, ratings"
   ]
  },
  {
   "cell_type": "code",
   "execution_count": 22,
   "id": "aae37329",
   "metadata": {},
   "outputs": [
    {
     "name": "stdout",
     "output_type": "stream",
     "text": [
      "(58098, 3)\n",
      "(27753444, 4)\n"
     ]
    }
   ],
   "source": [
    "movies, ratings = load_data(PATH, DATASET_TYPE)\n",
    "\n",
    "print(movies.shape)\n",
    "print(ratings.shape)"
   ]
  },
  {
   "cell_type": "markdown",
   "id": "b9eda4a1",
   "metadata": {},
   "source": [
    "# Preprocessing data"
   ]
  },
  {
   "cell_type": "code",
   "execution_count": 25,
   "id": "675978bc",
   "metadata": {},
   "outputs": [],
   "source": [
    "def reduce_dataset(movies, ratings, n_movies):\n",
    "\tmovie_ids = np.array(movies[\"movieId\"])\n",
    "\tr = np.random.rand(n_movies)*len(movie_ids)\n",
    "\tmovies = movies[movies[\"movieId\"] not in r]\n",
    "\tratings = ratings[ratings[\"movieId\"] not in r]\n",
    "\treturn movies, ratings \n",
    "\n",
    "## Delete films seen only by a certain number of users\n",
    "def get_id_delete_solo_films(data, threshold, nom_colonne) :\n",
    "    '''\n",
    "    data -> movies ou ratings ( dataframe qui contient une colonne movieId )\n",
    "    '''\n",
    "    list_key_values = np.array(list(Counter(data[nom_colonne].values).items()))\n",
    "    key,values = list_key_values[:,0],list_key_values[:,1]\n",
    "    id_delete =  np.where(values < threshold)[0]\n",
    "    return key[id_delete]\n",
    "\n",
    "def delete_solo_films(data, id_delete, nom_colonne) :\n",
    "    '''\n",
    "    data -> movies ou ratings ( dataframe qui contient une colonne movieId )\n",
    "    '''\n",
    "    array_movieId = data[nom_colonne].values\n",
    "    ind = [i for i in range(len(array_movieId)) if array_movieId[i] not in id_delete ]\n",
    "    return data.iloc[ind]\n",
    "\n",
    "## Building ratings and movies dataframe which both contains the same movieId\n",
    "def clear_dataset(movies, ratings):\n",
    "\n",
    "\tid_delete = get_id_delete_solo_films(ratings, MINIMUM_SEEN_MOVIES,'movieId')\n",
    "\tratings = delete_solo_films(ratings,id_delete,'movieId')\n",
    "\tmovies = delete_solo_films(movies,id_delete,'movieId')\n",
    "\tid_delete = get_id_delete_solo_films(ratings, MINIMUM_SEEN_USERS,'userId')\n",
    "\tratings = delete_solo_films(ratings,id_delete,'userId')\n",
    "\t\n",
    "\tlist_movieId = list(set(movies[\"movieId\"].values).intersection(set(ratings[\"movieId\"].values)))\n",
    "\tmovies_old = movies['movieId'].values\n",
    "\tl = []\n",
    "\tfor i in range(len(movies_old)):\n",
    "\t\tif movies_old[i] in list_movieId:\n",
    "\t\t\tl.append(i)\n",
    "\tmovies = movies.iloc[l,:]\n",
    "\n",
    "\ta = sorted(list(list_movieId))\n",
    "\tb = range(len(a))\n",
    "\td = dict(zip(a,b))\n",
    "\tmovies = movies.replace({'movieId' : d})\n",
    "\n",
    "\ta = sorted(list(list_movieId))\n",
    "\tb = range(len(a))\n",
    "\td = dict(zip(a,b))\n",
    "\tratings = ratings.replace({'movieId' : d})\n",
    "    \n",
    "\tratings.index = range(len(ratings))\n",
    "\tmovies.index = range(len(movies))\n",
    "\n",
    "\treturn movies, ratings\t\n",
    "\t\n",
    "## Building one hot encoded genres in movies dataframe\n",
    "def one_hot_encode_genres(movies):\n",
    "\ttmp = []\n",
    "\tfor elt in movies[\"genres\"]:\n",
    "\t\ttmp.append(elt.split(\"|\"))\n",
    "\tmovies[\"genres\"] = tmp\n",
    "\tmlb = MultiLabelBinarizer(sparse_output=True)\n",
    "\tmovies = movies.join(\n",
    "\t\t\t\tpd.DataFrame.sparse.from_spmatrix(\n",
    "\t\t\t\t\t\t\t\t\t\t\t\tmlb.fit_transform(movies.pop('genres')),\n",
    "\t\t\t\t\t\t\t\t\t\t\t\tindex=movies.index,\n",
    "\t\t\t\t\t\t\t\t\t\t\t\tcolumns=mlb.classes_))\n",
    "\treturn movies\n",
    "\n",
    "## Cleaning ratings datagrame\n",
    "def preprocess_ratings(ratings):\n",
    "\tratings = ratings.drop(columns=[\"timestamp\"])\n",
    "\tratings['userId'] = ratings['userId'].to_numpy() - 1 # car pas de user 0\n",
    "\treturn ratings\n",
    "\n",
    "## Split for computing metrics on test later\n",
    "def split_set(userId, train_size, ratings):\n",
    "\trating_user = ratings[ratings[\"userId\"] == userId]\n",
    "\ttrain_rating_user, test_rating_user = rating_user.to_numpy()[:int(train_size*len(rating_user))], rating_user.to_numpy()[int(train_size*len(rating_user)):]\n",
    "\treturn train_rating_user, test_rating_user\n",
    "\n",
    "## Get informations on users watched/unwatched movies...\n",
    "def get_infos_user(userId):\n",
    "\twatched_user = set(ratings[ratings[\"userId\"] == userId][\"movieId\"])\n",
    "\twatched_all = set(ratings['movieId'])\n",
    "\tunwatched_user = list(watched_all.difference(watched_user))\n",
    "\treturn watched_user, watched_all, unwatched_user"
   ]
  },
  {
   "cell_type": "code",
   "execution_count": 26,
   "id": "3b8a7e5f",
   "metadata": {},
   "outputs": [
    {
     "name": "stdout",
     "output_type": "stream",
     "text": [
      "Reducing dataset size ...\n"
     ]
    },
    {
     "name": "stderr",
     "output_type": "stream",
     "text": [
      "C:\\Users\\karna\\AppData\\Local\\Temp\\ipykernel_41864\\1231361495.py:4: DeprecationWarning: elementwise comparison failed; this will raise an error in the future.\n",
      "  movies = movies[movies[\"movieId\"] not in r]\n"
     ]
    },
    {
     "ename": "ValueError",
     "evalue": "('Lengths must match to compare', (58098,), (1000,))",
     "output_type": "error",
     "traceback": [
      "\u001b[1;31m---------------------------------------------------------------------------\u001b[0m",
      "\u001b[1;31mValueError\u001b[0m                                Traceback (most recent call last)",
      "\u001b[1;32mc:\\Users\\karna\\Desktop\\Projects\\PythonProject\\PageRankRecommandation\\src\\experience_full_data.ipynb Cell 11'\u001b[0m in \u001b[0;36m<cell line: 2>\u001b[1;34m()\u001b[0m\n\u001b[0;32m      <a href='vscode-notebook-cell:/c%3A/Users/karna/Desktop/Projects/PythonProject/PageRankRecommandation/src/experience_full_data.ipynb#ch0000010?line=0'>1</a>\u001b[0m \u001b[39mprint\u001b[39m(\u001b[39m\"\u001b[39m\u001b[39mReducing dataset size ...\u001b[39m\u001b[39m\"\u001b[39m)\n\u001b[1;32m----> <a href='vscode-notebook-cell:/c%3A/Users/karna/Desktop/Projects/PythonProject/PageRankRecommandation/src/experience_full_data.ipynb#ch0000010?line=1'>2</a>\u001b[0m movies, ratings \u001b[39m=\u001b[39m reduce_dataset(movies, ratings, \u001b[39m1000\u001b[39;49m)\n\u001b[0;32m      <a href='vscode-notebook-cell:/c%3A/Users/karna/Desktop/Projects/PythonProject/PageRankRecommandation/src/experience_full_data.ipynb#ch0000010?line=2'>3</a>\u001b[0m \u001b[39mprint\u001b[39m(movies\u001b[39m.\u001b[39mshape)\n\u001b[0;32m      <a href='vscode-notebook-cell:/c%3A/Users/karna/Desktop/Projects/PythonProject/PageRankRecommandation/src/experience_full_data.ipynb#ch0000010?line=3'>4</a>\u001b[0m \u001b[39mprint\u001b[39m(ratings\u001b[39m.\u001b[39mshape)\n",
      "\u001b[1;32mc:\\Users\\karna\\Desktop\\Projects\\PythonProject\\PageRankRecommandation\\src\\experience_full_data.ipynb Cell 10'\u001b[0m in \u001b[0;36mreduce_dataset\u001b[1;34m(movies, ratings, n_movies)\u001b[0m\n\u001b[0;32m      <a href='vscode-notebook-cell:/c%3A/Users/karna/Desktop/Projects/PythonProject/PageRankRecommandation/src/experience_full_data.ipynb#ch0000009?line=1'>2</a>\u001b[0m movie_ids \u001b[39m=\u001b[39m np\u001b[39m.\u001b[39marray(movies[\u001b[39m\"\u001b[39m\u001b[39mmovieId\u001b[39m\u001b[39m\"\u001b[39m])\n\u001b[0;32m      <a href='vscode-notebook-cell:/c%3A/Users/karna/Desktop/Projects/PythonProject/PageRankRecommandation/src/experience_full_data.ipynb#ch0000009?line=2'>3</a>\u001b[0m r \u001b[39m=\u001b[39m np\u001b[39m.\u001b[39mrandom\u001b[39m.\u001b[39mrand(n_movies)\u001b[39m*\u001b[39m\u001b[39mlen\u001b[39m(movie_ids)\n\u001b[1;32m----> <a href='vscode-notebook-cell:/c%3A/Users/karna/Desktop/Projects/PythonProject/PageRankRecommandation/src/experience_full_data.ipynb#ch0000009?line=3'>4</a>\u001b[0m movies \u001b[39m=\u001b[39m movies[movies[\u001b[39m\"\u001b[39;49m\u001b[39mmovieId\u001b[39;49m\u001b[39m\"\u001b[39;49m] \u001b[39mnot\u001b[39;49;00m \u001b[39min\u001b[39;49;00m r]\n\u001b[0;32m      <a href='vscode-notebook-cell:/c%3A/Users/karna/Desktop/Projects/PythonProject/PageRankRecommandation/src/experience_full_data.ipynb#ch0000009?line=4'>5</a>\u001b[0m ratings \u001b[39m=\u001b[39m ratings[ratings[\u001b[39m\"\u001b[39m\u001b[39mmovieId\u001b[39m\u001b[39m\"\u001b[39m] \u001b[39mnot\u001b[39;00m \u001b[39min\u001b[39;00m r]\n\u001b[0;32m      <a href='vscode-notebook-cell:/c%3A/Users/karna/Desktop/Projects/PythonProject/PageRankRecommandation/src/experience_full_data.ipynb#ch0000009?line=5'>6</a>\u001b[0m \u001b[39mreturn\u001b[39;00m movies, ratings\n",
      "File \u001b[1;32mC:\\ProgramData\\Anaconda3\\lib\\site-packages\\pandas\\core\\ops\\common.py:70\u001b[0m, in \u001b[0;36m_unpack_zerodim_and_defer.<locals>.new_method\u001b[1;34m(self, other)\u001b[0m\n\u001b[0;32m     <a href='file:///c%3A/ProgramData/Anaconda3/lib/site-packages/pandas/core/ops/common.py?line=65'>66</a>\u001b[0m             \u001b[39mreturn\u001b[39;00m \u001b[39mNotImplemented\u001b[39m\n\u001b[0;32m     <a href='file:///c%3A/ProgramData/Anaconda3/lib/site-packages/pandas/core/ops/common.py?line=67'>68</a>\u001b[0m other \u001b[39m=\u001b[39m item_from_zerodim(other)\n\u001b[1;32m---> <a href='file:///c%3A/ProgramData/Anaconda3/lib/site-packages/pandas/core/ops/common.py?line=69'>70</a>\u001b[0m \u001b[39mreturn\u001b[39;00m method(\u001b[39mself\u001b[39;49m, other)\n",
      "File \u001b[1;32mC:\\ProgramData\\Anaconda3\\lib\\site-packages\\pandas\\core\\arraylike.py:40\u001b[0m, in \u001b[0;36mOpsMixin.__eq__\u001b[1;34m(self, other)\u001b[0m\n\u001b[0;32m     <a href='file:///c%3A/ProgramData/Anaconda3/lib/site-packages/pandas/core/arraylike.py?line=37'>38</a>\u001b[0m \u001b[39m@unpack_zerodim_and_defer\u001b[39m(\u001b[39m\"\u001b[39m\u001b[39m__eq__\u001b[39m\u001b[39m\"\u001b[39m)\n\u001b[0;32m     <a href='file:///c%3A/ProgramData/Anaconda3/lib/site-packages/pandas/core/arraylike.py?line=38'>39</a>\u001b[0m \u001b[39mdef\u001b[39;00m \u001b[39m__eq__\u001b[39m(\u001b[39mself\u001b[39m, other):\n\u001b[1;32m---> <a href='file:///c%3A/ProgramData/Anaconda3/lib/site-packages/pandas/core/arraylike.py?line=39'>40</a>\u001b[0m     \u001b[39mreturn\u001b[39;00m \u001b[39mself\u001b[39;49m\u001b[39m.\u001b[39;49m_cmp_method(other, operator\u001b[39m.\u001b[39;49meq)\n",
      "File \u001b[1;32mC:\\ProgramData\\Anaconda3\\lib\\site-packages\\pandas\\core\\series.py:5623\u001b[0m, in \u001b[0;36mSeries._cmp_method\u001b[1;34m(self, other, op)\u001b[0m\n\u001b[0;32m   <a href='file:///c%3A/ProgramData/Anaconda3/lib/site-packages/pandas/core/series.py?line=5619'>5620</a>\u001b[0m rvalues \u001b[39m=\u001b[39m extract_array(other, extract_numpy\u001b[39m=\u001b[39m\u001b[39mTrue\u001b[39;00m, extract_range\u001b[39m=\u001b[39m\u001b[39mTrue\u001b[39;00m)\n\u001b[0;32m   <a href='file:///c%3A/ProgramData/Anaconda3/lib/site-packages/pandas/core/series.py?line=5621'>5622</a>\u001b[0m \u001b[39mwith\u001b[39;00m np\u001b[39m.\u001b[39merrstate(\u001b[39mall\u001b[39m\u001b[39m=\u001b[39m\u001b[39m\"\u001b[39m\u001b[39mignore\u001b[39m\u001b[39m\"\u001b[39m):\n\u001b[1;32m-> <a href='file:///c%3A/ProgramData/Anaconda3/lib/site-packages/pandas/core/series.py?line=5622'>5623</a>\u001b[0m     res_values \u001b[39m=\u001b[39m ops\u001b[39m.\u001b[39;49mcomparison_op(lvalues, rvalues, op)\n\u001b[0;32m   <a href='file:///c%3A/ProgramData/Anaconda3/lib/site-packages/pandas/core/series.py?line=5624'>5625</a>\u001b[0m \u001b[39mreturn\u001b[39;00m \u001b[39mself\u001b[39m\u001b[39m.\u001b[39m_construct_result(res_values, name\u001b[39m=\u001b[39mres_name)\n",
      "File \u001b[1;32mC:\\ProgramData\\Anaconda3\\lib\\site-packages\\pandas\\core\\ops\\array_ops.py:260\u001b[0m, in \u001b[0;36mcomparison_op\u001b[1;34m(left, right, op)\u001b[0m\n\u001b[0;32m    <a href='file:///c%3A/ProgramData/Anaconda3/lib/site-packages/pandas/core/ops/array_ops.py?line=254'>255</a>\u001b[0m \u001b[39mif\u001b[39;00m \u001b[39misinstance\u001b[39m(rvalues, (np\u001b[39m.\u001b[39mndarray, ABCExtensionArray)):\n\u001b[0;32m    <a href='file:///c%3A/ProgramData/Anaconda3/lib/site-packages/pandas/core/ops/array_ops.py?line=255'>256</a>\u001b[0m     \u001b[39m# TODO: make this treatment consistent across ops and classes.\u001b[39;00m\n\u001b[0;32m    <a href='file:///c%3A/ProgramData/Anaconda3/lib/site-packages/pandas/core/ops/array_ops.py?line=256'>257</a>\u001b[0m     \u001b[39m#  We are not catching all listlikes here (e.g. frozenset, tuple)\u001b[39;00m\n\u001b[0;32m    <a href='file:///c%3A/ProgramData/Anaconda3/lib/site-packages/pandas/core/ops/array_ops.py?line=257'>258</a>\u001b[0m     \u001b[39m#  The ambiguous case is object-dtype.  See GH#27803\u001b[39;00m\n\u001b[0;32m    <a href='file:///c%3A/ProgramData/Anaconda3/lib/site-packages/pandas/core/ops/array_ops.py?line=258'>259</a>\u001b[0m     \u001b[39mif\u001b[39;00m \u001b[39mlen\u001b[39m(lvalues) \u001b[39m!=\u001b[39m \u001b[39mlen\u001b[39m(rvalues):\n\u001b[1;32m--> <a href='file:///c%3A/ProgramData/Anaconda3/lib/site-packages/pandas/core/ops/array_ops.py?line=259'>260</a>\u001b[0m         \u001b[39mraise\u001b[39;00m \u001b[39mValueError\u001b[39;00m(\n\u001b[0;32m    <a href='file:///c%3A/ProgramData/Anaconda3/lib/site-packages/pandas/core/ops/array_ops.py?line=260'>261</a>\u001b[0m             \u001b[39m\"\u001b[39m\u001b[39mLengths must match to compare\u001b[39m\u001b[39m\"\u001b[39m, lvalues\u001b[39m.\u001b[39mshape, rvalues\u001b[39m.\u001b[39mshape\n\u001b[0;32m    <a href='file:///c%3A/ProgramData/Anaconda3/lib/site-packages/pandas/core/ops/array_ops.py?line=261'>262</a>\u001b[0m         )\n\u001b[0;32m    <a href='file:///c%3A/ProgramData/Anaconda3/lib/site-packages/pandas/core/ops/array_ops.py?line=263'>264</a>\u001b[0m \u001b[39mif\u001b[39;00m should_extension_dispatch(lvalues, rvalues) \u001b[39mor\u001b[39;00m (\n\u001b[0;32m    <a href='file:///c%3A/ProgramData/Anaconda3/lib/site-packages/pandas/core/ops/array_ops.py?line=264'>265</a>\u001b[0m     (\u001b[39misinstance\u001b[39m(rvalues, (Timedelta, BaseOffset, Timestamp)) \u001b[39mor\u001b[39;00m right \u001b[39mis\u001b[39;00m NaT)\n\u001b[0;32m    <a href='file:///c%3A/ProgramData/Anaconda3/lib/site-packages/pandas/core/ops/array_ops.py?line=265'>266</a>\u001b[0m     \u001b[39mand\u001b[39;00m \u001b[39mnot\u001b[39;00m is_object_dtype(lvalues\u001b[39m.\u001b[39mdtype)\n\u001b[0;32m    <a href='file:///c%3A/ProgramData/Anaconda3/lib/site-packages/pandas/core/ops/array_ops.py?line=266'>267</a>\u001b[0m ):\n\u001b[0;32m    <a href='file:///c%3A/ProgramData/Anaconda3/lib/site-packages/pandas/core/ops/array_ops.py?line=267'>268</a>\u001b[0m     \u001b[39m# Call the method on lvalues\u001b[39;00m\n\u001b[0;32m    <a href='file:///c%3A/ProgramData/Anaconda3/lib/site-packages/pandas/core/ops/array_ops.py?line=268'>269</a>\u001b[0m     res_values \u001b[39m=\u001b[39m op(lvalues, rvalues)\n",
      "\u001b[1;31mValueError\u001b[0m: ('Lengths must match to compare', (58098,), (1000,))"
     ]
    }
   ],
   "source": [
    "print(\"Reducing dataset size ...\")\n",
    "movies, ratings = reduce_dataset(movies, ratings, 1000)\n",
    "print(movies.shape)\n",
    "print(ratings.shape)\n",
    "# print(\"Clearing dataset ...\")\n",
    "# movies, ratings = clear_dataset(movies, ratings)\n",
    "# print(\"One hot encoding ...\")\n",
    "# movies = one_hot_encode_genres(movies)\n",
    "# print(\"Preprocessing ratings ...\")\n",
    "# ratings = preprocess_ratings(ratings)"
   ]
  },
  {
   "cell_type": "markdown",
   "id": "6be0081e",
   "metadata": {},
   "source": [
    "# Building matrix"
   ]
  },
  {
   "cell_type": "code",
   "execution_count": 17,
   "id": "025984d0",
   "metadata": {},
   "outputs": [],
   "source": [
    "# Building a sparse matrix which contains the triple (u_k, m_i, r_ki)\n",
    "# def build_sparse_matrix_triples(ratings):\n",
    "# \tratings_sparse = scipy.sparse.csr_matrix(ratings.values)\n",
    "# \treturn ratings_sparse\n",
    "\n",
    "## Building a matrix M = (n_movies, n_movies) which contains the number of users who'se seen m_i and m_j\n",
    "def build_M_matrix(ratings, train_size):\n",
    "\tdata_dict = dict()\n",
    "\ttrain_rating_user_list = []\n",
    "\ttest_rating_user_list = []\n",
    "\tfor userId in tqdm(set(ratings[\"userId\"])):\n",
    "\t\ttrain_rating_user, test_rating_user = split_set(userId, train_size, ratings)\n",
    "\t\ttrain_rating_user_list.append(np.array(train_rating_user))\n",
    "\t\ttest_rating_user_list.append(np.array(test_rating_user))\n",
    "\t\titerator = it.combinations(train_rating_user[:,1], 2)\n",
    "\t\tfor x, y in iterator:\n",
    "\t\t\tdata_dict[(x,y)] = data_dict.get((x,y), 0.) + 1.\n",
    "\t\t\tdata_dict[(y,x)] = data_dict.get((y,x), 0.) + 1.\n",
    "\t\titerator = it.combinations(test_rating_user[:,1], 2)\n",
    "\t\tfor x, y in iterator:\n",
    "\t\t\t# We need to ignore the test movies\n",
    "\t\t\tdata_dict[(x,y)] = 0\n",
    "\t\t\tdata_dict[(y,x)] = 0\n",
    "\tkeys = np.array(list(data_dict.keys())).astype(int)\n",
    "\tvalues = np.array(list(data_dict.values())).astype(float)\n",
    "\tM_coo = scipy.sparse.coo_matrix((values, (keys[:,0], keys[:,1])))\n",
    "\tM_csr = M_coo.tocsr()\n",
    "\tM_norm = M_csr\n",
    "\treturn M_norm, train_rating_user_list, test_rating_user_list\n",
    "\n",
    "## Computing probabilites of genres P_ig\n",
    "def build_P_ig(movies):\n",
    "\tsum_ = movies[[i for i in movies.columns if i != \"movieId\" and i != \"title\"]].to_numpy().sum(axis=0).astype(int)\n",
    "\tP_ig = sum_ / sum(sum_)\n",
    "\treturn P_ig.reshape(-1, 1)\n",
    "\n",
    "## Initialisation of R_uk before iterative algorithm\n",
    "def init_R_uk(movies):\n",
    "\tn_genres = len(movies.columns) - 2\n",
    "\tn_movies = len(movies)\n",
    "\tr = 1/(n_movies*n_genres)\n",
    "\tR_uk = np.full((n_movies, n_genres), r)\n",
    "\treturn R_uk\n",
    "\n",
    "## Computing F_ig for each user\n",
    "def build_F_ig(R_uk, P_ig):\n",
    "\tF_ig = np.sum(R_uk, axis=1).reshape(-1,1) @ P_ig.reshape(1,-1)\n",
    "\treturn F_ig\n",
    "\n",
    "## Matrix user X movie\n",
    "def build_ratings_matrix(ratings):\n",
    "\tvalues = ratings[\"rating\"]\n",
    "\trows = ratings[\"userId\"]\n",
    "\tcols = ratings[\"movieId\"]\n",
    "\tM_coo = scipy.sparse.coo_matrix((values, (rows, cols)))\n",
    "\tM_csr = M_coo.tocsr()\n",
    "\treturn M_csr\n",
    "\n",
    "## Build I_uk for each user\n",
    "def build_I_uk(tmp_M, id_user, P_ig):\n",
    "# \tprint(tmp_M[id_user,:].T.shape)\n",
    "\tI_uk = tmp_M[id_user,:].T @ P_ig.reshape(1,-1)\n",
    "\tI_uk = I_uk / I_uk.sum(axis=0).T\n",
    "\treturn I_uk\n",
    "\n",
    "## Init the matrix needed before running the iterative algorithm\n",
    "def init(movies, ratings, train_size):\n",
    "\tprint(\"Init R_uk...\")\n",
    "\tR_uk = init_R_uk(movies)\n",
    "\tprint(R_uk.shape)\n",
    "\tprint(\"Building P_ig...\")\n",
    "\ttmp_M = build_ratings_matrix(ratings)\n",
    "\tP_ig = build_P_ig(movies)\n",
    "\tprint(P_ig.shape)\n",
    "\tprint(\"Building M_csr...\")\n",
    "\tM_csr, train_rating_user_list, test_rating_user_list = build_M_matrix(ratings, train_size)\n",
    "\tprint(M_csr.shape)\n",
    "\treturn R_uk, tmp_M, P_ig, M_csr, np.array(train_rating_user_list, dtype=object), np.array(test_rating_user_list, dtype=object)"
   ]
  },
  {
   "cell_type": "code",
   "execution_count": 18,
   "id": "5ec458e5",
   "metadata": {
    "scrolled": true
   },
   "outputs": [
    {
     "name": "stdout",
     "output_type": "stream",
     "text": [
      "Init R_uk...\n",
      "(207, 19)\n",
      "Building P_ig...\n",
      "(19, 1)\n",
      "Building M_csr...\n"
     ]
    },
    {
     "name": "stderr",
     "output_type": "stream",
     "text": [
      "100%|██████████| 5/5 [00:00<00:00, 22.22it/s]\n"
     ]
    },
    {
     "name": "stdout",
     "output_type": "stream",
     "text": [
      "(56783, 56783)\n"
     ]
    }
   ],
   "source": [
    "R_uk, tmp_M, P_ig, M_csr, train_rating_user_list, test_rating_user_list = init(movies, ratings, TRAIN_SIZE)"
   ]
  },
  {
   "cell_type": "markdown",
   "id": "d6051cda",
   "metadata": {},
   "source": [
    "## Run the algorithm"
   ]
  },
  {
   "cell_type": "code",
   "execution_count": 19,
   "id": "45ac2294",
   "metadata": {},
   "outputs": [],
   "source": [
    "## Compute TR_ki for a specific user\n",
    "def compute_TR_ki(id_user, R_uk, tmp_M, P_ig, M_csr, d, alpha, iter_max):\n",
    "\tI_uk = build_I_uk(tmp_M, id_user, P_ig)\n",
    "\tfor _ in range(iter_max):\n",
    "\t\tF_ig = build_F_ig(R_uk, P_ig)\n",
    "\t\tR_uk = d * alpha * M_csr @ R_uk + d * (1-alpha) * M_csr @ F_ig + (1-d) * I_uk\n",
    "\n",
    "\t\t# This part is useful if you want to normalize + break if converge\n",
    "\t\t# R_uk = (R_uk / R_uk.sum(axis=1)).T # Normalization isn't working\n",
    "\t\t#     print(np.abs(np.sum(R_uk - R_uk_old)))\n",
    "\t\t#     if np.abs(np.sum(R_uk - R_uk_old)) < eps :\n",
    "\t\t#         print(i)\n",
    "\t\t#         break\n",
    "\t\t# R_uk_old = R_uk.copy()\n",
    "\t\n",
    "\tTR_ki = np.array(R_uk @ P_ig) # It returns a np.mat object which can't be reduced to dimension 1\n",
    "\treturn TR_ki.reshape(-1)\n",
    "\n",
    "## Compute TR_ki for all users\n",
    "def iterative_TR_ki(n_user, R_uk, tmp_M, P_ig, M_csr, d=0.15, alpha=0.1, iter_max=5):\n",
    "\tprint(\"Computing TR_ki for all users...\")\n",
    "\tTR_ki_all_user = []\n",
    "\tfor id_user in tqdm(range(n_user)):\n",
    "\t\tTR_ki_all_user.append(compute_TR_ki(id_user, R_uk, tmp_M, P_ig, M_csr, d, alpha, iter_max))\n",
    "\treturn np.array(TR_ki_all_user)"
   ]
  },
  {
   "cell_type": "code",
   "execution_count": 20,
   "id": "8e820f8e",
   "metadata": {},
   "outputs": [
    {
     "name": "stdout",
     "output_type": "stream",
     "text": [
      "Computing TR_ki for all users...\n"
     ]
    },
    {
     "name": "stderr",
     "output_type": "stream",
     "text": [
      "  0%|          | 0/5 [00:00<?, ?it/s]C:\\Users\\karna\\AppData\\Local\\Temp\\ipykernel_41864\\2167165631.py:63: RuntimeWarning: invalid value encountered in true_divide\n",
      "  I_uk = I_uk / I_uk.sum(axis=0).T\n",
      "  0%|          | 0/5 [00:00<?, ?it/s]\n"
     ]
    },
    {
     "ename": "ValueError",
     "evalue": "dimension mismatch",
     "output_type": "error",
     "traceback": [
      "\u001b[1;31m---------------------------------------------------------------------------\u001b[0m",
      "\u001b[1;31mValueError\u001b[0m                                Traceback (most recent call last)",
      "\u001b[1;32mc:\\Users\\karna\\Desktop\\Projects\\PythonProject\\PageRankRecommandation\\src\\experience_full_data.ipynb Cell 17'\u001b[0m in \u001b[0;36m<cell line: 4>\u001b[1;34m()\u001b[0m\n\u001b[0;32m      <a href='vscode-notebook-cell:/c%3A/Users/karna/Desktop/Projects/PythonProject/PageRankRecommandation/src/experience_full_data.ipynb#ch0000016?line=0'>1</a>\u001b[0m n_user \u001b[39m=\u001b[39m \u001b[39mlen\u001b[39m(np\u001b[39m.\u001b[39munique(ratings[\u001b[39m\"\u001b[39m\u001b[39muserId\u001b[39m\u001b[39m\"\u001b[39m]))\n\u001b[0;32m      <a href='vscode-notebook-cell:/c%3A/Users/karna/Desktop/Projects/PythonProject/PageRankRecommandation/src/experience_full_data.ipynb#ch0000016?line=1'>2</a>\u001b[0m \u001b[39m# n_user = 3 ## Use when testing\u001b[39;00m\n\u001b[1;32m----> <a href='vscode-notebook-cell:/c%3A/Users/karna/Desktop/Projects/PythonProject/PageRankRecommandation/src/experience_full_data.ipynb#ch0000016?line=3'>4</a>\u001b[0m TR_ki_all_user \u001b[39m=\u001b[39m iterative_TR_ki(n_user, R_uk, tmp_M, P_ig, M_csr, d\u001b[39m=\u001b[39;49m\u001b[39m0.15\u001b[39;49m, alpha\u001b[39m=\u001b[39;49m\u001b[39m0.1\u001b[39;49m, iter_max\u001b[39m=\u001b[39;49m\u001b[39m15\u001b[39;49m)\n",
      "\u001b[1;32mc:\\Users\\karna\\Desktop\\Projects\\PythonProject\\PageRankRecommandation\\src\\experience_full_data.ipynb Cell 16'\u001b[0m in \u001b[0;36miterative_TR_ki\u001b[1;34m(n_user, R_uk, tmp_M, P_ig, M_csr, d, alpha, iter_max)\u001b[0m\n\u001b[0;32m     <a href='vscode-notebook-cell:/c%3A/Users/karna/Desktop/Projects/PythonProject/PageRankRecommandation/src/experience_full_data.ipynb#ch0000015?line=21'>22</a>\u001b[0m TR_ki_all_user \u001b[39m=\u001b[39m []\n\u001b[0;32m     <a href='vscode-notebook-cell:/c%3A/Users/karna/Desktop/Projects/PythonProject/PageRankRecommandation/src/experience_full_data.ipynb#ch0000015?line=22'>23</a>\u001b[0m \u001b[39mfor\u001b[39;00m id_user \u001b[39min\u001b[39;00m tqdm(\u001b[39mrange\u001b[39m(n_user)):\n\u001b[1;32m---> <a href='vscode-notebook-cell:/c%3A/Users/karna/Desktop/Projects/PythonProject/PageRankRecommandation/src/experience_full_data.ipynb#ch0000015?line=23'>24</a>\u001b[0m \tTR_ki_all_user\u001b[39m.\u001b[39mappend(compute_TR_ki(id_user, R_uk, tmp_M, P_ig, M_csr, d, alpha, iter_max))\n\u001b[0;32m     <a href='vscode-notebook-cell:/c%3A/Users/karna/Desktop/Projects/PythonProject/PageRankRecommandation/src/experience_full_data.ipynb#ch0000015?line=24'>25</a>\u001b[0m \u001b[39mreturn\u001b[39;00m np\u001b[39m.\u001b[39marray(TR_ki_all_user)\n",
      "\u001b[1;32mc:\\Users\\karna\\Desktop\\Projects\\PythonProject\\PageRankRecommandation\\src\\experience_full_data.ipynb Cell 16'\u001b[0m in \u001b[0;36mcompute_TR_ki\u001b[1;34m(id_user, R_uk, tmp_M, P_ig, M_csr, d, alpha, iter_max)\u001b[0m\n\u001b[0;32m      <a href='vscode-notebook-cell:/c%3A/Users/karna/Desktop/Projects/PythonProject/PageRankRecommandation/src/experience_full_data.ipynb#ch0000015?line=3'>4</a>\u001b[0m \u001b[39mfor\u001b[39;00m _ \u001b[39min\u001b[39;00m \u001b[39mrange\u001b[39m(iter_max):\n\u001b[0;32m      <a href='vscode-notebook-cell:/c%3A/Users/karna/Desktop/Projects/PythonProject/PageRankRecommandation/src/experience_full_data.ipynb#ch0000015?line=4'>5</a>\u001b[0m \tF_ig \u001b[39m=\u001b[39m build_F_ig(R_uk, P_ig)\n\u001b[1;32m----> <a href='vscode-notebook-cell:/c%3A/Users/karna/Desktop/Projects/PythonProject/PageRankRecommandation/src/experience_full_data.ipynb#ch0000015?line=5'>6</a>\u001b[0m \tR_uk \u001b[39m=\u001b[39m d \u001b[39m*\u001b[39;49m alpha \u001b[39m*\u001b[39;49m M_csr \u001b[39m@\u001b[39;49m R_uk \u001b[39m+\u001b[39m d \u001b[39m*\u001b[39m (\u001b[39m1\u001b[39m\u001b[39m-\u001b[39malpha) \u001b[39m*\u001b[39m M_csr \u001b[39m@\u001b[39m F_ig \u001b[39m+\u001b[39m (\u001b[39m1\u001b[39m\u001b[39m-\u001b[39md) \u001b[39m*\u001b[39m I_uk\n\u001b[0;32m      <a href='vscode-notebook-cell:/c%3A/Users/karna/Desktop/Projects/PythonProject/PageRankRecommandation/src/experience_full_data.ipynb#ch0000015?line=7'>8</a>\u001b[0m \t\u001b[39m# This part is useful if you want to normalize + break if converge\u001b[39;00m\n\u001b[0;32m      <a href='vscode-notebook-cell:/c%3A/Users/karna/Desktop/Projects/PythonProject/PageRankRecommandation/src/experience_full_data.ipynb#ch0000015?line=8'>9</a>\u001b[0m \t\u001b[39m# R_uk = (R_uk / R_uk.sum(axis=1)).T # Normalization isn't working\u001b[39;00m\n\u001b[0;32m     <a href='vscode-notebook-cell:/c%3A/Users/karna/Desktop/Projects/PythonProject/PageRankRecommandation/src/experience_full_data.ipynb#ch0000015?line=9'>10</a>\u001b[0m \t\u001b[39m#     print(np.abs(np.sum(R_uk - R_uk_old)))\u001b[39;00m\n\u001b[1;32m   (...)\u001b[0m\n\u001b[0;32m     <a href='vscode-notebook-cell:/c%3A/Users/karna/Desktop/Projects/PythonProject/PageRankRecommandation/src/experience_full_data.ipynb#ch0000015?line=12'>13</a>\u001b[0m \t\u001b[39m#         break\u001b[39;00m\n\u001b[0;32m     <a href='vscode-notebook-cell:/c%3A/Users/karna/Desktop/Projects/PythonProject/PageRankRecommandation/src/experience_full_data.ipynb#ch0000015?line=13'>14</a>\u001b[0m \t\u001b[39m# R_uk_old = R_uk.copy()\u001b[39;00m\n\u001b[0;32m     <a href='vscode-notebook-cell:/c%3A/Users/karna/Desktop/Projects/PythonProject/PageRankRecommandation/src/experience_full_data.ipynb#ch0000015?line=15'>16</a>\u001b[0m TR_ki \u001b[39m=\u001b[39m np\u001b[39m.\u001b[39marray(R_uk \u001b[39m@\u001b[39m P_ig) \u001b[39m# It returns a np.mat object which can't be reduced to dimension 1\u001b[39;00m\n",
      "File \u001b[1;32mC:\\ProgramData\\Anaconda3\\lib\\site-packages\\scipy\\sparse\\base.py:560\u001b[0m, in \u001b[0;36mspmatrix.__matmul__\u001b[1;34m(self, other)\u001b[0m\n\u001b[0;32m    <a href='file:///c%3A/ProgramData/Anaconda3/lib/site-packages/scipy/sparse/base.py?line=556'>557</a>\u001b[0m \u001b[39mif\u001b[39;00m isscalarlike(other):\n\u001b[0;32m    <a href='file:///c%3A/ProgramData/Anaconda3/lib/site-packages/scipy/sparse/base.py?line=557'>558</a>\u001b[0m     \u001b[39mraise\u001b[39;00m \u001b[39mValueError\u001b[39;00m(\u001b[39m\"\u001b[39m\u001b[39mScalar operands are not allowed, \u001b[39m\u001b[39m\"\u001b[39m\n\u001b[0;32m    <a href='file:///c%3A/ProgramData/Anaconda3/lib/site-packages/scipy/sparse/base.py?line=558'>559</a>\u001b[0m                      \u001b[39m\"\u001b[39m\u001b[39muse \u001b[39m\u001b[39m'\u001b[39m\u001b[39m*\u001b[39m\u001b[39m'\u001b[39m\u001b[39m instead\u001b[39m\u001b[39m\"\u001b[39m)\n\u001b[1;32m--> <a href='file:///c%3A/ProgramData/Anaconda3/lib/site-packages/scipy/sparse/base.py?line=559'>560</a>\u001b[0m \u001b[39mreturn\u001b[39;00m \u001b[39mself\u001b[39;49m\u001b[39m.\u001b[39;49m\u001b[39m__mul__\u001b[39;49m(other)\n",
      "File \u001b[1;32mC:\\ProgramData\\Anaconda3\\lib\\site-packages\\scipy\\sparse\\base.py:516\u001b[0m, in \u001b[0;36mspmatrix.__mul__\u001b[1;34m(self, other)\u001b[0m\n\u001b[0;32m    <a href='file:///c%3A/ProgramData/Anaconda3/lib/site-packages/scipy/sparse/base.py?line=510'>511</a>\u001b[0m \u001b[39melif\u001b[39;00m other\u001b[39m.\u001b[39mndim \u001b[39m==\u001b[39m \u001b[39m2\u001b[39m:\n\u001b[0;32m    <a href='file:///c%3A/ProgramData/Anaconda3/lib/site-packages/scipy/sparse/base.py?line=511'>512</a>\u001b[0m     \u001b[39m##\u001b[39;00m\n\u001b[0;32m    <a href='file:///c%3A/ProgramData/Anaconda3/lib/site-packages/scipy/sparse/base.py?line=512'>513</a>\u001b[0m     \u001b[39m# dense 2D array or matrix (\"multivector\")\u001b[39;00m\n\u001b[0;32m    <a href='file:///c%3A/ProgramData/Anaconda3/lib/site-packages/scipy/sparse/base.py?line=514'>515</a>\u001b[0m     \u001b[39mif\u001b[39;00m other\u001b[39m.\u001b[39mshape[\u001b[39m0\u001b[39m] \u001b[39m!=\u001b[39m \u001b[39mself\u001b[39m\u001b[39m.\u001b[39mshape[\u001b[39m1\u001b[39m]:\n\u001b[1;32m--> <a href='file:///c%3A/ProgramData/Anaconda3/lib/site-packages/scipy/sparse/base.py?line=515'>516</a>\u001b[0m         \u001b[39mraise\u001b[39;00m \u001b[39mValueError\u001b[39;00m(\u001b[39m'\u001b[39m\u001b[39mdimension mismatch\u001b[39m\u001b[39m'\u001b[39m)\n\u001b[0;32m    <a href='file:///c%3A/ProgramData/Anaconda3/lib/site-packages/scipy/sparse/base.py?line=517'>518</a>\u001b[0m     result \u001b[39m=\u001b[39m \u001b[39mself\u001b[39m\u001b[39m.\u001b[39m_mul_multivector(np\u001b[39m.\u001b[39masarray(other))\n\u001b[0;32m    <a href='file:///c%3A/ProgramData/Anaconda3/lib/site-packages/scipy/sparse/base.py?line=519'>520</a>\u001b[0m     \u001b[39mif\u001b[39;00m \u001b[39misinstance\u001b[39m(other, np\u001b[39m.\u001b[39mmatrix):\n",
      "\u001b[1;31mValueError\u001b[0m: dimension mismatch"
     ]
    }
   ],
   "source": [
    "n_user = len(np.unique(ratings[\"userId\"]))\n",
    "# n_user = 3 ## Use when testing\n",
    "\n",
    "TR_ki_all_user = iterative_TR_ki(n_user, R_uk, tmp_M, P_ig, M_csr, d=0.15, alpha=0.1, iter_max=15)"
   ]
  },
  {
   "cell_type": "markdown",
   "id": "0a9a8aae",
   "metadata": {},
   "source": [
    "## Running some test for a test user"
   ]
  },
  {
   "cell_type": "code",
   "execution_count": 11,
   "id": "357c0f41",
   "metadata": {},
   "outputs": [],
   "source": [
    "## Returns the recommandation for the users\n",
    "def sort_by_best_movie(TR_ki_all_user):\n",
    "\tsorted_movies_all_user = np.zeros_like(TR_ki_all_user)\n",
    "\tfor i in range(len(TR_ki_all_user)):\n",
    "\t\tsorted_movies_all_user[i,:] = np.argsort(TR_ki_all_user[i,:])[::-1]\n",
    "\treturn sorted_movies_all_user"
   ]
  },
  {
   "cell_type": "code",
   "execution_count": 12,
   "id": "c5718f05",
   "metadata": {},
   "outputs": [
    {
     "name": "stdout",
     "output_type": "stream",
     "text": [
      "TR_ki_all_user shape: (610, 9724)\n",
      "test_rating_user_list shape: (610,)\n",
      "TR_ki for test user :\n",
      " [2.93046160e+46 1.96685975e+46 9.19795737e+45 7.29222993e+44\n",
      " 7.18081385e+45 1.66184118e+46 7.31482045e+45 1.72714022e+45\n",
      " 1.60570300e+45 1.94510800e+46]\n"
     ]
    }
   ],
   "source": [
    "test_user_id = 1\n",
    "\n",
    "print(\"TR_ki_all_user shape:\", TR_ki_all_user.shape)\n",
    "print(\"test_rating_user_list shape:\", test_rating_user_list.shape)\n",
    "print(\"TR_ki for test user :\\n\", TR_ki_all_user[test_user_id, :10])"
   ]
  },
  {
   "cell_type": "code",
   "execution_count": 13,
   "id": "00396e95",
   "metadata": {},
   "outputs": [
    {
     "name": "stdout",
     "output_type": "stream",
     "text": [
      "sorted_movies_all_user shape: (610, 9724)\n",
      "Sorted best movies recommandation for test user :\n",
      " [ 314.  257.  224.  277. 1938.  897.  418.   43.    0.  899.]\n"
     ]
    }
   ],
   "source": [
    "sorted_movies_all_user = sort_by_best_movie(TR_ki_all_user)\n",
    "print(\"sorted_movies_all_user shape:\", sorted_movies_all_user.shape)\n",
    "print(\"Sorted best movies recommandation for test user :\\n\", sorted_movies_all_user[test_user_id,:10])"
   ]
  },
  {
   "cell_type": "markdown",
   "id": "967928da",
   "metadata": {},
   "source": [
    "## Running some test for the DOA metrics before computing it on whole user list"
   ]
  },
  {
   "cell_type": "code",
   "execution_count": 14,
   "id": "43786ec9",
   "metadata": {},
   "outputs": [],
   "source": [
    "## Computes DOA score for a specific user\n",
    "def compute_doa_score(TR_ki, test_rating_user, unwatched_user):\n",
    "\tscore = 0\n",
    "\tfor m_i in test_rating_user:\n",
    "\t\tfor m_j in unwatched_user:\n",
    "\t\t\tif TR_ki[int(m_i)] > TR_ki[int(m_j)]:\n",
    "\t\t\t\tscore += 1\n",
    "\treturn score / (len(test_rating_user) * len(unwatched_user))\n",
    "\n",
    "## Computes DOA for the whole user list\n",
    "def compute_all_doa(TR_ki_all_user, test_rating_user_list):\n",
    "\tscore = 0\n",
    "\tn_user = TR_ki_all_user.shape[0]\n",
    "\tfor user_id in range(n_user):\n",
    "\t\ttmp = test_rating_user_list[user_id]\n",
    "\t\ttest_films = tmp[:,1]\n",
    "\t\tTR_ki = TR_ki_all_user[user_id]\n",
    "\t\t_, _, unwatched_films = get_infos_user(user_id)\n",
    "\t\tscore += compute_doa_score(TR_ki, test_films, unwatched_films)\n",
    "\treturn score / n_user\n",
    "\n",
    "def test_doa_user(n_user, n_film_test):\n",
    "\tfor test_user_id in range(n_user):\n",
    "\t\tprint(\"---------- Testing user number\", test_user_id, \"----------\")\n",
    "\t\ttest = test_rating_user_list[test_user_id]\n",
    "\t\ttest_films = test[:,1]\n",
    "\t\tTR_ki = TR_ki_all_user[test_user_id]\n",
    "\t\t_, _, unwatched_films = get_infos_user(test_user_id)\n",
    "\t\tprint(\"Some movies from test set:\")\n",
    "\t\tprint(test_films[:n_film_test])\n",
    "\t\tprint(\"Some movies from unwatched set:\")\n",
    "\t\tprint(unwatched_films[:n_film_test])\n",
    "\t\tprint(\"Some score for test set (movies watched by user):\")\n",
    "\t\tfor i in test_films[:n_film_test]:\n",
    "\t\t\tprint(TR_ki[int(i)])\n",
    "\t\tprint(\"Some score for unwatched movies:\")\n",
    "\t\tfor i in unwatched_films[:n_film_test]:\n",
    "\t\t\tprint(TR_ki[int(i)])\n",
    "\t\tprint(\"Total DOA score for this user :\", compute_doa_score(TR_ki, test_films, unwatched_films))"
   ]
  },
  {
   "cell_type": "code",
   "execution_count": 15,
   "id": "4974fbec",
   "metadata": {},
   "outputs": [
    {
     "name": "stdout",
     "output_type": "stream",
     "text": [
      "---------- Testing user number 0 ----------\n",
      "Some movies from test set:\n",
      "[2156. 2181. 2192. 2214.]\n",
      "Some movies from unwatched set:\n",
      "[1, 3, 4, 6]\n",
      "Some score for test set (movies watched by user):\n",
      "5.146217412576088e+45\n",
      "0.004195459032576507\n",
      "1.620491243406999e+46\n",
      "5.50076201994018e+45\n",
      "Some score for unwatched movies:\n",
      "2.0152187453129057e+46\n",
      "7.471523319482544e+44\n",
      "7.357367855637517e+45\n",
      "7.49466926857134e+45\n",
      "Total DOA score for this user : 0.9124167271879567\n"
     ]
    }
   ],
   "source": [
    "test_doa_user(n_user=1, n_film_test=4)"
   ]
  },
  {
   "cell_type": "markdown",
   "id": "1c4d5093",
   "metadata": {},
   "source": [
    "## Computing final DOA metric for the whole dataset"
   ]
  },
  {
   "cell_type": "code",
   "execution_count": 16,
   "id": "b86cee92",
   "metadata": {},
   "outputs": [
    {
     "name": "stdout",
     "output_type": "stream",
     "text": [
      "DOA for all users : 0.7533029762621265\n"
     ]
    }
   ],
   "source": [
    "print(\"DOA for all users :\", compute_all_doa(TR_ki_all_user, test_rating_user_list))"
   ]
  },
  {
   "cell_type": "markdown",
   "id": "cd92bb73",
   "metadata": {},
   "source": [
    "## Building a dataset to do an experiment campaign"
   ]
  },
  {
   "cell_type": "code",
   "execution_count": 43,
   "id": "4cd6f3ee",
   "metadata": {},
   "outputs": [],
   "source": [
    "def build_experimental_dataset(movies, TR_ki_all_user, train_rating_user_list, test_rating_user_list, n_user, n_film_test):\n",
    "\tdataset = []\n",
    "\tdict_id_title = dict(zip(list(movies['movieId']),list(movies['title'])))\n",
    "\tfor userId in tqdm(range(n_user)):\n",
    "\t\twatched_user = train_rating_user_list[userId][:,1].astype(int)\n",
    "\t\ttest_rating_user = test_rating_user_list[userId][:,1].astype(int)\n",
    "\t\t_, _, unwatched_user = get_infos_user(userId)\n",
    "\t\tunwatched_user = np.append(test_rating_user, unwatched_user)\n",
    "\n",
    "\t\tind_sort =  np.argsort(TR_ki_all_user[userId,:])[::-1]\n",
    "\t\tunwatched_user_final = []\n",
    "\t\tfor ind in ind_sort :\n",
    "\t\t\tif ind not in watched_user:\n",
    "\t\t\t\tunwatched_user_final.append(ind)\n",
    "\n",
    "\t\twatched_user = np.random.choice(np.array(watched_user), size=n_film_test)\n",
    "\t\tunwatched_user_reco = unwatched_user_final[:n_film_test]\n",
    "\t\tunwatched_user_rand = np.random.choice(np.array(unwatched_user_final[n_film_test+1:]), size=n_film_test)\n",
    "\n",
    "\t\twatched_user_dict = { str(movieId) : dict_id_title[movieId] for movieId in watched_user } \n",
    "\t\treco_user_dict = { str(movieId) : dict_id_title[movieId] for movieId in unwatched_user_reco } \n",
    "\t\tunwatched_user_dict = { str(movieId) : dict_id_title[movieId] for movieId in unwatched_user_rand }\n",
    "\n",
    "\t\tdataset.append((watched_user_dict, reco_user_dict, unwatched_user_dict))\n",
    "\n",
    "\treturn np.array(dataset)"
   ]
  },
  {
   "cell_type": "code",
   "execution_count": 44,
   "id": "dd2525da",
   "metadata": {},
   "outputs": [
    {
     "name": "stderr",
     "output_type": "stream",
     "text": [
      "100%|██████████| 610/610 [00:31<00:00, 19.25it/s]\n"
     ]
    }
   ],
   "source": [
    "dataset = build_experimental_dataset(movies, TR_ki_all_user, train_rating_user_list, test_rating_user_list, n_user, n_film_test=5)"
   ]
  },
  {
   "cell_type": "code",
   "execution_count": 45,
   "id": "820e5ce9",
   "metadata": {},
   "outputs": [
    {
     "data": {
      "text/plain": [
       "(610, 3)"
      ]
     },
     "execution_count": 45,
     "metadata": {},
     "output_type": "execute_result"
    }
   ],
   "source": [
    "dataset.shape"
   ]
  },
  {
   "cell_type": "markdown",
   "id": "0d337118",
   "metadata": {},
   "source": [
    "## Testing our experiment dataset"
   ]
  },
  {
   "cell_type": "code",
   "execution_count": 46,
   "id": "398f5e8e",
   "metadata": {},
   "outputs": [
    {
     "name": "stdout",
     "output_type": "stream",
     "text": [
      "[{'201': 'Ed Wood (1994)', '551': 'James and the Giant Peach (1996)', '124': 'Rob Roy (1995)', '828': 'Platoon (1986)', '384': 'Dazed and Confused (1993)'}\n",
      " {'277': 'Shawshank Redemption, The (1994)', '2224': 'Fight Club (1999)', '659': 'Godfather, The (1972)', '507': 'Terminator 2: Judgment Day (1991)', '31': 'Twelve Monkeys (a.k.a. 12 Monkeys) (1995)'}\n",
      " {'9608': 'Gaga: Five Foot Two (2017)', '9208': 'The Brothers Grimsby (2016)', '4623': 'Interstate 60 (2002)', '6716': 'Happy-Go-Lucky (2008)', '7056': 'Hood of Horror (2006)'}]\n"
     ]
    }
   ],
   "source": [
    "userId = 0\n",
    "print(dataset[userId])"
   ]
  },
  {
   "cell_type": "code",
   "execution_count": 77,
   "id": "14d9cdef",
   "metadata": {},
   "outputs": [
    {
     "data": {
      "text/plain": [
       "['Shawshank Redemption, The (1994)',\n",
       " 'Fight Club (1999)',\n",
       " 'Godfather, The (1972)',\n",
       " 'Terminator 2: Judgment Day (1991)',\n",
       " 'Twelve Monkeys (a.k.a. 12 Monkeys) (1995)']"
      ]
     },
     "execution_count": 77,
     "metadata": {},
     "output_type": "execute_result"
    }
   ],
   "source": []
  },
  {
   "cell_type": "code",
   "execution_count": 96,
   "id": "b693ceee",
   "metadata": {},
   "outputs": [
    {
     "data": {
      "text/plain": [
       "(array(['2001: A Space Odyssey (1968)',\n",
       "        'Ace Ventura: Pet Detective (1994)',\n",
       "        'Ace Ventura: When Nature Calls (1995)', 'Alien (1979)',\n",
       "        'Aliens (1986)', 'American Beauty (1999)', 'American Pie (1999)',\n",
       "        'Apollo 13 (1995)', 'As Good as It Gets (1997)', 'Babe (1995)',\n",
       "        'Back to the Future (1985)', 'Batman (1989)',\n",
       "        'Big Lebowski, The (1998)', 'Blade Runner (1982)',\n",
       "        'Blues Brothers, The (1980)', 'Braveheart (1995)',\n",
       "        'Breakfast Club, The (1985)', 'Casablanca (1942)',\n",
       "        'Clockwork Orange, A (1971)', 'Dances with Wolves (1990)',\n",
       "        'Die Hard (1988)', 'Die Hard: With a Vengeance (1995)',\n",
       "        'Dr. Strangelove or: How I Learned to Stop Worrying and Love the Bomb (1964)',\n",
       "        'Dumb & Dumber (Dumb and Dumber) (1994)',\n",
       "        'E.T. the Extra-Terrestrial (1982)', 'Fargo (1996)',\n",
       "        'Fifth Element, The (1997)', 'Fight Club (1999)',\n",
       "        'Finding Nemo (2003)', 'Forrest Gump (1994)',\n",
       "        'Full Metal Jacket (1987)', 'Gattaca (1997)',\n",
       "        'Ghostbusters (a.k.a. Ghost Busters) (1984)',\n",
       "        'Godfather, The (1972)', 'Godfather: Part II, The (1974)',\n",
       "        'GoldenEye (1995)', 'Good Will Hunting (1997)',\n",
       "        'Goodfellas (1990)', 'Groundhog Day (1993)',\n",
       "        'Independence Day (a.k.a. ID4) (1996)',\n",
       "        'Indiana Jones and the Temple of Doom (1984)',\n",
       "        'Jurassic Park (1993)', 'L.A. Confidential (1997)',\n",
       "        'Life Is Beautiful (La Vita è bella) (1997)',\n",
       "        'Lion King, The (1994)',\n",
       "        'Lord of the Rings: The Fellowship of the Ring, The (2001)',\n",
       "        'Lord of the Rings: The Two Towers, The (2002)',\n",
       "        'Léon: The Professional (a.k.a. The Professional) (Léon) (1994)',\n",
       "        'Mask, The (1994)', 'Matrix, The (1999)',\n",
       "        'Men in Black (a.k.a. MIB) (1997)',\n",
       "        'Monty Python and the Holy Grail (1975)',\n",
       "        \"Monty Python's Life of Brian (1979)\",\n",
       "        \"One Flew Over the Cuckoo's Nest (1975)\",\n",
       "        'Princess Bride, The (1987)', 'Psycho (1960)',\n",
       "        'Pulp Fiction (1994)',\n",
       "        'Raiders of the Lost Ark (Indiana Jones and the Raiders of the Lost Ark) (1981)',\n",
       "        'Reservoir Dogs (1992)', 'Santa Clause, The (1994)',\n",
       "        'Saving Private Ryan (1998)', \"Schindler's List (1993)\",\n",
       "        'Seven (a.k.a. Se7en) (1995)', 'Shawshank Redemption, The (1994)',\n",
       "        'Shining, The (1980)', 'Silence of the Lambs, The (1991)',\n",
       "        'Sixth Sense, The (1999)', 'Speed (1994)',\n",
       "        'Star Wars: Episode I - The Phantom Menace (1999)',\n",
       "        'Star Wars: Episode IV - A New Hope (1977)',\n",
       "        'Star Wars: Episode V - The Empire Strikes Back (1980)',\n",
       "        'Star Wars: Episode VI - Return of the Jedi (1983)',\n",
       "        'Taxi Driver (1976)', 'Terminator 2: Judgment Day (1991)',\n",
       "        'Terminator, The (1984)', 'Titanic (1997)', 'Toy Story (1995)',\n",
       "        'Trainspotting (1996)', 'True Lies (1994)',\n",
       "        'Truman Show, The (1998)',\n",
       "        'Twelve Monkeys (a.k.a. 12 Monkeys) (1995)',\n",
       "        'Usual Suspects, The (1995)'], dtype='<U78'),\n",
       " array([  1,   3,   1,   6,   2,   9,   1,  10,   1,   1,  15,   1,   1,\n",
       "          2,   1,  58,   3,   2,   1,   1,   9,   2,   2,   2,   4,   7,\n",
       "          2,  58,   1, 281,   1,   1,   1,  22,   3,   1,   6,   1,   9,\n",
       "          2,   3, 209,   2,   1,  16,   1,   1,   2,   6, 340,  33,  12,\n",
       "          1,   1,   5,   1, 303,  92,   5,   1,  20,   5, 184, 294,   1,\n",
       "         27,   9,  17,   3, 359, 306,  27,   1,  12,   1,   3, 141,   1,\n",
       "          7,   7,  19,  36], dtype=int64))"
      ]
     },
     "execution_count": 96,
     "metadata": {},
     "output_type": "execute_result"
    }
   ],
   "source": [
    "test = []\n",
    "for i in range(len(dataset[:,1])):\n",
    "\ttest.append(list(dataset[:,1][i].values()))\n",
    "test = np.array(test).flatten()\n",
    "\n",
    "np.unique(test, return_counts=True)"
   ]
  },
  {
   "cell_type": "code",
   "execution_count": 47,
   "id": "2fff6b2f",
   "metadata": {},
   "outputs": [
    {
     "name": "stdout",
     "output_type": "stream",
     "text": [
      "[{'6236': 'Talladega Nights: The Ballad of Ricky Bobby (2006)', '7137': 'Zombieland (2009)', '5294': 'Collateral (2004)', '7241': 'Shutter Island (2010)', '8045': 'Django Unchained (2012)'}\n",
      " {'314': 'Forrest Gump (1994)', '257': 'Pulp Fiction (1994)', '224': 'Star Wars: Episode IV - A New Hope (1977)', '1938': 'Matrix, The (1999)', '897': 'Star Wars: Episode V - The Empire Strikes Back (1980)'}\n",
      " {'9329': 'Sully (2016)', '569': 'True Crime (1996)', '5785': 'Because of Winn-Dixie (2005)', '4875': 'EuroTrip (2004)', '5139': 'Mitchell (1975)'}]\n"
     ]
    }
   ],
   "source": [
    "userId = 1\n",
    "print(dataset[userId])"
   ]
  },
  {
   "cell_type": "code",
   "execution_count": 48,
   "id": "5db19137",
   "metadata": {},
   "outputs": [
    {
     "data": {
      "text/plain": [
       "array([[{'201': 'Ed Wood (1994)', '551': 'James and the Giant Peach (1996)', '124': 'Rob Roy (1995)', '828': 'Platoon (1986)', '384': 'Dazed and Confused (1993)'},\n",
       "        {'277': 'Shawshank Redemption, The (1994)', '2224': 'Fight Club (1999)', '659': 'Godfather, The (1972)', '507': 'Terminator 2: Judgment Day (1991)', '31': 'Twelve Monkeys (a.k.a. 12 Monkeys) (1995)'},\n",
       "        {'9608': 'Gaga: Five Foot Two (2017)', '9208': 'The Brothers Grimsby (2016)', '4623': 'Interstate 60 (2002)', '6716': 'Happy-Go-Lucky (2008)', '7056': 'Hood of Horror (2006)'}],\n",
       "       [{'6236': 'Talladega Nights: The Ballad of Ricky Bobby (2006)', '7137': 'Zombieland (2009)', '5294': 'Collateral (2004)', '7241': 'Shutter Island (2010)', '8045': 'Django Unchained (2012)'},\n",
       "        {'314': 'Forrest Gump (1994)', '257': 'Pulp Fiction (1994)', '224': 'Star Wars: Episode IV - A New Hope (1977)', '1938': 'Matrix, The (1999)', '897': 'Star Wars: Episode V - The Empire Strikes Back (1980)'},\n",
       "        {'9329': 'Sully (2016)', '569': 'True Crime (1996)', '5785': 'Because of Winn-Dixie (2005)', '4875': 'EuroTrip (2004)', '5139': 'Mitchell (1975)'}],\n",
       "       [{'545': 'Courage Under Fire (1996)', '2278': 'Piranha (1978)', '1552': 'Rescuers, The (1977)', '4039': 'Galaxy of Terror (Quest) (1981)', '2140': 'Saturn 3 (1980)'},\n",
       "        {'314': 'Forrest Gump (1994)', '257': 'Pulp Fiction (1994)', '224': 'Star Wars: Episode IV - A New Hope (1977)', '277': 'Shawshank Redemption, The (1994)', '1938': 'Matrix, The (1999)'},\n",
       "        {'1015': 'Amityville Horror, The (1979)', '6857': 'Pride and Glory (2008)', '7497': 'Trip, The (2010)', '5130': 'Masterminds (1997)', '4326': 'Spellbound (2002)'}],\n",
       "       [{'109': 'NeverEnding Story III, The (1994)', '818': 'Fish Called Wanda, A (1988)', '2013': 'Austin Powers: The Spy Who Shagged Me (1999)', '680': 'Philadelphia Story, The (1940)', '20': 'Get Shorty (1995)'},\n",
       "        {'314': 'Forrest Gump (1994)', '277': 'Shawshank Redemption, The (1994)', '418': 'Jurassic Park (1993)', '0': 'Toy Story (1995)', '97': 'Braveheart (1995)'},\n",
       "        {'2945': 'Dr. T and the Women (2000)', '9643': 'Too Funny to Fail: The Life and Death of The Dana Carvey Show (2017)', '8966': 'Joe Dirt 2: Beautiful Loser (2015)', '6332': 'Déjà Vu (Deja Vu) (2006)', '1679': 'One Crazy Summer (1986)'}],\n",
       "       [{'225': 'Little Women (1994)', '32': 'Babe (1995)', '315': 'Four Weddings and a Funeral (1994)', '35': 'Clueless (1995)', '52': 'Postman, The (Postino, Il) (1994)'},\n",
       "        {'314': 'Forrest Gump (1994)', '224': 'Star Wars: Episode IV - A New Hope (1977)', '1938': 'Matrix, The (1999)', '897': 'Star Wars: Episode V - The Empire Strikes Back (1980)', '418': 'Jurassic Park (1993)'},\n",
       "        {'3016': 'Annie (1982)', '8138': 'Shaolin Temple (Shao Lin si) (1976)', '4078': 'Houseboat (1958)', '3638': 'Topkapi (1964)', '6564': 'Game Plan, The (2007)'}],\n",
       "       [{'320': 'Jungle Book, The (1994)', '225': 'Little Women (1994)', '494': 'Little Big League (1994)', '152': 'Mallrats (1995)', '473': 'Sliver (1993)'},\n",
       "        {'224': 'Star Wars: Episode IV - A New Hope (1977)', '1938': 'Matrix, The (1999)', '897': 'Star Wars: Episode V - The Empire Strikes Back (1980)', '0': 'Toy Story (1995)', '899': 'Raiders of the Lost Ark (Indiana Jones and the Raiders of the Lost Ark) (1981)'},\n",
       "        {'6124': 'Date Movie (2006)', '7710': 'Shame (2011)', '2575': 'Good Earth, The (1937)', '1931': 'True Crime (1999)', '7332': 'Back-up Plan, The (2010)'}],\n",
       "       [{'2832': 'X-Men (2000)', '314': 'Forrest Gump (1994)', '3633': 'Lord of the Rings: The Fellowship of the Ring, The (2001)', '1904': 'Planet of the Apes (1968)', '3885': 'Road to Perdition (2002)'},\n",
       "        {'257': 'Pulp Fiction (1994)', '277': 'Shawshank Redemption, The (1994)', '1938': 'Matrix, The (1999)', '43': 'Seven (a.k.a. Se7en) (1995)', '899': 'Raiders of the Lost Ark (Indiana Jones and the Raiders of the Lost Ark) (1981)'},\n",
       "        {'1120': \"Vegas Vacation (National Lampoon's Las Vegas Vacation) (1997)\", '642': 'Adventures of Pinocchio, The (1996)', '6614': 'Alvin and the Chipmunks (2007)', '1348': 'City of Angels (1998)', '4669': \"Passion of Joan of Arc, The (Passion de Jeanne d'Arc, La) (1928)\"}],\n",
       "       [{'156': 'Net, The (1995)', '322': 'Lion King, The (1994)', '276': 'Santa Clause, The (1994)', '325': 'Mask, The (1994)', '202': 'French Kiss (1995)'},\n",
       "        {'224': 'Star Wars: Episode IV - A New Hope (1977)', '1938': 'Matrix, The (1999)', '897': 'Star Wars: Episode V - The Empire Strikes Back (1980)', '418': 'Jurassic Park (1993)', '0': 'Toy Story (1995)'},\n",
       "        {'5365': 'Polar Express, The (2004)', '891': 'Thin Blue Line, The (1988)', '6925': 'Zeitgeist: Addendum (2008)', '8899': 'Star Trek Beyond (2016)', '104': 'Steal Big, Steal Little (1995)'}],\n",
       "       [{'3352': 'Twins (1988)', '4082': 'Return to the Blue Lagoon (1991)', '190': 'Clerks (1994)', '3074': 'Making Mr. Right (1987)'},\n",
       "        {'314': 'Forrest Gump (1994)', '257': 'Pulp Fiction (1994)', '224': 'Star Wars: Episode IV - A New Hope (1977)', '277': 'Shawshank Redemption, The (1994)', '1938': 'Matrix, The (1999)'},\n",
       "        {'2840': \"Mackenna's Gold (1969)\", '3833': 'Enough (2002)', '687': 'It Happened One Night (1934)', '246': 'New York Cop (Nyû Yôku no koppu) (1993)', '3032': 'Coffy (1973)'}],\n",
       "       [{'4858': '50 First Dates (2004)', '3826': 'About a Boy (2002)', '4791': 'Lord of the Rings: The Return of the King, The (2003)', '4136': 'Two Weeks Notice (2002)', '6056': 'Match Point (2005)'},\n",
       "        {'224': 'Star Wars: Episode IV - A New Hope (1977)', '277': 'Shawshank Redemption, The (1994)', '897': 'Star Wars: Episode V - The Empire Strikes Back (1980)', '418': 'Jurassic Park (1993)', '43': 'Seven (a.k.a. Se7en) (1995)'},\n",
       "        {'6295': 'Guardian, The (2006)', '2551': '...And Justice for All (1979)', '3382': 'January Man, The (1989)', '1910': 'Earthquake (1974)', '7911': 'Ice Age 4: Continental Drift (2012)'}],\n",
       "       [{'1198': 'Conspiracy Theory (1997)', '333': 'River Wild, The (1994)', '138': 'Die Hard: With a Vengeance (1995)', '253': 'Outbreak (1995)', '1205': 'Money Talks (1997)'},\n",
       "        {'257': 'Pulp Fiction (1994)', '224': 'Star Wars: Episode IV - A New Hope (1977)', '1938': 'Matrix, The (1999)', '897': 'Star Wars: Episode V - The Empire Strikes Back (1980)', '43': 'Seven (a.k.a. Se7en) (1995)'},\n",
       "        {'2406': 'Presidio, The (1988)', '8235': 'What If (2013)', '7661': 'Conan the Barbarian (2011)', '2266': 'Rosetta (1999)', '3474': '3 Ninjas (1992)'}],\n",
       "       [{'1820': 'Karate Kid, Part II, The (1986)', '2727': 'Romeo and Juliet (1968)', '220': 'Junior (1994)', '1290': 'Titanic (1997)', '476': 'So I Married an Axe Murderer (1993)'},\n",
       "        {'314': 'Forrest Gump (1994)', '257': 'Pulp Fiction (1994)', '224': 'Star Wars: Episode IV - A New Hope (1977)', '277': 'Shawshank Redemption, The (1994)', '1938': 'Matrix, The (1999)'},\n",
       "        {'2637': 'American Psycho (2000)', '1965': 'Winslow Boy, The (1999)', '1755': 'Rugrats Movie, The (1998)', '4681': 'Hudson Hawk (1991)', '2693': 'Small Time Crooks (2000)'}],\n",
       "       [{'899': 'Raiders of the Lost Ark (Indiana Jones and the Raiders of the Lost Ark) (1981)', '514': 'Pretty Woman (1990)', '1218': 'Seven Years in Tibet (1997)', '2836': 'What Lies Beneath (2000)'},\n",
       "        {'314': 'Forrest Gump (1994)', '257': 'Pulp Fiction (1994)', '224': 'Star Wars: Episode IV - A New Hope (1977)', '277': 'Shawshank Redemption, The (1994)', '897': 'Star Wars: Episode V - The Empire Strikes Back (1980)'},\n",
       "        {'8987': 'Madly in Love (1981)', '6674': 'Descent (2007)', '6571': 'Elizabeth: The Golden Age (2007)', '134': 'Crimson Tide (1995)', '5031': 'Tremors 3: Back to Perfection (2001)'}],\n",
       "       [{'333': 'River Wild, The (1994)', '418': 'Jurassic Park (1993)', '297': 'While You Were Sleeping (1995)', '43': 'Seven (a.k.a. Se7en) (1995)'},\n",
       "        {'224': 'Star Wars: Episode IV - A New Hope (1977)', '1938': 'Matrix, The (1999)', '897': 'Star Wars: Episode V - The Empire Strikes Back (1980)', '0': 'Toy Story (1995)', '899': 'Raiders of the Lost Ark (Indiana Jones and the Raiders of the Lost Ark) (1981)'},\n",
       "        {'6432': 'Black Book (Zwartboek) (2006)', '5981': 'Frankenstein 90 (1984)', '4669': \"Passion of Joan of Arc, The (Passion de Jeanne d'Arc, La) (1928)\", '1146': 'Kissed (1996)', '2781': 'Assault on Precinct 13 (1976)'}],\n",
       "       [{'6905': 'Gran Torino (2008)', '3456': 'Others, The (2001)', '7524': 'Adjustment Bureau, The (2011)', '7116': 'Cloudy with a Chance of Meatballs (2009)', '910': 'Star Wars: Episode VI - Return of the Jedi (1983)'},\n",
       "        {'418': 'Jurassic Park (1993)', '97': 'Braveheart (1995)', '510': 'Silence of the Lambs, The (1991)', '46': 'Usual Suspects, The (1995)', '1182': 'Men in Black (a.k.a. MIB) (1997)'},\n",
       "        {'5032': 'Notorious C.H.O. (2002)', '6370': 'Hitcher, The (2007)', '7014': 'Night at the Museum: Battle of the Smithsonian (2009)', '3977': 'Invincible (2001)', '7690': 'Three Outlaw Samurai (Sanbiki no samurai) (1964)'}],\n",
       "       [{'1264': 'Sliding Doors (1998)', '897': 'Star Wars: Episode V - The Empire Strikes Back (1980)', '278': 'Shallow Grave (1994)', '922': 'Full Metal Jacket (1987)', '1570': 'Jerk, The (1979)'},\n",
       "        {'418': 'Jurassic Park (1993)', '0': 'Toy Story (1995)', '97': 'Braveheart (1995)', '910': 'Star Wars: Episode VI - Return of the Jedi (1983)', '1182': 'Men in Black (a.k.a. MIB) (1997)'},\n",
       "        {'1149': \"Romy and Michele's High School Reunion (1997)\", '7324': 'Shake Hands with the Devil (2007)', '1207': 'Kull the Conqueror (1997)', '3443': 'Chocolat (1988)', '7127': 'Cove, The (2009)'}],\n",
       "       [{'2565': 'Double Indemnity (1944)', '928': 'Raging Bull (1980)', '4131': 'Lord of the Rings: The Two Towers, The (2002)', '474': 'Blade Runner (1982)', '1080': 'Beavis and Butt-Head Do America (1996)'},\n",
       "        {'1182': 'Men in Black (a.k.a. MIB) (1997)', '31': 'Twelve Monkeys (a.k.a. 12 Monkeys) (1995)', '334': 'Speed (1994)', '862': 'Monty Python and the Holy Grail (1975)', '520': 'Fargo (1996)'},\n",
       "        {'373': 'Cabin Boy (1994)', '3168': 'Under the Sand (2000)', '5314': 'Camera Buff (Amator) (1979)', '6379': \"Smokin' Aces (2006)\", '7991': '[REC]³ 3 Génesis (2012)'}],\n",
       "       [{'5495': 'Hitch Hikers Guide to the Galaxy, The (1981)', '31': 'Twelve Monkeys (a.k.a. 12 Monkeys) (1995)', '1871': 'Payback (1999)', '968': 'Back to the Future (1985)', '4350': 'Bruce Almighty (2003)'},\n",
       "        {'2144': 'American Beauty (1999)', '963': 'Groundhog Day (1993)', '123': 'Apollo 13 (1995)', '1978': 'Star Wars: Episode I - The Phantom Menace (1999)', '835': 'E.T. the Extra-Terrestrial (1982)'},\n",
       "        {'8184': \"World's End, The (2013)\", '8335': 'Nymphomaniac: Volume I (2013)', '4016': 'Naqoyqatsi (2002)', '3819': 'White Fang (1991)', '483': 'Nightmare Before Christmas, The (1993)'}],\n",
       "       [{'1303': 'Wag the Dog (1997)', '967': 'Arsenic and Old Lace (1944)', '507': 'Terminator 2: Judgment Day (1991)', '1251': 'Stripes (1981)', '2144': 'American Beauty (1999)'},\n",
       "        {'257': 'Pulp Fiction (1994)', '277': 'Shawshank Redemption, The (1994)', '97': 'Braveheart (1995)', '510': 'Silence of the Lambs, The (1991)', '46': 'Usual Suspects, The (1995)'},\n",
       "        {'8146': 'Only God Forgives (2013)', '6927': 'Ponyo (Gake no ue no Ponyo) (2008)', '677': 'Mother Night (1996)', '4736': 'Macbeth (a.k.a. Tragedy of Macbeth, The) (1971)', '6940': 'Inkheart (2008)'}],\n",
       "       [{'785': 'Mary Poppins (1964)', '3152': \"Bridget Jones's Diary (2001)\", '3225': 'Atlantis: The Lost Empire (2001)', '1562': 'Splash (1984)', '2972': 'How the Grinch Stole Christmas (a.k.a. The Grinch) (2000)'},\n",
       "        {'314': 'Forrest Gump (1994)', '257': 'Pulp Fiction (1994)', '224': 'Star Wars: Episode IV - A New Hope (1977)', '277': 'Shawshank Redemption, The (1994)', '1938': 'Matrix, The (1999)'},\n",
       "        {'2771': 'Long Walk Home, The (1990)', '4040': 'Gallipoli (1981)', '6108': 'Annapolis (2006)', '5410': 'Wuthering Heights (1939)', '3525': 'Swamp, The (Ciénaga, La) (2001)'}],\n",
       "       [{'599': 'Wallace & Gromit: A Close Shave (1995)', '2325': 'World Is Not Enough, The (1999)', '8278': 'Hobbit: The Desolation of Smaug, The (2013)', '793': 'Die Hard (1988)', '989': 'Indiana Jones and the Last Crusade (1989)'},\n",
       "        {'277': 'Shawshank Redemption, The (1994)', '43': 'Seven (a.k.a. Se7en) (1995)', '97': 'Braveheart (1995)', '510': 'Silence of the Lambs, The (1991)', '46': 'Usual Suspects, The (1995)'},\n",
       "        {'6576': 'Gone Baby Gone (2007)', '3624': \"Bill & Ted's Bogus Journey (1991)\", '4056': 'Truth About Charlie, The (2002)', '6357': 'DOA: Dead or Alive (2006)', '2552': 'Animal House (1978)'}],\n",
       "       [{'4522': 'Lost in Translation (2003)', '6491': 'Death Proof (2007)', '2604': 'Hook (1991)', '895': \"One Flew Over the Cuckoo's Nest (1975)\", '3635': 'Beautiful Mind, A (2001)'},\n",
       "        {'257': 'Pulp Fiction (1994)', '224': 'Star Wars: Episode IV - A New Hope (1977)', '1938': 'Matrix, The (1999)', '897': 'Star Wars: Episode V - The Empire Strikes Back (1980)', '418': 'Jurassic Park (1993)'},\n",
       "        {'135': 'Crumb (1994)', '7463': 'Rare Exports: A Christmas Tale (Rare Exports) (2010)', '8357': 'That Awkward Moment (2014)', '5956': 'Red Eye (2005)', '4497': 'Dracula (1979)'}],\n",
       "       [{'946': 'Touch of Evil (1958)', '661': 'Bound (1996)', '1335': 'Fireworks (Hana-bi) (1997)', '918': 'Killer, The (Die xue shuang xiong) (1989)', '895': \"One Flew Over the Cuckoo's Nest (1975)\"},\n",
       "        {'314': 'Forrest Gump (1994)', '224': 'Star Wars: Episode IV - A New Hope (1977)', '277': 'Shawshank Redemption, The (1994)', '1938': 'Matrix, The (1999)', '897': 'Star Wars: Episode V - The Empire Strikes Back (1980)'},\n",
       "        {'5478': 'French Connection II (1975)', '1892': 'Children of the Corn III (1994)', '6059': 'King Kong (2005)', '5515': \"'Round Midnight (1986)\", '2436': 'Agnes of God (1985)'}],\n",
       "       [{'3868': 'Minority Report (2002)', '4342': 'Laputa: Castle in the Sky (Tenkû no shiro Rapyuta) (1986)', '277': 'Shawshank Redemption, The (1994)', '1283': 'Good Will Hunting (1997)', '3162': 'Scarface (1983)'},\n",
       "        {'224': 'Star Wars: Episode IV - A New Hope (1977)', '897': 'Star Wars: Episode V - The Empire Strikes Back (1980)', '418': 'Jurassic Park (1993)', '43': 'Seven (a.k.a. Se7en) (1995)', '0': 'Toy Story (1995)'},\n",
       "        {'6609': 'Enchanted (2007)', '4506': 'Medallion, The (2003)', '5476': 'Holy Mountain, The (Montaña sagrada, La) (1973)', '5060': 'Ken Park (2002)', '4504': 'Revolution OS (2001)'}],\n",
       "       [{'6693': 'Dark Knight, The (2008)', '1938': 'Matrix, The (1999)', '6755': 'WALL·E (2008)', '461': \"Schindler's List (1993)\", '2670': 'Gladiator (2000)'},\n",
       "        {'314': 'Forrest Gump (1994)', '257': 'Pulp Fiction (1994)', '277': 'Shawshank Redemption, The (1994)', '897': 'Star Wars: Episode V - The Empire Strikes Back (1980)', '418': 'Jurassic Park (1993)'},\n",
       "        {'5290': 'Village, The (2004)', '1799': 'Prancer (1989)', '1597': 'Dark Crystal, The (1982)', '1145': 'Grosse Pointe Blank (1997)', '926': 'Quiet Man, The (1952)'}],\n",
       "       [{'43': 'Seven (a.k.a. Se7en) (1995)', '9': 'GoldenEye (1995)', '138': 'Die Hard: With a Vengeance (1995)', '314': 'Forrest Gump (1994)', '307': 'Clear and Present Danger (1994)'},\n",
       "        {'224': 'Star Wars: Episode IV - A New Hope (1977)', '277': 'Shawshank Redemption, The (1994)', '1938': 'Matrix, The (1999)', '897': 'Star Wars: Episode V - The Empire Strikes Back (1980)', '418': 'Jurassic Park (1993)'},\n",
       "        {'2007': 'Thirteenth Floor, The (1999)', '5351': 'Surviving Christmas (2004)', '2508': 'Breaking Away (1979)', '1194': 'Air Bud (1997)', '1943': 'Metroland (1997)'}],\n",
       "       [{'1718': '2010: The Year We Make Contact (1984)', '508': 'Dances with Wolves (1990)', '1805': 'Romancing the Stone (1984)', '751': 'Fly Away Home (1996)', '948': 'Bridge on the River Kwai, The (1957)'},\n",
       "        {'257': 'Pulp Fiction (1994)', '277': 'Shawshank Redemption, The (1994)', '1938': 'Matrix, The (1999)', '43': 'Seven (a.k.a. Se7en) (1995)', '2224': 'Fight Club (1999)'},\n",
       "        {'9049': 'Into the Forest (2015)', '4728': 'National Velvet (1944)', '4774': 'King of Hearts (1966)', '3058': 'Flowers in the Attic (1987)', '6783': 'Felon (2008)'}],\n",
       "       [{'4153': 'Catch Me If You Can (2002)', '2246': 'RoboCop (1987)', '6315': 'Flags of Our Fathers (2006)', '2741': 'Blood Simple (1984)', '510': 'Silence of the Lambs, The (1991)'},\n",
       "        {'0': 'Toy Story (1995)', '968': 'Back to the Future (1985)', '322': 'Lion King, The (1994)', '963': 'Groundhog Day (1993)', '325': 'Mask, The (1994)'},\n",
       "        {'890': 'Strictly Ballroom (1992)', '5466': 'They Call Me Trinity (1971)', '1612': 'Slums of Beverly Hills, The (1998)', '8014': 'Batman: The Dark Knight Returns, Part 1 (2012)', '6307': 'Feast (2005)'}],\n",
       "       [{'2214': 'Dirty Dozen, The (1967)', '1324': 'U.S. Marshals (1998)', '5651': 'Battlestar Galactica (2003)', '1711': 'History of the World: Part I (1981)', '277': 'Shawshank Redemption, The (1994)'},\n",
       "        {'224': 'Star Wars: Episode IV - A New Hope (1977)', '1938': 'Matrix, The (1999)', '897': 'Star Wars: Episode V - The Empire Strikes Back (1980)', '418': 'Jurassic Park (1993)', '43': 'Seven (a.k.a. Se7en) (1995)'},\n",
       "        {'7505': 'No Strings Attached (2011)', '2956': 'Bedazzled (2000)', '3250': \"Diary of a Chambermaid (Journal d'une femme de chambre, Le) (1964)\", '622': 'Nutty Professor, The (1996)', '2586': 'Modern Times (1936)'}],\n",
       "       [{'793': 'Die Hard (1988)', '8004': 'Wreck-It Ralph (2012)', '4791': 'Lord of the Rings: The Return of the King, The (2003)', '7355': 'Inception (2010)'},\n",
       "        {'314': 'Forrest Gump (1994)', '257': 'Pulp Fiction (1994)', '418': 'Jurassic Park (1993)', '43': 'Seven (a.k.a. Se7en) (1995)', '0': 'Toy Story (1995)'},\n",
       "        {'4118': 'Beast Within, The (1982)', '2355': 'Ride with the Devil (1999)', '4876': 'Passion of the Christ, The (2004)', '4909': 'Hellboy (2004)', '628': 'Lone Star (1996)'}],\n",
       "       [{'963': 'Groundhog Day (1993)', '16': 'Sense and Sensibility (1995)', '938': 'Terminator, The (1984)', '898': 'Princess Bride, The (1987)', '619': 'Cable Guy, The (1996)'},\n",
       "        {'314': 'Forrest Gump (1994)', '257': 'Pulp Fiction (1994)', '224': 'Star Wars: Episode IV - A New Hope (1977)', '277': 'Shawshank Redemption, The (1994)', '1938': 'Matrix, The (1999)'},\n",
       "        {'6840': 'Duchess, The (2008)', '6530': 'Nanny Diaries, The (2007)', '8690': 'Kenny & Company (1976)', '7339': 'Ricky Gervais Live 3: Fame (2007)', '8009': 'Man with the Iron Fists, The (2012)'}],\n",
       "       [{'88': 'City Hall (1996)', '549': 'Dragonheart (1996)', '20': 'Get Shorty (1995)', '24': 'Leaving Las Vegas (1995)', '5': 'Heat (1995)'},\n",
       "        {'314': 'Forrest Gump (1994)', '1938': 'Matrix, The (1999)', '897': 'Star Wars: Episode V - The Empire Strikes Back (1980)', '418': 'Jurassic Park (1993)', '43': 'Seven (a.k.a. Se7en) (1995)'},\n",
       "        {'9026': 'Cooties (2015)', '5547': 'Begotten (1990)', '7445': 'Somewhere (2010)', '3552': 'Focus (2001)', '3172': 'World According to Garp, The (1982)'}],\n",
       "       [{'1045': 'Sling Blade (1996)', '254': 'Léon: The Professional (a.k.a. The Professional) (Léon) (1994)', '1220': 'Soul Food (1997)', '809': \"William Shakespeare's Romeo + Juliet (1996)\", '1353': 'Gingerbread Man, The (1998)'},\n",
       "        {'224': 'Star Wars: Episode IV - A New Hope (1977)', '1938': 'Matrix, The (1999)', '897': 'Star Wars: Episode V - The Empire Strikes Back (1980)', '418': 'Jurassic Park (1993)', '43': 'Seven (a.k.a. Se7en) (1995)'},\n",
       "        {'8854': \"Carry On Don't Lose Your Head (1966)\", '1622': 'Blade (1998)', '4260': 'Spun (2001)', '3833': 'Enough (2002)', '2178': 'Alvarez Kelly (1966)'}],\n",
       "       [{'2832': 'X-Men (2000)', '2300': 'Dogma (1999)', '1938': 'Matrix, The (1999)', '3192': 'Pearl Harbor (2001)', '3282': 'Legally Blonde (2001)'},\n",
       "        {'257': 'Pulp Fiction (1994)', '224': 'Star Wars: Episode IV - A New Hope (1977)', '897': 'Star Wars: Episode V - The Empire Strikes Back (1980)', '418': 'Jurassic Park (1993)', '43': 'Seven (a.k.a. Se7en) (1995)'},\n",
       "        {'8292': \"Tim's Vermeer (2013)\", '7806': 'Ghost Rider: Spirit of Vengeance (2012)', '3348': 'Vanishing, The (Spoorloos) (1988)', '3132': 'Necessary Roughness (1991)', '3933': 'Care Bears Movie II: A New Generation (1986)'}],\n",
       "       [{'123': 'Apollo 13 (1995)', '35': 'Clueless (1995)', '46': 'Usual Suspects, The (1995)', '10': 'American President, The (1995)'},\n",
       "        {'314': 'Forrest Gump (1994)', '257': 'Pulp Fiction (1994)', '224': 'Star Wars: Episode IV - A New Hope (1977)', '277': 'Shawshank Redemption, The (1994)', '1938': 'Matrix, The (1999)'},\n",
       "        {'4409': 'Anastasia (1956)', '9416': 'Split (2017)', '3836': 'CQ (2001)', '8370': 'Barefoot (2014)', '714': 'To Catch a Thief (1955)'}],\n",
       "       [{'477': 'Striking Distance (1993)', '950': 'Chinatown (1974)', '277': 'Shawshank Redemption, The (1994)', '1644': 'Untouchables, The (1987)', '922': 'Full Metal Jacket (1987)'},\n",
       "        {'314': 'Forrest Gump (1994)', '257': 'Pulp Fiction (1994)', '224': 'Star Wars: Episode IV - A New Hope (1977)', '1938': 'Matrix, The (1999)', '897': 'Star Wars: Episode V - The Empire Strikes Back (1980)'},\n",
       "        {'2227': 'Julien Donkey-Boy (1999)', '2918': 'Hellbound: Hellraiser II (1988)', '4550': 'To Be and to Have (Être et avoir) (2002)', '9421': 'Fences (2016)', '1265': 'Mortal Kombat: Annihilation (1997)'}],\n",
       "       [{'123': 'Apollo 13 (1995)', '253': 'Outbreak (1995)', '307': 'Clear and Present Danger (1994)', '398': 'Fugitive, The (1993)'},\n",
       "        {'224': 'Star Wars: Episode IV - A New Hope (1977)', '1938': 'Matrix, The (1999)', '897': 'Star Wars: Episode V - The Empire Strikes Back (1980)', '418': 'Jurassic Park (1993)', '43': 'Seven (a.k.a. Se7en) (1995)'},\n",
       "        {'2948': 'Billy Jack Goes to Washington (1977)', '1922': 'Dead Ringers (1988)', '7118': 'Food, Inc. (2008)', '4356': 'Wrong Turn (2003)', '27': 'Persuasion (1995)'}],\n",
       "       [{'235': \"Mary Shelley's Frankenstein (Frankenstein) (1994)\", '308': 'Client, The (1994)', '93': 'Bridges of Madison County, The (1995)', '314': 'Forrest Gump (1994)', '379': 'Coneheads (1993)'},\n",
       "        {'224': 'Star Wars: Episode IV - A New Hope (1977)', '1938': 'Matrix, The (1999)', '897': 'Star Wars: Episode V - The Empire Strikes Back (1980)', '43': 'Seven (a.k.a. Se7en) (1995)', '0': 'Toy Story (1995)'},\n",
       "        {'8089': 'Act of Killing, The (2012)', '9289': 'Ali Wong: Baby Cobra (2016)', '6066': 'Wal-Mart: The High Cost of Low Price (2005)', '5280': 'Unprecedented: The 2000 Presidential Election (2002)', '7772': 'Underworld: Awakening (2012)'}],\n",
       "       [{'855': 'Abyss, The (1989)', '511': 'Snow White and the Seven Dwarfs (1937)', '1594': \"Charlotte's Web (1973)\", '783': 'Sword in the Stone, The (1963)', '1548': '101 Dalmatians (One Hundred and One Dalmatians) (1961)'},\n",
       "        {'314': 'Forrest Gump (1994)', '277': 'Shawshank Redemption, The (1994)', '418': 'Jurassic Park (1993)', '0': 'Toy Story (1995)', '2224': 'Fight Club (1999)'},\n",
       "        {'9157': 'He Never Died (2015)', '3707': 'Stroszek (1977)', '6337': 'Fast Food Nation (2006)', '6368': 'Primeval (2007)', '5726': 'Phantom of the Opera, The (2004)'}],\n",
       "       [{'228': 'Like Water for Chocolate (Como agua para chocolate) (1992)', '375': \"Carlito's Way (1993)\", '201': 'Ed Wood (1994)', '196': 'Dolores Claiborne (1995)', '74': \"Antonia's Line (Antonia) (1995)\"},\n",
       "        {'314': 'Forrest Gump (1994)', '224': 'Star Wars: Episode IV - A New Hope (1977)', '1938': 'Matrix, The (1999)', '897': 'Star Wars: Episode V - The Empire Strikes Back (1980)', '418': 'Jurassic Park (1993)'},\n",
       "        {'9443': 'John Wick: Chapter Two (2017)', '1369': 'Clockwatchers (1997)', '4838': 'Tormented (1960)', '8061': \"It's Such a Beautiful Day (2012)\", '7099': 'If These Walls Could Talk (1996)'}],\n",
       "       [{'6910': 'Wrestler, The (2008)', '5253': 'Anchorman: The Legend of Ron Burgundy (2004)', '1290': 'Titanic (1997)', '6563': 'Into the Wild (2007)', '5869': 'Crash (2004)'},\n",
       "        {'224': 'Star Wars: Episode IV - A New Hope (1977)', '277': 'Shawshank Redemption, The (1994)', '897': 'Star Wars: Episode V - The Empire Strikes Back (1980)', '418': 'Jurassic Park (1993)', '0': 'Toy Story (1995)'},\n",
       "        {'9424': 'Sing (2016)', '7247': 'Secret of Kells, The (2009)', '9665': 'Isle of Dogs (2018)', '5727': 'Beyond the Sea (2004)', '7870': 'Prometheus (2012)'}],\n",
       "       [{'2016': \"General's Daughter, The (1999)\", '480': 'Terminal Velocity (1994)', '15': 'Casino (1995)', '217': 'Interview with the Vampire: The Vampire Chronicles (1994)', '619': 'Cable Guy, The (1996)'},\n",
       "        {'418': 'Jurassic Park (1993)', '0': 'Toy Story (1995)', '899': 'Raiders of the Lost Ark (Indiana Jones and the Raiders of the Lost Ark) (1981)', '507': 'Terminator 2: Judgment Day (1991)', '31': 'Twelve Monkeys (a.k.a. 12 Monkeys) (1995)'},\n",
       "        {'9442': 'Kizumonogatari III: Cold Blood (2017)', '3874': 'Pumpkin (2002)', '4043': 'Happy Birthday to Me (1981)', '4125': 'Maid in Manhattan (2002)', '6007': 'Wraith, The (1986)'}],\n",
       "       [{'220': 'Junior (1994)', '301': 'Baby-Sitters Club, The (1995)', '226': 'Little Princess, A (1995)', '28': 'City of Lost Children, The (Cité des enfants perdus, La) (1995)', '421': 'Lassie (1994)'},\n",
       "        {'224': 'Star Wars: Episode IV - A New Hope (1977)', '1938': 'Matrix, The (1999)', '897': 'Star Wars: Episode V - The Empire Strikes Back (1980)', '899': 'Raiders of the Lost Ark (Indiana Jones and the Raiders of the Lost Ark) (1981)', '2224': 'Fight Club (1999)'},\n",
       "        {'6082': 'New World, The (2005)', '9393': 'Jack Reacher: Never Go Back (2016)', '6808': 'Mutant Chronicles (2008)', '4078': 'Houseboat (1958)', '7899': 'Presto (2008)'}],\n",
       "       [{'113': 'Down Periscope (1996)', '116': 'Birdcage, The (1996)', '33': 'Dead Man Walking (1995)', '58': 'Bio-Dome (1996)'},\n",
       "        {'314': 'Forrest Gump (1994)', '257': 'Pulp Fiction (1994)', '277': 'Shawshank Redemption, The (1994)', '1938': 'Matrix, The (1999)', '897': 'Star Wars: Episode V - The Empire Strikes Back (1980)'},\n",
       "        {'8083': 'ABCs of Death, The (2012)', '4326': 'Spellbound (2002)', '8361': 'Non-Stop (2014)', '4030': 'Blow Out (1981)', '893': 'Madonna: Truth or Dare (1991)'}],\n",
       "       [{'618': 'Hunchback of Notre Dame, The (1996)', '99': 'Rumble in the Bronx (Hont faan kui) (1995)', '5': 'Heat (1995)', '1480': 'Mask of Zorro, The (1998)', '508': 'Dances with Wolves (1990)'},\n",
       "        {'277': 'Shawshank Redemption, The (1994)', '43': 'Seven (a.k.a. Se7en) (1995)', '334': 'Speed (1994)', '520': 'Fargo (1996)', '914': 'Alien (1979)'},\n",
       "        {'6121': 'Freedomland (2006)', '4793': 'Calendar Girls (2003)', '7213': 'MacGyver: Lost Treasure of Atlantis (1994)', '871': 'Tin Drum, The (Blechtrommel, Die) (1979)', '6753': 'Incredible Hulk, The (2008)'}],\n",
       "       [{'297': 'While You Were Sleeping (1995)', '322': 'Lion King, The (1994)', '176': 'Waterworld (1995)', '274': 'Specialist, The (1994)'},\n",
       "        {'314': 'Forrest Gump (1994)', '257': 'Pulp Fiction (1994)', '224': 'Star Wars: Episode IV - A New Hope (1977)', '1938': 'Matrix, The (1999)', '897': 'Star Wars: Episode V - The Empire Strikes Back (1980)'},\n",
       "        {'6611': 'Awake (2007)', '6693': 'Dark Knight, The (2008)', '3849': 'Bourne Identity, The (2002)', '9151': 'Wizards of Waverly Place: The Movie (2009)', '1621': 'Return to Paradise (1998)'}],\n",
       "       [{'116': 'Birdcage, The (1996)', '5725': 'Aviator, The (2004)', '5361': 'Ray (2004)', '3310': 'Cocktail (1988)', '6241': 'Pursuit of Happyness, The (2006)'},\n",
       "        {'257': 'Pulp Fiction (1994)', '224': 'Star Wars: Episode IV - A New Hope (1977)', '1938': 'Matrix, The (1999)', '897': 'Star Wars: Episode V - The Empire Strikes Back (1980)', '418': 'Jurassic Park (1993)'},\n",
       "        {'984': 'Somewhere in Time (1980)', '7663': 'Birdemic: Shock and Terror (2010)', '167': 'Strange Days (1995)', '7897': 'Rock of Ages (2012)', '6538': 'Nines, The (2007)'}],\n",
       "       [{'1223': 'Game, The (1997)', '140': 'First Knight (1995)', '1182': 'Men in Black (a.k.a. MIB) (1997)'},\n",
       "        {'314': 'Forrest Gump (1994)', '257': 'Pulp Fiction (1994)', '224': 'Star Wars: Episode IV - A New Hope (1977)', '277': 'Shawshank Redemption, The (1994)', '897': 'Star Wars: Episode V - The Empire Strikes Back (1980)'},\n",
       "        {'3140': 'Spy Kids (2001)', '2023': 'Dinner Game, The (Dîner de cons, Le) (1998)', '8252': 'Bad Milo (Bad Milo!) (2013)', '8750': 'The Last Five Years (2014)', '9678': 'Death Wish (2018)'}],\n",
       "       [{'6241': 'Pursuit of Happyness, The (2006)', '314': 'Forrest Gump (1994)', '4354': 'Finding Nemo (2003)', '3002': 'Cast Away (2000)', '97': 'Braveheart (1995)'},\n",
       "        {'257': 'Pulp Fiction (1994)', '224': 'Star Wars: Episode IV - A New Hope (1977)', '897': 'Star Wars: Episode V - The Empire Strikes Back (1980)', '418': 'Jurassic Park (1993)', '43': 'Seven (a.k.a. Se7en) (1995)'},\n",
       "        {'7091': 'G-Force (2009)', '9083': 'Bros Before Hos (2013)', '5134': 'Grey Gardens (1975)', '9700': 'Boundaries (2018)', '9295': 'Teenage Mutant Ninja Turtles: Out of the Shadows (2016)'}],\n",
       "       [{'8551': 'The Imitation Game (2014)', '5852': 'Trip to the Moon, A (Voyage dans la lune, Le) (1902)', '2258': 'Princess Mononoke (Mononoke-hime) (1997)', '4607': 'Kill Bill: Vol. 1 (2003)', '929': 'Annie Hall (1977)'},\n",
       "        {'224': 'Star Wars: Episode IV - A New Hope (1977)', '897': 'Star Wars: Episode V - The Empire Strikes Back (1980)', '418': 'Jurassic Park (1993)', '43': 'Seven (a.k.a. Se7en) (1995)', '97': 'Braveheart (1995)'},\n",
       "        {'5625': 'Late Night Shopping (2001)', '2499': 'Blood Feast (1963)', '7581': 'Fast Five (Fast and the Furious 5, The) (2011)', '6013': 'North Country (2005)', '4310': 'Fahrenheit 451 (1966)'}]],\n",
       "      dtype=object)"
      ]
     },
     "execution_count": 48,
     "metadata": {},
     "output_type": "execute_result"
    }
   ],
   "source": [
    "n_user_experiment = 50\n",
    "dataset[:n_user_experiment]"
   ]
  },
  {
   "cell_type": "code",
   "execution_count": 49,
   "id": "a79de2e6",
   "metadata": {},
   "outputs": [
    {
     "data": {
      "text/plain": [
       "(50, 3)"
      ]
     },
     "execution_count": 49,
     "metadata": {},
     "output_type": "execute_result"
    }
   ],
   "source": [
    "np.array(dataset[:n_user_experiment]).shape"
   ]
  },
  {
   "cell_type": "markdown",
   "id": "19fcc17e",
   "metadata": {},
   "source": [
    "## Explication & Dimension"
   ]
  },
  {
   "cell_type": "code",
   "execution_count": 50,
   "id": "545625ac",
   "metadata": {},
   "outputs": [],
   "source": [
    "# uk -> user k \n",
    "# ig -> movies i, genre g \n",
    "# R_uk -> movie,genre pour user uk\n",
    "# P_ig -> désigne la probabilité avec laquelle l'item i appartient au genre g\n",
    "# M -> matrice correlation\n",
    "# F -> \n",
    "# I_uk -> \n",
    "# r_ki -> \n",
    "\n",
    "#R -> n_user X n_movies X n_genres\n",
    "#I -> n_user X n_movies X n_genres\n",
    "\n",
    "#M -> n_movies X n_movies\n",
    "#F_ig -> n_movies X n_genres\n",
    "#I_uk -> n_movies X n_genres\n",
    "\n",
    "# Split train test sur les users????????\n",
    "# Entrainement sur le train \n",
    "# Test a la fin comparaison NDCG entre tri du ranking et notes de l'utilisateur \n",
    "\n",
    "# Split train test sur les ratings par users (on ignore les ratings test pour le train)\n",
    "# Entrainement sur le train (il reste le meme, on a juste caché des notes)\n",
    "# Test a la fin comparaison NDCG entre tri du ranking (donné par l'algo grace au train) et notes de l'utilisateur (qu'on a garder en test)\n",
    "# Test avec le DOA entre les films (qu'on a cache) et les films unwatched ?\n",
    "\n",
    "# On prend pour un utilisateur sa liste de film + ses notes\n",
    "# On montre cette liste a des nouveaux utilisateurs puis on leur demande parmis les films que notre algo sort quel est celui qui devrait etre recommandé\n",
    "# On compare les resultats avec notre ranking reel apres train\n",
    "# Test de student "
   ]
  },
  {
   "cell_type": "code",
   "execution_count": null,
   "id": "63623992",
   "metadata": {},
   "outputs": [],
   "source": []
  }
 ],
 "metadata": {
  "kernelspec": {
   "display_name": "Python 3",
   "language": "python",
   "name": "python3"
  },
  "language_info": {
   "codemirror_mode": {
    "name": "ipython",
    "version": 3
   },
   "file_extension": ".py",
   "mimetype": "text/x-python",
   "name": "python",
   "nbconvert_exporter": "python",
   "pygments_lexer": "ipython3",
   "version": "3.9.12"
  }
 },
 "nbformat": 4,
 "nbformat_minor": 5
}
