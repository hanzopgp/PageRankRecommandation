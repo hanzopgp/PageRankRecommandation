{
 "cells": [
  {
   "cell_type": "markdown",
   "id": "a076f437",
   "metadata": {},
   "source": [
    "## Importations"
   ]
  },
  {
   "cell_type": "code",
   "execution_count": 16,
   "id": "481b8bc2",
   "metadata": {},
   "outputs": [],
   "source": [
    "import numpy as np\n",
    "import pandas as pd\n",
    "import itertools as it\n",
    "import scipy\n",
    "from tqdm import tqdm\n",
    "from collections import Counter\n",
    "from sklearn.preprocessing import MultiLabelBinarizer"
   ]
  },
  {
   "cell_type": "markdown",
   "id": "f77d5c31",
   "metadata": {},
   "source": [
    "# Global variables"
   ]
  },
  {
   "cell_type": "code",
   "execution_count": 17,
   "id": "e093eebe",
   "metadata": {},
   "outputs": [],
   "source": [
    "PATH = \"../data/ml-latest-small/\"\n",
    "TRAIN_SIZE = 0.7\n",
    "MINIMUM_SEEN_MOVIES = 5"
   ]
  },
  {
   "cell_type": "markdown",
   "id": "b3f29d4c",
   "metadata": {},
   "source": [
    "## Loading data"
   ]
  },
  {
   "cell_type": "code",
   "execution_count": 18,
   "id": "ab1b9e9d",
   "metadata": {},
   "outputs": [],
   "source": [
    "def load_data(path):\n",
    "\tmovies = pd.read_csv(path+\"movies.csv\")\n",
    "\tratings = pd.read_csv(path+\"ratings.csv\")\n",
    "\treturn movies, ratings"
   ]
  },
  {
   "cell_type": "code",
   "execution_count": 4,
   "id": "aae37329",
   "metadata": {},
   "outputs": [],
   "source": [
    "movies, ratings = load_data(PATH)"
   ]
  },
  {
   "cell_type": "markdown",
   "id": "b9eda4a1",
   "metadata": {},
   "source": [
    "# Preprocessing data"
   ]
  },
  {
   "cell_type": "code",
   "execution_count": 23,
   "id": "675978bc",
   "metadata": {},
   "outputs": [],
   "source": [
    "## Delete films seen only by a certain number of users\n",
    "def delete_solo_films(movies, ratings, threshold):\n",
    "\tlist_key_values = np.array(list(Counter(ratings['movieId']).items()))\n",
    "\t_, values = list_key_values[:,0], list_key_values[:,1]\n",
    "\tindex = np.where(values > threshold)\n",
    "\treturn movies[movies[\"movieId\"] != str(index)], ratings[ratings[\"movieId\"] != str(index)]\n",
    "\n",
    "## Building ratings and movies dataframe which both contains the same movieId\n",
    "def clear_dataset(movies, ratings):\n",
    "\tmovies, ratings = delete_solo_films(movies, ratings, MINIMUM_SEEN_MOVIES)\n",
    "\n",
    "\tlist_movieId = set(movies[\"movieId\"]).intersection(set(ratings[\"movieId\"]))\n",
    "\n",
    "\tl = []\n",
    "\tfor i in range(len(movies['movieId'])):\n",
    "\t\tif movies['movieId'][i] in list_movieId:\n",
    "\t\t\tl.append(i)\n",
    "\tmovies = movies.iloc[l,:]\n",
    "\n",
    "\ta = sorted(list(list_movieId))\n",
    "\tb = range(len(a))\n",
    "\td = dict(zip(a,b))\n",
    "\tmovies = movies.replace({'movieId' : d})\n",
    "\n",
    "\ta = sorted(list(list_movieId))\n",
    "\tb = range(len(a))\n",
    "\td = dict(zip(a,b))\n",
    "\tratings = ratings.replace({'movieId' : d})\n",
    "\n",
    "\treturn movies, ratings\t\n",
    "\t\n",
    "## Building one hot encoded genres in movies dataframe\n",
    "def one_hot_encode_genres(movies):\n",
    "\ttmp = []\n",
    "\tfor elt in movies[\"genres\"]:\n",
    "\t\ttmp.append(elt.split(\"|\"))\n",
    "\tmovies[\"genres\"] = tmp\n",
    "\tmlb = MultiLabelBinarizer(sparse_output=True)\n",
    "\tmovies = movies.join(\n",
    "\t\t\t\tpd.DataFrame.sparse.from_spmatrix(\n",
    "\t\t\t\t\t\t\t\t\t\t\t\tmlb.fit_transform(movies.pop('genres')),\n",
    "\t\t\t\t\t\t\t\t\t\t\t\tindex=movies.index,\n",
    "\t\t\t\t\t\t\t\t\t\t\t\tcolumns=mlb.classes_))\n",
    "\treturn movies\n",
    "\n",
    "## Cleaning ratings datagrame\n",
    "def preprocess_ratings(ratings):\n",
    "\tratings = ratings.drop(columns=[\"timestamp\"])\n",
    "\tratings['userId'] = ratings['userId'].to_numpy() - 1 # car pas de user 0\n",
    "\treturn ratings\n",
    "\n",
    "## Split for computing metrics on test later\n",
    "def split_set(userId, train_size, ratings):\n",
    "\trating_user = ratings[ratings[\"userId\"] == userId]\n",
    "\ttrain_rating_user, test_rating_user = rating_user.to_numpy()[:int(train_size*len(rating_user))], rating_user.to_numpy()[int(train_size*len(rating_user)):]\n",
    "\treturn train_rating_user, test_rating_user\n",
    "\n",
    "## Get informations on users watched/unwatched movies...\n",
    "def get_infos_user(userId):\n",
    "\twatched_user = set(ratings[ratings[\"userId\"] == userId][\"movieId\"])\n",
    "\twatched_all = set(ratings['movieId'])\n",
    "\tunwatched_user = list(watched_all.difference(watched_user))\n",
    "\treturn watched_user, watched_all, unwatched_user"
   ]
  },
  {
   "cell_type": "code",
   "execution_count": 24,
   "id": "3b8a7e5f",
   "metadata": {},
   "outputs": [
    {
     "ename": "KeyError",
     "evalue": "816",
     "output_type": "error",
     "traceback": [
      "\u001b[1;31m---------------------------------------------------------------------------\u001b[0m",
      "\u001b[1;31mKeyError\u001b[0m                                  Traceback (most recent call last)",
      "File \u001b[1;32m~\\AppData\\Local\\Packages\\PythonSoftwareFoundation.Python.3.9_qbz5n2kfra8p0\\LocalCache\\local-packages\\Python39\\site-packages\\pandas\\core\\indexes\\base.py:3621\u001b[0m, in \u001b[0;36mIndex.get_loc\u001b[1;34m(self, key, method, tolerance)\u001b[0m\n\u001b[0;32m   <a href='file:///c%3A/Users/karna/AppData/Local/Packages/PythonSoftwareFoundation.Python.3.9_qbz5n2kfra8p0/LocalCache/local-packages/Python39/site-packages/pandas/core/indexes/base.py?line=3619'>3620</a>\u001b[0m \u001b[39mtry\u001b[39;00m:\n\u001b[1;32m-> <a href='file:///c%3A/Users/karna/AppData/Local/Packages/PythonSoftwareFoundation.Python.3.9_qbz5n2kfra8p0/LocalCache/local-packages/Python39/site-packages/pandas/core/indexes/base.py?line=3620'>3621</a>\u001b[0m     \u001b[39mreturn\u001b[39;00m \u001b[39mself\u001b[39;49m\u001b[39m.\u001b[39;49m_engine\u001b[39m.\u001b[39;49mget_loc(casted_key)\n\u001b[0;32m   <a href='file:///c%3A/Users/karna/AppData/Local/Packages/PythonSoftwareFoundation.Python.3.9_qbz5n2kfra8p0/LocalCache/local-packages/Python39/site-packages/pandas/core/indexes/base.py?line=3621'>3622</a>\u001b[0m \u001b[39mexcept\u001b[39;00m \u001b[39mKeyError\u001b[39;00m \u001b[39mas\u001b[39;00m err:\n",
      "File \u001b[1;32m~\\AppData\\Local\\Packages\\PythonSoftwareFoundation.Python.3.9_qbz5n2kfra8p0\\LocalCache\\local-packages\\Python39\\site-packages\\pandas\\_libs\\index.pyx:136\u001b[0m, in \u001b[0;36mpandas._libs.index.IndexEngine.get_loc\u001b[1;34m()\u001b[0m\n",
      "File \u001b[1;32m~\\AppData\\Local\\Packages\\PythonSoftwareFoundation.Python.3.9_qbz5n2kfra8p0\\LocalCache\\local-packages\\Python39\\site-packages\\pandas\\_libs\\index.pyx:163\u001b[0m, in \u001b[0;36mpandas._libs.index.IndexEngine.get_loc\u001b[1;34m()\u001b[0m\n",
      "File \u001b[1;32mpandas\\_libs\\hashtable_class_helper.pxi:2131\u001b[0m, in \u001b[0;36mpandas._libs.hashtable.Int64HashTable.get_item\u001b[1;34m()\u001b[0m\n",
      "File \u001b[1;32mpandas\\_libs\\hashtable_class_helper.pxi:2140\u001b[0m, in \u001b[0;36mpandas._libs.hashtable.Int64HashTable.get_item\u001b[1;34m()\u001b[0m\n",
      "\u001b[1;31mKeyError\u001b[0m: 816",
      "\nThe above exception was the direct cause of the following exception:\n",
      "\u001b[1;31mKeyError\u001b[0m                                  Traceback (most recent call last)",
      "\u001b[1;32mc:\\Users\\karna\\Desktop\\Projects\\PythonProject\\PageRankRecommandation\\src\\experience.ipynb Cell 10'\u001b[0m in \u001b[0;36m<cell line: 1>\u001b[1;34m()\u001b[0m\n\u001b[1;32m----> <a href='vscode-notebook-cell:/c%3A/Users/karna/Desktop/Projects/PythonProject/PageRankRecommandation/src/experience.ipynb#ch0000009?line=0'>1</a>\u001b[0m movies, ratings \u001b[39m=\u001b[39m clear_dataset(movies, ratings)\n\u001b[0;32m      <a href='vscode-notebook-cell:/c%3A/Users/karna/Desktop/Projects/PythonProject/PageRankRecommandation/src/experience.ipynb#ch0000009?line=1'>2</a>\u001b[0m movies \u001b[39m=\u001b[39m one_hot_encode_genres(movies)\n\u001b[0;32m      <a href='vscode-notebook-cell:/c%3A/Users/karna/Desktop/Projects/PythonProject/PageRankRecommandation/src/experience.ipynb#ch0000009?line=2'>3</a>\u001b[0m ratings \u001b[39m=\u001b[39m preprocess_ratings(ratings)\n",
      "\u001b[1;32mc:\\Users\\karna\\Desktop\\Projects\\PythonProject\\PageRankRecommandation\\src\\experience.ipynb Cell 9'\u001b[0m in \u001b[0;36mclear_dataset\u001b[1;34m(movies, ratings)\u001b[0m\n\u001b[0;32m     <a href='vscode-notebook-cell:/c%3A/Users/karna/Desktop/Projects/PythonProject/PageRankRecommandation/src/experience.ipynb#ch0000008?line=13'>14</a>\u001b[0m l \u001b[39m=\u001b[39m []\n\u001b[0;32m     <a href='vscode-notebook-cell:/c%3A/Users/karna/Desktop/Projects/PythonProject/PageRankRecommandation/src/experience.ipynb#ch0000008?line=14'>15</a>\u001b[0m \u001b[39mfor\u001b[39;00m i \u001b[39min\u001b[39;00m \u001b[39mrange\u001b[39m(\u001b[39mlen\u001b[39m(movies[\u001b[39m'\u001b[39m\u001b[39mmovieId\u001b[39m\u001b[39m'\u001b[39m])):\n\u001b[1;32m---> <a href='vscode-notebook-cell:/c%3A/Users/karna/Desktop/Projects/PythonProject/PageRankRecommandation/src/experience.ipynb#ch0000008?line=15'>16</a>\u001b[0m \t\u001b[39mif\u001b[39;00m movies[\u001b[39m'\u001b[39;49m\u001b[39mmovieId\u001b[39;49m\u001b[39m'\u001b[39;49m][i] \u001b[39min\u001b[39;00m list_movieId:\n\u001b[0;32m     <a href='vscode-notebook-cell:/c%3A/Users/karna/Desktop/Projects/PythonProject/PageRankRecommandation/src/experience.ipynb#ch0000008?line=16'>17</a>\u001b[0m \t\tl\u001b[39m.\u001b[39mappend(i)\n\u001b[0;32m     <a href='vscode-notebook-cell:/c%3A/Users/karna/Desktop/Projects/PythonProject/PageRankRecommandation/src/experience.ipynb#ch0000008?line=17'>18</a>\u001b[0m movies \u001b[39m=\u001b[39m movies\u001b[39m.\u001b[39miloc[l,:]\n",
      "File \u001b[1;32m~\\AppData\\Local\\Packages\\PythonSoftwareFoundation.Python.3.9_qbz5n2kfra8p0\\LocalCache\\local-packages\\Python39\\site-packages\\pandas\\core\\series.py:958\u001b[0m, in \u001b[0;36mSeries.__getitem__\u001b[1;34m(self, key)\u001b[0m\n\u001b[0;32m    <a href='file:///c%3A/Users/karna/AppData/Local/Packages/PythonSoftwareFoundation.Python.3.9_qbz5n2kfra8p0/LocalCache/local-packages/Python39/site-packages/pandas/core/series.py?line=954'>955</a>\u001b[0m     \u001b[39mreturn\u001b[39;00m \u001b[39mself\u001b[39m\u001b[39m.\u001b[39m_values[key]\n\u001b[0;32m    <a href='file:///c%3A/Users/karna/AppData/Local/Packages/PythonSoftwareFoundation.Python.3.9_qbz5n2kfra8p0/LocalCache/local-packages/Python39/site-packages/pandas/core/series.py?line=956'>957</a>\u001b[0m \u001b[39melif\u001b[39;00m key_is_scalar:\n\u001b[1;32m--> <a href='file:///c%3A/Users/karna/AppData/Local/Packages/PythonSoftwareFoundation.Python.3.9_qbz5n2kfra8p0/LocalCache/local-packages/Python39/site-packages/pandas/core/series.py?line=957'>958</a>\u001b[0m     \u001b[39mreturn\u001b[39;00m \u001b[39mself\u001b[39;49m\u001b[39m.\u001b[39;49m_get_value(key)\n\u001b[0;32m    <a href='file:///c%3A/Users/karna/AppData/Local/Packages/PythonSoftwareFoundation.Python.3.9_qbz5n2kfra8p0/LocalCache/local-packages/Python39/site-packages/pandas/core/series.py?line=959'>960</a>\u001b[0m \u001b[39mif\u001b[39;00m is_hashable(key):\n\u001b[0;32m    <a href='file:///c%3A/Users/karna/AppData/Local/Packages/PythonSoftwareFoundation.Python.3.9_qbz5n2kfra8p0/LocalCache/local-packages/Python39/site-packages/pandas/core/series.py?line=960'>961</a>\u001b[0m     \u001b[39m# Otherwise index.get_value will raise InvalidIndexError\u001b[39;00m\n\u001b[0;32m    <a href='file:///c%3A/Users/karna/AppData/Local/Packages/PythonSoftwareFoundation.Python.3.9_qbz5n2kfra8p0/LocalCache/local-packages/Python39/site-packages/pandas/core/series.py?line=961'>962</a>\u001b[0m     \u001b[39mtry\u001b[39;00m:\n\u001b[0;32m    <a href='file:///c%3A/Users/karna/AppData/Local/Packages/PythonSoftwareFoundation.Python.3.9_qbz5n2kfra8p0/LocalCache/local-packages/Python39/site-packages/pandas/core/series.py?line=962'>963</a>\u001b[0m         \u001b[39m# For labels that don't resolve as scalars like tuples and frozensets\u001b[39;00m\n",
      "File \u001b[1;32m~\\AppData\\Local\\Packages\\PythonSoftwareFoundation.Python.3.9_qbz5n2kfra8p0\\LocalCache\\local-packages\\Python39\\site-packages\\pandas\\core\\series.py:1069\u001b[0m, in \u001b[0;36mSeries._get_value\u001b[1;34m(self, label, takeable)\u001b[0m\n\u001b[0;32m   <a href='file:///c%3A/Users/karna/AppData/Local/Packages/PythonSoftwareFoundation.Python.3.9_qbz5n2kfra8p0/LocalCache/local-packages/Python39/site-packages/pandas/core/series.py?line=1065'>1066</a>\u001b[0m     \u001b[39mreturn\u001b[39;00m \u001b[39mself\u001b[39m\u001b[39m.\u001b[39m_values[label]\n\u001b[0;32m   <a href='file:///c%3A/Users/karna/AppData/Local/Packages/PythonSoftwareFoundation.Python.3.9_qbz5n2kfra8p0/LocalCache/local-packages/Python39/site-packages/pandas/core/series.py?line=1067'>1068</a>\u001b[0m \u001b[39m# Similar to Index.get_value, but we do not fall back to positional\u001b[39;00m\n\u001b[1;32m-> <a href='file:///c%3A/Users/karna/AppData/Local/Packages/PythonSoftwareFoundation.Python.3.9_qbz5n2kfra8p0/LocalCache/local-packages/Python39/site-packages/pandas/core/series.py?line=1068'>1069</a>\u001b[0m loc \u001b[39m=\u001b[39m \u001b[39mself\u001b[39;49m\u001b[39m.\u001b[39;49mindex\u001b[39m.\u001b[39;49mget_loc(label)\n\u001b[0;32m   <a href='file:///c%3A/Users/karna/AppData/Local/Packages/PythonSoftwareFoundation.Python.3.9_qbz5n2kfra8p0/LocalCache/local-packages/Python39/site-packages/pandas/core/series.py?line=1069'>1070</a>\u001b[0m \u001b[39mreturn\u001b[39;00m \u001b[39mself\u001b[39m\u001b[39m.\u001b[39mindex\u001b[39m.\u001b[39m_get_values_for_loc(\u001b[39mself\u001b[39m, loc, label)\n",
      "File \u001b[1;32m~\\AppData\\Local\\Packages\\PythonSoftwareFoundation.Python.3.9_qbz5n2kfra8p0\\LocalCache\\local-packages\\Python39\\site-packages\\pandas\\core\\indexes\\base.py:3623\u001b[0m, in \u001b[0;36mIndex.get_loc\u001b[1;34m(self, key, method, tolerance)\u001b[0m\n\u001b[0;32m   <a href='file:///c%3A/Users/karna/AppData/Local/Packages/PythonSoftwareFoundation.Python.3.9_qbz5n2kfra8p0/LocalCache/local-packages/Python39/site-packages/pandas/core/indexes/base.py?line=3620'>3621</a>\u001b[0m     \u001b[39mreturn\u001b[39;00m \u001b[39mself\u001b[39m\u001b[39m.\u001b[39m_engine\u001b[39m.\u001b[39mget_loc(casted_key)\n\u001b[0;32m   <a href='file:///c%3A/Users/karna/AppData/Local/Packages/PythonSoftwareFoundation.Python.3.9_qbz5n2kfra8p0/LocalCache/local-packages/Python39/site-packages/pandas/core/indexes/base.py?line=3621'>3622</a>\u001b[0m \u001b[39mexcept\u001b[39;00m \u001b[39mKeyError\u001b[39;00m \u001b[39mas\u001b[39;00m err:\n\u001b[1;32m-> <a href='file:///c%3A/Users/karna/AppData/Local/Packages/PythonSoftwareFoundation.Python.3.9_qbz5n2kfra8p0/LocalCache/local-packages/Python39/site-packages/pandas/core/indexes/base.py?line=3622'>3623</a>\u001b[0m     \u001b[39mraise\u001b[39;00m \u001b[39mKeyError\u001b[39;00m(key) \u001b[39mfrom\u001b[39;00m \u001b[39merr\u001b[39;00m\n\u001b[0;32m   <a href='file:///c%3A/Users/karna/AppData/Local/Packages/PythonSoftwareFoundation.Python.3.9_qbz5n2kfra8p0/LocalCache/local-packages/Python39/site-packages/pandas/core/indexes/base.py?line=3623'>3624</a>\u001b[0m \u001b[39mexcept\u001b[39;00m \u001b[39mTypeError\u001b[39;00m:\n\u001b[0;32m   <a href='file:///c%3A/Users/karna/AppData/Local/Packages/PythonSoftwareFoundation.Python.3.9_qbz5n2kfra8p0/LocalCache/local-packages/Python39/site-packages/pandas/core/indexes/base.py?line=3624'>3625</a>\u001b[0m     \u001b[39m# If we have a listlike key, _check_indexing_error will raise\u001b[39;00m\n\u001b[0;32m   <a href='file:///c%3A/Users/karna/AppData/Local/Packages/PythonSoftwareFoundation.Python.3.9_qbz5n2kfra8p0/LocalCache/local-packages/Python39/site-packages/pandas/core/indexes/base.py?line=3625'>3626</a>\u001b[0m     \u001b[39m#  InvalidIndexError. Otherwise we fall through and re-raise\u001b[39;00m\n\u001b[0;32m   <a href='file:///c%3A/Users/karna/AppData/Local/Packages/PythonSoftwareFoundation.Python.3.9_qbz5n2kfra8p0/LocalCache/local-packages/Python39/site-packages/pandas/core/indexes/base.py?line=3626'>3627</a>\u001b[0m     \u001b[39m#  the TypeError.\u001b[39;00m\n\u001b[0;32m   <a href='file:///c%3A/Users/karna/AppData/Local/Packages/PythonSoftwareFoundation.Python.3.9_qbz5n2kfra8p0/LocalCache/local-packages/Python39/site-packages/pandas/core/indexes/base.py?line=3627'>3628</a>\u001b[0m     \u001b[39mself\u001b[39m\u001b[39m.\u001b[39m_check_indexing_error(key)\n",
      "\u001b[1;31mKeyError\u001b[0m: 816"
     ]
    }
   ],
   "source": [
    "movies, ratings = clear_dataset(movies, ratings)\n",
    "movies = one_hot_encode_genres(movies)\n",
    "ratings = preprocess_ratings(ratings)"
   ]
  },
  {
   "cell_type": "markdown",
   "id": "6be0081e",
   "metadata": {},
   "source": [
    "# Building matrix"
   ]
  },
  {
   "cell_type": "code",
   "execution_count": 14,
   "id": "025984d0",
   "metadata": {},
   "outputs": [],
   "source": [
    "# Building a sparse matrix which contains the triple (u_k, m_i, r_ki)\n",
    "# def build_sparse_matrix_triples(ratings):\n",
    "# \tratings_sparse = scipy.sparse.csr_matrix(ratings.values)\n",
    "# \treturn ratings_sparse\n",
    "\n",
    "## Building a matrix M = (n_movies, n_movies) which contains the number of users who'se seen m_i and m_j\n",
    "def build_M_matrix(ratings, train_size):\n",
    "\tdata_dict = dict()\n",
    "\ttest_rating_user_list = []\n",
    "\tfor userId in tqdm(set(ratings[\"userId\"])):\n",
    "\t\ttrain_rating_user, test_rating_user = split_set(userId, train_size, ratings)\n",
    "\t\ttest_rating_user_list.append(test_rating_user)\n",
    "\t\titerator = it.combinations(train_rating_user[:,1], 2)\n",
    "\t\tfor x, y in iterator:\n",
    "\t\t\tdata_dict[(x,y)] = data_dict.get((x,y), 0) + 1\n",
    "\t\t\tdata_dict[(y,x)] = data_dict.get((y,x), 0) + 1\n",
    "\t\titerator = it.combinations(test_rating_user[:,1], 2)\n",
    "\t\tfor x, y in iterator:\n",
    "\t\t\t## We need to ignore the test movies\n",
    "\t\t\tdata_dict[(x,y)] = 0\n",
    "\t\t\tdata_dict[(y,x)] = 0\n",
    "\t\t\t# data_dict[(x,y)] = 1\n",
    "\t\t\t# data_dict[(y,x)] = 1\n",
    "\tkeys = np.array(list(data_dict.keys())).astype(int)\n",
    "\tvalues = np.array(list(data_dict.values())).astype(int)\n",
    "\tM_coo = scipy.sparse.coo_matrix((values, (keys[:,0], keys[:,1])))\n",
    "\tM_csr = M_coo.tocsr()\n",
    "\tprint(M_csr)\n",
    "\tM_norm = M_csr / M_csr.sum(axis=0)\n",
    "\t# M_norm = np.divide(M_csr, M_csr.sum(axis=0), where=M_csr.sum(axis=0)!=0)\n",
    "\tprint(M_norm)\n",
    "\treturn M_norm, test_rating_user_list\n",
    "\n",
    "## Computing probabilites of genres P_ig\n",
    "def build_P_ig(movies):\n",
    "\tsum_ = movies[[i for i in movies.columns if i != \"movieId\" and i != \"title\"]].to_numpy().sum(axis=0).astype(int)\n",
    "\tP_ig = sum_ / sum(sum_)\n",
    "\treturn P_ig.reshape(-1, 1)\n",
    "\n",
    "## Initialisation of R_uk before iterative algorithm\n",
    "def init_R_uk(movies):\n",
    "\tn_genres = len(movies.columns) - 2\n",
    "\tn_movies = len(movies)\n",
    "\tr = 1/(n_movies*n_genres)\n",
    "\tR_uk = np.full((n_movies, n_genres), r)\n",
    "\treturn R_uk\n",
    "\n",
    "## Computing F_ig for each user\n",
    "def build_F_ig(R_uk, P_ig):\n",
    "\tF_ig = np.sum(R_uk, axis=1).reshape(-1,1) @ P_ig.reshape(1,-1)\n",
    "\treturn F_ig\n",
    "\n",
    "## Matrix user X movie\n",
    "def build_ratings_matrix(ratings):\n",
    "\tvalues = ratings[\"rating\"]\n",
    "\trows = ratings[\"userId\"]\n",
    "\tcols = ratings[\"movieId\"]\n",
    "\tM_coo = scipy.sparse.coo_matrix((values, (rows, cols)))\n",
    "\tM_csr = M_coo.tocsr()\n",
    "\treturn M_csr\n",
    "\n",
    "## Build I_uk for each user\n",
    "def build_I_uk(tmp_M, id_user, P_ig):\n",
    "# \tprint(tmp_M[id_user,:].T.shape)\n",
    "\tI_uk = tmp_M[id_user,:].T @ P_ig.reshape(1,-1)\n",
    "\tI_uk = I_uk / I_uk.sum(axis=0).T\n",
    "\treturn I_uk\n",
    "\n",
    "## Init the matrix needed before running the iterative algorithm\n",
    "def init(movies, ratings, train_size):\n",
    "\tprint(\"Init R_uk...\")\n",
    "\tR_uk = init_R_uk(movies)\n",
    "\t# print(R_uk.shape)\n",
    "\tprint(\"Building P_ig...\")\n",
    "\ttmp_M = build_ratings_matrix(ratings)\n",
    "\tP_ig = build_P_ig(movies)\n",
    "\t# print(P_ig.shape)\n",
    "\tprint(\"Building M_csr...\")\n",
    "\tM_csr, test_rating_user_list = build_M_matrix(ratings, train_size)\n",
    "\t# print(M_csr.shape)\n",
    "\treturn R_uk, tmp_M, P_ig, M_csr, np.array(test_rating_user_list, dtype=object)"
   ]
  },
  {
   "cell_type": "code",
   "execution_count": 15,
   "id": "5ec458e5",
   "metadata": {},
   "outputs": [
    {
     "name": "stdout",
     "output_type": "stream",
     "text": [
      "Init R_uk...\n",
      "Building P_ig...\n",
      "Building M_csr...\n"
     ]
    },
    {
     "name": "stderr",
     "output_type": "stream",
     "text": [
      "100%|██████████| 610/610 [00:18<00:00, 32.76it/s]\n"
     ]
    },
    {
     "name": "stdout",
     "output_type": "stream",
     "text": [
      "  (0, 1)\t68\n",
      "  (0, 2)\t32\n",
      "  (0, 3)\t2\n",
      "  (0, 4)\t32\n",
      "  (0, 5)\t58\n",
      "  (0, 6)\t32\n",
      "  (0, 7)\t5\n",
      "  (0, 8)\t12\n",
      "  (0, 9)\t69\n",
      "  (0, 10)\t42\n",
      "  (0, 11)\t15\n",
      "  (0, 12)\t6\n",
      "  (0, 13)\t12\n",
      "  (0, 14)\t8\n",
      "  (0, 15)\t41\n",
      "  (0, 16)\t44\n",
      "  (0, 17)\t12\n",
      "  (0, 18)\t55\n",
      "  (0, 19)\t8\n",
      "  (0, 20)\t47\n",
      "  (0, 21)\t22\n",
      "  (0, 22)\t11\n",
      "  (0, 23)\t18\n",
      "  (0, 24)\t42\n",
      "  (0, 25)\t10\n",
      "  :\t:\n",
      "  (9723, 7870)\t1\n",
      "  (9723, 7876)\t1\n",
      "  (9723, 7937)\t1\n",
      "  (9723, 7961)\t1\n",
      "  (9723, 8005)\t1\n",
      "  (9723, 8045)\t1\n",
      "  (9723, 8133)\t1\n",
      "  (9723, 8278)\t1\n",
      "  (9723, 8285)\t1\n",
      "  (9723, 8287)\t1\n",
      "  (9723, 8295)\t1\n",
      "  (9723, 8354)\t1\n",
      "  (9723, 8448)\t1\n",
      "  (9723, 8449)\t1\n",
      "  (9723, 8457)\t1\n",
      "  (9723, 8532)\t1\n",
      "  (9723, 8551)\t1\n",
      "  (9723, 8618)\t1\n",
      "  (9723, 8663)\t1\n",
      "  (9723, 8673)\t1\n",
      "  (9723, 8861)\t1\n",
      "  (9723, 9374)\t1\n",
      "  (9723, 9603)\t1\n",
      "  (9723, 9665)\t1\n",
      "  (9723, 9691)\t1\n",
      "[[0.         0.0021645  0.00208578 ... 0.         0.         0.        ]\n",
      " [0.00153246 0.         0.00169469 ... 0.         0.         0.        ]\n",
      " [0.00072116 0.0008276  0.         ... 0.         0.         0.        ]\n",
      " ...\n",
      " [0.         0.         0.         ... 0.         0.025      0.        ]\n",
      " [0.         0.         0.         ... 0.025      0.         0.        ]\n",
      " [0.         0.         0.         ... 0.         0.         0.        ]]\n"
     ]
    }
   ],
   "source": [
    "R_uk, tmp_M, P_ig, M_csr, test_rating_user_list = init(movies, ratings, TRAIN_SIZE)"
   ]
  },
  {
   "cell_type": "markdown",
   "id": "d6051cda",
   "metadata": {},
   "source": [
    "## Run the algorithm"
   ]
  },
  {
   "cell_type": "code",
   "execution_count": null,
   "id": "45ac2294",
   "metadata": {},
   "outputs": [],
   "source": [
    "## Compute TR_ki for a specific user\n",
    "def compute_TR_ki(id_user, R_uk, tmp_M, P_ig, M_csr, d, alpha, iter_max):\n",
    "\tI_uk = build_I_uk(tmp_M, id_user, P_ig)\n",
    "\tfor _ in range(iter_max):\n",
    "\t\tF_ig = build_F_ig(R_uk, P_ig)\n",
    "\t\tR_uk = d * alpha * M_csr @ R_uk + d * (1-alpha) * M_csr @ F_ig + (1-d) * I_uk\n",
    "\n",
    "\t\t# This part is useful if you want to normalize + break if converge\n",
    "\t\t# R_uk = (R_uk / R_uk.sum(axis=1)).T # Normalization isn't working\n",
    "\t\t#     print(np.abs(np.sum(R_uk - R_uk_old)))\n",
    "\t\t#     if np.abs(np.sum(R_uk - R_uk_old)) < eps :\n",
    "\t\t#         print(i)\n",
    "\t\t#         break\n",
    "\t\t# R_uk_old = R_uk.copy()\n",
    "\t\n",
    "\tTR_ki = np.array(R_uk @ P_ig) # It returns a np.mat object which can't be reduced to dimension 1\n",
    "\treturn TR_ki.reshape(-1)\n",
    "\n",
    "## Compute TR_ki for all users\n",
    "def iterative_TR_ki(n_user, R_uk, tmp_M, P_ig, M_csr, d=0.15, alpha=0.1, iter_max=5):\n",
    "\tprint(\"Computing TR_ki for all users...\")\n",
    "\tTR_ki_all_user = []\n",
    "\tfor id_user in tqdm(range(n_user)):\n",
    "\t\tTR_ki_all_user.append(compute_TR_ki(id_user, R_uk, tmp_M, P_ig, M_csr, d, alpha, iter_max))\n",
    "\treturn np.array(TR_ki_all_user)"
   ]
  },
  {
   "cell_type": "code",
   "execution_count": null,
   "id": "8e820f8e",
   "metadata": {},
   "outputs": [
    {
     "name": "stdout",
     "output_type": "stream",
     "text": [
      "Computing TR_ki for all users...\n"
     ]
    },
    {
     "name": "stderr",
     "output_type": "stream",
     "text": [
      "100%|██████████| 2/2 [00:49<00:00, 24.84s/it]\n"
     ]
    }
   ],
   "source": [
    "# n_user = len(np.unique(ratings[\"userId\"]))\n",
    "n_user = 2\n",
    "\n",
    "TR_ki_all_user = iterative_TR_ki(n_user, R_uk, tmp_M, P_ig, M_csr, d=0.15, alpha=0.1, iter_max=5)"
   ]
  },
  {
   "cell_type": "markdown",
   "id": "0a9a8aae",
   "metadata": {},
   "source": [
    "## Running some test for a test user"
   ]
  },
  {
   "cell_type": "code",
   "execution_count": null,
   "id": "357c0f41",
   "metadata": {},
   "outputs": [],
   "source": [
    "## Returns the recommandation for the users\n",
    "def sort_by_best_movie(TR_ki_all_user):\n",
    "\tsorted_movies_all_user = np.zeros_like(TR_ki_all_user)\n",
    "\tfor i in range(len(TR_ki_all_user)):\n",
    "\t\tsorted_movies_all_user[i,:] = np.argsort(TR_ki_all_user[i,:])[::-1]\n",
    "\treturn sorted_movies_all_user"
   ]
  },
  {
   "cell_type": "code",
   "execution_count": null,
   "id": "c5718f05",
   "metadata": {},
   "outputs": [
    {
     "name": "stdout",
     "output_type": "stream",
     "text": [
      "TR_ki_all_user shape: (2, 9724)\n",
      "test_rating_user_list shape: (610,)\n",
      "TR_ki for test user :\n",
      " [nan nan nan nan nan nan nan nan nan nan]\n"
     ]
    }
   ],
   "source": [
    "test_user_id = 1\n",
    "\n",
    "print(\"TR_ki_all_user shape:\", TR_ki_all_user.shape)\n",
    "print(\"test_rating_user_list shape:\", test_rating_user_list.shape)\n",
    "print(\"TR_ki for test user :\\n\", TR_ki_all_user[test_user_id, :10])"
   ]
  },
  {
   "cell_type": "code",
   "execution_count": null,
   "id": "00396e95",
   "metadata": {},
   "outputs": [
    {
     "name": "stdout",
     "output_type": "stream",
     "text": [
      "sorted_movies_all_user shape: (2, 9724)\n",
      "Sorted best movies recommandation for test user :\n",
      " [9723. 3246. 3244. 3243. 3242. 3241. 3240. 3239. 3238. 3237.]\n"
     ]
    }
   ],
   "source": [
    "sorted_movies_all_user = sort_by_best_movie(TR_ki_all_user)\n",
    "print(\"sorted_movies_all_user shape:\", sorted_movies_all_user.shape)\n",
    "print(\"Sorted best movies recommandation for test user :\\n\", sorted_movies_all_user[test_user_id,:10])"
   ]
  },
  {
   "cell_type": "markdown",
   "id": "967928da",
   "metadata": {},
   "source": [
    "## Running some test for the DOA metrics before computing it on whole user list"
   ]
  },
  {
   "cell_type": "code",
   "execution_count": null,
   "id": "43786ec9",
   "metadata": {},
   "outputs": [],
   "source": [
    "## Computes DOA score for a specific user\n",
    "def compute_doa_score(TR_ki, test_rating_user, unwatched_user):\n",
    "\tscore = 0\n",
    "\tfor m_i in test_rating_user:\n",
    "\t\tfor m_j in unwatched_user:\n",
    "\t\t\tif TR_ki[int(m_i)] > TR_ki[int(m_j)]:\n",
    "\t\t\t\tscore += 1\n",
    "\treturn score / (len(test_rating_user) * len(unwatched_user))\n",
    "\n",
    "## Computes DOA for the whole user list\n",
    "def compute_all_doa(TR_ki_all_user, test_rating_user_list):\n",
    "\tscore = 0\n",
    "\tn_user = TR_ki_all_user.shape[0]\n",
    "\tfor user_id in range(n_user):\n",
    "\t\ttmp = test_rating_user_list[user_id]\n",
    "\t\ttest_films = tmp[:,1]\n",
    "\t\tTR_ki = TR_ki_all_user[user_id]\n",
    "\t\t_, _, unwatched_films = get_infos_user(user_id)\n",
    "\t\tscore += compute_doa_score(TR_ki, test_films, unwatched_films)\n",
    "\treturn score / n_user\n",
    "\n",
    "def test_doa_user(n_user, n_film_test):\n",
    "\tfor test_user_id in range(n_user):\n",
    "\t\tprint(\"---------- Testing user number\", test_user_id, \"----------\")\n",
    "\t\ttest = test_rating_user_list[test_user_id]\n",
    "\t\ttest_films = test[:,1]\n",
    "\t\tTR_ki = TR_ki_all_user[test_user_id]\n",
    "\t\t_, _, unwatched_films = get_infos_user(test_user_id)\n",
    "\t\tprint(\"Some movies from test set:\")\n",
    "\t\tprint(test_films[:n_film_test])\n",
    "\t\tprint(\"Some movies from unwatched set:\")\n",
    "\t\tprint(unwatched_films[:n_film_test])\n",
    "\t\tprint(\"Some score for test set (movies watched by user):\")\n",
    "\t\tfor i in test_films[:n_film_test]:\n",
    "\t\t\tprint(TR_ki[int(i)])\n",
    "\t\tprint(\"Some score for unwatched movies:\")\n",
    "\t\tfor i in unwatched_films[:n_film_test]:\n",
    "\t\t\tprint(TR_ki[int(i)])\n",
    "\t\tprint(\"Total DOA score for this user :\", compute_doa_score(TR_ki, test_films, unwatched_films))"
   ]
  },
  {
   "cell_type": "code",
   "execution_count": null,
   "id": "4974fbec",
   "metadata": {},
   "outputs": [
    {
     "name": "stdout",
     "output_type": "stream",
     "text": [
      "---------- Testing user number 0 ----------\n",
      "Some movies from test set:\n",
      "[1882. 1903. 1904.]\n",
      "Some movies from unwatched set:\n",
      "[1, 3, 4]\n",
      "Some score for test set (movies watched by user):\n",
      "nan\n",
      "nan\n",
      "nan\n",
      "Some score for unwatched movies:\n",
      "nan\n",
      "nan\n",
      "nan\n",
      "Total DOA score for this user : 0.0\n",
      "---------- Testing user number 1 ----------\n",
      "Some movies from test set:\n",
      "[7758. 8045. 8287.]\n",
      "Some movies from unwatched set:\n",
      "[0, 1, 2]\n",
      "Some score for test set (movies watched by user):\n",
      "nan\n",
      "nan\n",
      "nan\n",
      "Some score for unwatched movies:\n",
      "nan\n",
      "nan\n",
      "nan\n",
      "Total DOA score for this user : 0.0\n"
     ]
    }
   ],
   "source": [
    "n_film_test = 3\n",
    "\n",
    "test_doa_user(n_user, n_film_test)"
   ]
  },
  {
   "cell_type": "markdown",
   "id": "1c4d5093",
   "metadata": {},
   "source": [
    "## Computing final DOA metric for the whole dataset"
   ]
  },
  {
   "cell_type": "code",
   "execution_count": null,
   "id": "b86cee92",
   "metadata": {},
   "outputs": [
    {
     "name": "stdout",
     "output_type": "stream",
     "text": [
      "DOA for all users : 0.0\n"
     ]
    }
   ],
   "source": [
    "print(\"DOA for all users :\", compute_all_doa(TR_ki_all_user, test_rating_user_list))"
   ]
  },
  {
   "cell_type": "markdown",
   "id": "eeedf2a5",
   "metadata": {},
   "source": [
    "## Dimension & explication"
   ]
  },
  {
   "cell_type": "code",
   "execution_count": null,
   "id": "9b45b2fd",
   "metadata": {},
   "outputs": [],
   "source": [
    "# uk -> user k \n",
    "# ig -> movies i, genre g \n",
    "# R_uk -> movie,genre pour user uk\n",
    "# P_ig -> désigne la probabilité avec laquelle l'item i appartient au genre g\n",
    "# M -> matrice correlation\n",
    "# F -> \n",
    "# I_uk -> \n",
    "# r_ki -> \n",
    "\n",
    "#R -> n_user X n_movies X n_genres\n",
    "#I -> n_user X n_movies X n_genres\n",
    "\n",
    "#M -> n_movies X n_movies\n",
    "#F_ig -> n_movies X n_genres\n",
    "#I_uk -> n_movies X n_genres\n",
    "\n",
    "# Split train test sur les users????????\n",
    "# Entrainement sur le train \n",
    "# Test a la fin comparaison NDCG entre tri du ranking et notes de l'utilisateur \n",
    "\n",
    "# Split train test sur les ratings par users (on ignore les ratings test pour le train)\n",
    "# Entrainement sur le train (il reste le meme, on a juste caché des notes)\n",
    "# Test a la fin comparaison NDCG entre tri du ranking (donné par l'algo grace au train) et notes de l'utilisateur (qu'on a garder en test)\n",
    "# Test avec le DOA entre les films (qu'on a cache) et les films unwatched ?\n",
    "\n",
    "# On prend pour un utilisateur sa liste de film + ses notes\n",
    "# On montre cette liste a des nouveaux utilisateurs puis on leur demande parmis les films que notre algo sort quel est celui qui devrait etre recommandé\n",
    "# On compare les resultats avec notre ranking reel apres train\n",
    "# Test de student "
   ]
  }
 ],
 "metadata": {
  "kernelspec": {
   "display_name": "Python 3",
   "language": "python",
   "name": "python3"
  },
  "language_info": {
   "codemirror_mode": {
    "name": "ipython",
    "version": 3
   },
   "file_extension": ".py",
   "mimetype": "text/x-python",
   "name": "python",
   "nbconvert_exporter": "python",
   "pygments_lexer": "ipython3",
   "version": "3.9.12"
  }
 },
 "nbformat": 4,
 "nbformat_minor": 5
}
