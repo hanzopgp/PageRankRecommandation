{
 "cells": [
  {
   "cell_type": "markdown",
   "id": "a076f437",
   "metadata": {},
   "source": [
    "## Importations"
   ]
  },
  {
   "cell_type": "code",
   "execution_count": 106,
   "id": "481b8bc2",
   "metadata": {},
   "outputs": [],
   "source": [
    "import numpy as np\n",
    "import pandas as pd\n",
    "import itertools as it\n",
    "import scipy\n",
    "import tqdm\n",
    "from sklearn.preprocessing import MultiLabelBinarizer"
   ]
  },
  {
   "cell_type": "markdown",
   "id": "b3f29d4c",
   "metadata": {},
   "source": [
    "## Loading data"
   ]
  },
  {
   "cell_type": "code",
   "execution_count": 107,
   "id": "ab1b9e9d",
   "metadata": {},
   "outputs": [],
   "source": [
    "PATH = \"../\"\n",
    "\n",
    "movies = pd.read_csv(PATH+\"movies.csv\")\n",
    "ratings = pd.read_csv(PATH+\"ratings.csv\")"
   ]
  },
  {
   "cell_type": "markdown",
   "id": "a8272a62",
   "metadata": {},
   "source": [
    "## Building ratings and movies dataframe which both contains the same movieId"
   ]
  },
  {
   "cell_type": "code",
   "execution_count": 108,
   "id": "4b9ce085",
   "metadata": {},
   "outputs": [],
   "source": [
    "list_movieId = set(movies[\"movieId\"]).intersection(set(ratings[\"movieId\"]))"
   ]
  },
  {
   "cell_type": "code",
   "execution_count": 109,
   "id": "3deae656",
   "metadata": {},
   "outputs": [],
   "source": [
    "l = []\n",
    "for i in range(len(movies['movieId'])):\n",
    "    if movies['movieId'][i] in list_movieId:\n",
    "        l.append(i)\n",
    "movies = movies.iloc[l,:]"
   ]
  },
  {
   "cell_type": "code",
   "execution_count": 110,
   "id": "9ab183bc",
   "metadata": {},
   "outputs": [
    {
     "data": {
      "text/plain": [
       "9724"
      ]
     },
     "execution_count": 110,
     "metadata": {},
     "output_type": "execute_result"
    }
   ],
   "source": [
    "a = sorted(list(list_movieId))\n",
    "b = range(len(a))\n",
    "d = dict(zip(a,b))\n",
    "movies = movies.replace({'movieId' : d})\n",
    "len(set(movies['movieId']))"
   ]
  },
  {
   "cell_type": "code",
   "execution_count": 111,
   "id": "432fa0b0",
   "metadata": {},
   "outputs": [
    {
     "data": {
      "text/plain": [
       "9724"
      ]
     },
     "execution_count": 111,
     "metadata": {},
     "output_type": "execute_result"
    }
   ],
   "source": [
    "a = sorted(list(list_movieId))\n",
    "b = range(len(a))\n",
    "d = dict(zip(a,b))\n",
    "ratings = ratings.replace({'movieId' : d})\n",
    "len(set(movies['movieId']))"
   ]
  },
  {
   "cell_type": "markdown",
   "id": "caa07e31",
   "metadata": {},
   "source": [
    "## Building one hot encoded genres in movies dataframe"
   ]
  },
  {
   "cell_type": "code",
   "execution_count": 112,
   "id": "e3ca2608",
   "metadata": {},
   "outputs": [],
   "source": [
    "tmp = []\n",
    "for elt in movies[\"genres\"]:\n",
    "    tmp.append(elt.split(\"|\"))\n",
    "movies[\"genres\"] = tmp"
   ]
  },
  {
   "cell_type": "code",
   "execution_count": 113,
   "id": "b657b0c7",
   "metadata": {},
   "outputs": [],
   "source": [
    "mlb = MultiLabelBinarizer(sparse_output=True)\n",
    "movies = movies.join(\n",
    "            pd.DataFrame.sparse.from_spmatrix(\n",
    "                mlb.fit_transform(movies.pop('genres')),\n",
    "                index=movies.index,\n",
    "                columns=mlb.classes_))"
   ]
  },
  {
   "cell_type": "code",
   "execution_count": 114,
   "id": "fccea049",
   "metadata": {},
   "outputs": [
    {
     "data": {
      "text/html": [
       "<div>\n",
       "<style scoped>\n",
       "    .dataframe tbody tr th:only-of-type {\n",
       "        vertical-align: middle;\n",
       "    }\n",
       "\n",
       "    .dataframe tbody tr th {\n",
       "        vertical-align: top;\n",
       "    }\n",
       "\n",
       "    .dataframe thead th {\n",
       "        text-align: right;\n",
       "    }\n",
       "</style>\n",
       "<table border=\"1\" class=\"dataframe\">\n",
       "  <thead>\n",
       "    <tr style=\"text-align: right;\">\n",
       "      <th></th>\n",
       "      <th>movieId</th>\n",
       "      <th>title</th>\n",
       "      <th>(no genres listed)</th>\n",
       "      <th>Action</th>\n",
       "      <th>Adventure</th>\n",
       "      <th>Animation</th>\n",
       "      <th>Children</th>\n",
       "      <th>Comedy</th>\n",
       "      <th>Crime</th>\n",
       "      <th>Documentary</th>\n",
       "      <th>...</th>\n",
       "      <th>Film-Noir</th>\n",
       "      <th>Horror</th>\n",
       "      <th>IMAX</th>\n",
       "      <th>Musical</th>\n",
       "      <th>Mystery</th>\n",
       "      <th>Romance</th>\n",
       "      <th>Sci-Fi</th>\n",
       "      <th>Thriller</th>\n",
       "      <th>War</th>\n",
       "      <th>Western</th>\n",
       "    </tr>\n",
       "  </thead>\n",
       "  <tbody>\n",
       "    <tr>\n",
       "      <th>0</th>\n",
       "      <td>0</td>\n",
       "      <td>Toy Story (1995)</td>\n",
       "      <td>0</td>\n",
       "      <td>0</td>\n",
       "      <td>1</td>\n",
       "      <td>1</td>\n",
       "      <td>1</td>\n",
       "      <td>1</td>\n",
       "      <td>0</td>\n",
       "      <td>0</td>\n",
       "      <td>...</td>\n",
       "      <td>0</td>\n",
       "      <td>0</td>\n",
       "      <td>0</td>\n",
       "      <td>0</td>\n",
       "      <td>0</td>\n",
       "      <td>0</td>\n",
       "      <td>0</td>\n",
       "      <td>0</td>\n",
       "      <td>0</td>\n",
       "      <td>0</td>\n",
       "    </tr>\n",
       "    <tr>\n",
       "      <th>1</th>\n",
       "      <td>1</td>\n",
       "      <td>Jumanji (1995)</td>\n",
       "      <td>0</td>\n",
       "      <td>0</td>\n",
       "      <td>1</td>\n",
       "      <td>0</td>\n",
       "      <td>1</td>\n",
       "      <td>0</td>\n",
       "      <td>0</td>\n",
       "      <td>0</td>\n",
       "      <td>...</td>\n",
       "      <td>0</td>\n",
       "      <td>0</td>\n",
       "      <td>0</td>\n",
       "      <td>0</td>\n",
       "      <td>0</td>\n",
       "      <td>0</td>\n",
       "      <td>0</td>\n",
       "      <td>0</td>\n",
       "      <td>0</td>\n",
       "      <td>0</td>\n",
       "    </tr>\n",
       "    <tr>\n",
       "      <th>2</th>\n",
       "      <td>2</td>\n",
       "      <td>Grumpier Old Men (1995)</td>\n",
       "      <td>0</td>\n",
       "      <td>0</td>\n",
       "      <td>0</td>\n",
       "      <td>0</td>\n",
       "      <td>0</td>\n",
       "      <td>1</td>\n",
       "      <td>0</td>\n",
       "      <td>0</td>\n",
       "      <td>...</td>\n",
       "      <td>0</td>\n",
       "      <td>0</td>\n",
       "      <td>0</td>\n",
       "      <td>0</td>\n",
       "      <td>0</td>\n",
       "      <td>1</td>\n",
       "      <td>0</td>\n",
       "      <td>0</td>\n",
       "      <td>0</td>\n",
       "      <td>0</td>\n",
       "    </tr>\n",
       "    <tr>\n",
       "      <th>3</th>\n",
       "      <td>3</td>\n",
       "      <td>Waiting to Exhale (1995)</td>\n",
       "      <td>0</td>\n",
       "      <td>0</td>\n",
       "      <td>0</td>\n",
       "      <td>0</td>\n",
       "      <td>0</td>\n",
       "      <td>1</td>\n",
       "      <td>0</td>\n",
       "      <td>0</td>\n",
       "      <td>...</td>\n",
       "      <td>0</td>\n",
       "      <td>0</td>\n",
       "      <td>0</td>\n",
       "      <td>0</td>\n",
       "      <td>0</td>\n",
       "      <td>1</td>\n",
       "      <td>0</td>\n",
       "      <td>0</td>\n",
       "      <td>0</td>\n",
       "      <td>0</td>\n",
       "    </tr>\n",
       "    <tr>\n",
       "      <th>4</th>\n",
       "      <td>4</td>\n",
       "      <td>Father of the Bride Part II (1995)</td>\n",
       "      <td>0</td>\n",
       "      <td>0</td>\n",
       "      <td>0</td>\n",
       "      <td>0</td>\n",
       "      <td>0</td>\n",
       "      <td>1</td>\n",
       "      <td>0</td>\n",
       "      <td>0</td>\n",
       "      <td>...</td>\n",
       "      <td>0</td>\n",
       "      <td>0</td>\n",
       "      <td>0</td>\n",
       "      <td>0</td>\n",
       "      <td>0</td>\n",
       "      <td>0</td>\n",
       "      <td>0</td>\n",
       "      <td>0</td>\n",
       "      <td>0</td>\n",
       "      <td>0</td>\n",
       "    </tr>\n",
       "    <tr>\n",
       "      <th>...</th>\n",
       "      <td>...</td>\n",
       "      <td>...</td>\n",
       "      <td>...</td>\n",
       "      <td>...</td>\n",
       "      <td>...</td>\n",
       "      <td>...</td>\n",
       "      <td>...</td>\n",
       "      <td>...</td>\n",
       "      <td>...</td>\n",
       "      <td>...</td>\n",
       "      <td>...</td>\n",
       "      <td>...</td>\n",
       "      <td>...</td>\n",
       "      <td>...</td>\n",
       "      <td>...</td>\n",
       "      <td>...</td>\n",
       "      <td>...</td>\n",
       "      <td>...</td>\n",
       "      <td>...</td>\n",
       "      <td>...</td>\n",
       "      <td>...</td>\n",
       "    </tr>\n",
       "    <tr>\n",
       "      <th>9737</th>\n",
       "      <td>9719</td>\n",
       "      <td>Black Butler: Book of the Atlantic (2017)</td>\n",
       "      <td>0</td>\n",
       "      <td>1</td>\n",
       "      <td>0</td>\n",
       "      <td>1</td>\n",
       "      <td>0</td>\n",
       "      <td>1</td>\n",
       "      <td>0</td>\n",
       "      <td>0</td>\n",
       "      <td>...</td>\n",
       "      <td>0</td>\n",
       "      <td>0</td>\n",
       "      <td>0</td>\n",
       "      <td>0</td>\n",
       "      <td>0</td>\n",
       "      <td>0</td>\n",
       "      <td>0</td>\n",
       "      <td>0</td>\n",
       "      <td>0</td>\n",
       "      <td>0</td>\n",
       "    </tr>\n",
       "    <tr>\n",
       "      <th>9738</th>\n",
       "      <td>9720</td>\n",
       "      <td>No Game No Life: Zero (2017)</td>\n",
       "      <td>0</td>\n",
       "      <td>0</td>\n",
       "      <td>0</td>\n",
       "      <td>1</td>\n",
       "      <td>0</td>\n",
       "      <td>1</td>\n",
       "      <td>0</td>\n",
       "      <td>0</td>\n",
       "      <td>...</td>\n",
       "      <td>0</td>\n",
       "      <td>0</td>\n",
       "      <td>0</td>\n",
       "      <td>0</td>\n",
       "      <td>0</td>\n",
       "      <td>0</td>\n",
       "      <td>0</td>\n",
       "      <td>0</td>\n",
       "      <td>0</td>\n",
       "      <td>0</td>\n",
       "    </tr>\n",
       "    <tr>\n",
       "      <th>9739</th>\n",
       "      <td>9721</td>\n",
       "      <td>Flint (2017)</td>\n",
       "      <td>0</td>\n",
       "      <td>0</td>\n",
       "      <td>0</td>\n",
       "      <td>0</td>\n",
       "      <td>0</td>\n",
       "      <td>0</td>\n",
       "      <td>0</td>\n",
       "      <td>0</td>\n",
       "      <td>...</td>\n",
       "      <td>0</td>\n",
       "      <td>0</td>\n",
       "      <td>0</td>\n",
       "      <td>0</td>\n",
       "      <td>0</td>\n",
       "      <td>0</td>\n",
       "      <td>0</td>\n",
       "      <td>0</td>\n",
       "      <td>0</td>\n",
       "      <td>0</td>\n",
       "    </tr>\n",
       "    <tr>\n",
       "      <th>9740</th>\n",
       "      <td>9722</td>\n",
       "      <td>Bungo Stray Dogs: Dead Apple (2018)</td>\n",
       "      <td>0</td>\n",
       "      <td>1</td>\n",
       "      <td>0</td>\n",
       "      <td>1</td>\n",
       "      <td>0</td>\n",
       "      <td>0</td>\n",
       "      <td>0</td>\n",
       "      <td>0</td>\n",
       "      <td>...</td>\n",
       "      <td>0</td>\n",
       "      <td>0</td>\n",
       "      <td>0</td>\n",
       "      <td>0</td>\n",
       "      <td>0</td>\n",
       "      <td>0</td>\n",
       "      <td>0</td>\n",
       "      <td>0</td>\n",
       "      <td>0</td>\n",
       "      <td>0</td>\n",
       "    </tr>\n",
       "    <tr>\n",
       "      <th>9741</th>\n",
       "      <td>9723</td>\n",
       "      <td>Andrew Dice Clay: Dice Rules (1991)</td>\n",
       "      <td>0</td>\n",
       "      <td>0</td>\n",
       "      <td>0</td>\n",
       "      <td>0</td>\n",
       "      <td>0</td>\n",
       "      <td>1</td>\n",
       "      <td>0</td>\n",
       "      <td>0</td>\n",
       "      <td>...</td>\n",
       "      <td>0</td>\n",
       "      <td>0</td>\n",
       "      <td>0</td>\n",
       "      <td>0</td>\n",
       "      <td>0</td>\n",
       "      <td>0</td>\n",
       "      <td>0</td>\n",
       "      <td>0</td>\n",
       "      <td>0</td>\n",
       "      <td>0</td>\n",
       "    </tr>\n",
       "  </tbody>\n",
       "</table>\n",
       "<p>9724 rows × 22 columns</p>\n",
       "</div>"
      ],
      "text/plain": [
       "      movieId                                      title  (no genres listed)  \\\n",
       "0           0                           Toy Story (1995)                   0   \n",
       "1           1                             Jumanji (1995)                   0   \n",
       "2           2                    Grumpier Old Men (1995)                   0   \n",
       "3           3                   Waiting to Exhale (1995)                   0   \n",
       "4           4         Father of the Bride Part II (1995)                   0   \n",
       "...       ...                                        ...                 ...   \n",
       "9737     9719  Black Butler: Book of the Atlantic (2017)                   0   \n",
       "9738     9720               No Game No Life: Zero (2017)                   0   \n",
       "9739     9721                               Flint (2017)                   0   \n",
       "9740     9722        Bungo Stray Dogs: Dead Apple (2018)                   0   \n",
       "9741     9723        Andrew Dice Clay: Dice Rules (1991)                   0   \n",
       "\n",
       "      Action  Adventure  Animation  Children  Comedy  Crime  Documentary  ...  \\\n",
       "0          0          1          1         1       1      0            0  ...   \n",
       "1          0          1          0         1       0      0            0  ...   \n",
       "2          0          0          0         0       1      0            0  ...   \n",
       "3          0          0          0         0       1      0            0  ...   \n",
       "4          0          0          0         0       1      0            0  ...   \n",
       "...      ...        ...        ...       ...     ...    ...          ...  ...   \n",
       "9737       1          0          1         0       1      0            0  ...   \n",
       "9738       0          0          1         0       1      0            0  ...   \n",
       "9739       0          0          0         0       0      0            0  ...   \n",
       "9740       1          0          1         0       0      0            0  ...   \n",
       "9741       0          0          0         0       1      0            0  ...   \n",
       "\n",
       "      Film-Noir  Horror  IMAX  Musical  Mystery  Romance  Sci-Fi  Thriller  \\\n",
       "0             0       0     0        0        0        0       0         0   \n",
       "1             0       0     0        0        0        0       0         0   \n",
       "2             0       0     0        0        0        1       0         0   \n",
       "3             0       0     0        0        0        1       0         0   \n",
       "4             0       0     0        0        0        0       0         0   \n",
       "...         ...     ...   ...      ...      ...      ...     ...       ...   \n",
       "9737          0       0     0        0        0        0       0         0   \n",
       "9738          0       0     0        0        0        0       0         0   \n",
       "9739          0       0     0        0        0        0       0         0   \n",
       "9740          0       0     0        0        0        0       0         0   \n",
       "9741          0       0     0        0        0        0       0         0   \n",
       "\n",
       "      War  Western  \n",
       "0       0        0  \n",
       "1       0        0  \n",
       "2       0        0  \n",
       "3       0        0  \n",
       "4       0        0  \n",
       "...   ...      ...  \n",
       "9737    0        0  \n",
       "9738    0        0  \n",
       "9739    0        0  \n",
       "9740    0        0  \n",
       "9741    0        0  \n",
       "\n",
       "[9724 rows x 22 columns]"
      ]
     },
     "execution_count": 114,
     "metadata": {},
     "output_type": "execute_result"
    }
   ],
   "source": [
    "movies"
   ]
  },
  {
   "cell_type": "markdown",
   "id": "1484d4f1",
   "metadata": {},
   "source": [
    "## Cleaning ratings datagrame"
   ]
  },
  {
   "cell_type": "code",
   "execution_count": 115,
   "id": "7482ba63",
   "metadata": {},
   "outputs": [],
   "source": [
    "ratings = ratings.drop(columns=[\"timestamp\"])"
   ]
  },
  {
   "cell_type": "code",
   "execution_count": 116,
   "id": "af208bc3",
   "metadata": {},
   "outputs": [
    {
     "data": {
      "text/html": [
       "<div>\n",
       "<style scoped>\n",
       "    .dataframe tbody tr th:only-of-type {\n",
       "        vertical-align: middle;\n",
       "    }\n",
       "\n",
       "    .dataframe tbody tr th {\n",
       "        vertical-align: top;\n",
       "    }\n",
       "\n",
       "    .dataframe thead th {\n",
       "        text-align: right;\n",
       "    }\n",
       "</style>\n",
       "<table border=\"1\" class=\"dataframe\">\n",
       "  <thead>\n",
       "    <tr style=\"text-align: right;\">\n",
       "      <th></th>\n",
       "      <th>userId</th>\n",
       "      <th>movieId</th>\n",
       "      <th>rating</th>\n",
       "    </tr>\n",
       "  </thead>\n",
       "  <tbody>\n",
       "    <tr>\n",
       "      <th>0</th>\n",
       "      <td>1</td>\n",
       "      <td>0</td>\n",
       "      <td>4.0</td>\n",
       "    </tr>\n",
       "    <tr>\n",
       "      <th>1</th>\n",
       "      <td>1</td>\n",
       "      <td>2</td>\n",
       "      <td>4.0</td>\n",
       "    </tr>\n",
       "    <tr>\n",
       "      <th>2</th>\n",
       "      <td>1</td>\n",
       "      <td>5</td>\n",
       "      <td>4.0</td>\n",
       "    </tr>\n",
       "    <tr>\n",
       "      <th>3</th>\n",
       "      <td>1</td>\n",
       "      <td>43</td>\n",
       "      <td>5.0</td>\n",
       "    </tr>\n",
       "    <tr>\n",
       "      <th>4</th>\n",
       "      <td>1</td>\n",
       "      <td>46</td>\n",
       "      <td>5.0</td>\n",
       "    </tr>\n",
       "    <tr>\n",
       "      <th>...</th>\n",
       "      <td>...</td>\n",
       "      <td>...</td>\n",
       "      <td>...</td>\n",
       "    </tr>\n",
       "    <tr>\n",
       "      <th>100831</th>\n",
       "      <td>610</td>\n",
       "      <td>9416</td>\n",
       "      <td>4.0</td>\n",
       "    </tr>\n",
       "    <tr>\n",
       "      <th>100832</th>\n",
       "      <td>610</td>\n",
       "      <td>9443</td>\n",
       "      <td>5.0</td>\n",
       "    </tr>\n",
       "    <tr>\n",
       "      <th>100833</th>\n",
       "      <td>610</td>\n",
       "      <td>9444</td>\n",
       "      <td>5.0</td>\n",
       "    </tr>\n",
       "    <tr>\n",
       "      <th>100834</th>\n",
       "      <td>610</td>\n",
       "      <td>9445</td>\n",
       "      <td>5.0</td>\n",
       "    </tr>\n",
       "    <tr>\n",
       "      <th>100835</th>\n",
       "      <td>610</td>\n",
       "      <td>9485</td>\n",
       "      <td>3.0</td>\n",
       "    </tr>\n",
       "  </tbody>\n",
       "</table>\n",
       "<p>100836 rows × 3 columns</p>\n",
       "</div>"
      ],
      "text/plain": [
       "        userId  movieId  rating\n",
       "0            1        0     4.0\n",
       "1            1        2     4.0\n",
       "2            1        5     4.0\n",
       "3            1       43     5.0\n",
       "4            1       46     5.0\n",
       "...        ...      ...     ...\n",
       "100831     610     9416     4.0\n",
       "100832     610     9443     5.0\n",
       "100833     610     9444     5.0\n",
       "100834     610     9445     5.0\n",
       "100835     610     9485     3.0\n",
       "\n",
       "[100836 rows x 3 columns]"
      ]
     },
     "execution_count": 116,
     "metadata": {},
     "output_type": "execute_result"
    }
   ],
   "source": [
    "ratings"
   ]
  },
  {
   "cell_type": "code",
   "execution_count": 117,
   "id": "a5570a89",
   "metadata": {},
   "outputs": [
    {
     "data": {
      "text/html": [
       "<div>\n",
       "<style scoped>\n",
       "    .dataframe tbody tr th:only-of-type {\n",
       "        vertical-align: middle;\n",
       "    }\n",
       "\n",
       "    .dataframe tbody tr th {\n",
       "        vertical-align: top;\n",
       "    }\n",
       "\n",
       "    .dataframe thead th {\n",
       "        text-align: right;\n",
       "    }\n",
       "</style>\n",
       "<table border=\"1\" class=\"dataframe\">\n",
       "  <thead>\n",
       "    <tr style=\"text-align: right;\">\n",
       "      <th></th>\n",
       "      <th>userId</th>\n",
       "      <th>movieId</th>\n",
       "      <th>rating</th>\n",
       "    </tr>\n",
       "  </thead>\n",
       "  <tbody>\n",
       "    <tr>\n",
       "      <th>0</th>\n",
       "      <td>1</td>\n",
       "      <td>0</td>\n",
       "      <td>4.0</td>\n",
       "    </tr>\n",
       "    <tr>\n",
       "      <th>516</th>\n",
       "      <td>5</td>\n",
       "      <td>0</td>\n",
       "      <td>4.0</td>\n",
       "    </tr>\n",
       "    <tr>\n",
       "      <th>874</th>\n",
       "      <td>7</td>\n",
       "      <td>0</td>\n",
       "      <td>4.5</td>\n",
       "    </tr>\n",
       "    <tr>\n",
       "      <th>1434</th>\n",
       "      <td>15</td>\n",
       "      <td>0</td>\n",
       "      <td>2.5</td>\n",
       "    </tr>\n",
       "    <tr>\n",
       "      <th>1667</th>\n",
       "      <td>17</td>\n",
       "      <td>0</td>\n",
       "      <td>4.5</td>\n",
       "    </tr>\n",
       "    <tr>\n",
       "      <th>...</th>\n",
       "      <td>...</td>\n",
       "      <td>...</td>\n",
       "      <td>...</td>\n",
       "    </tr>\n",
       "    <tr>\n",
       "      <th>97364</th>\n",
       "      <td>606</td>\n",
       "      <td>0</td>\n",
       "      <td>2.5</td>\n",
       "    </tr>\n",
       "    <tr>\n",
       "      <th>98479</th>\n",
       "      <td>607</td>\n",
       "      <td>0</td>\n",
       "      <td>4.0</td>\n",
       "    </tr>\n",
       "    <tr>\n",
       "      <th>98666</th>\n",
       "      <td>608</td>\n",
       "      <td>0</td>\n",
       "      <td>2.5</td>\n",
       "    </tr>\n",
       "    <tr>\n",
       "      <th>99497</th>\n",
       "      <td>609</td>\n",
       "      <td>0</td>\n",
       "      <td>3.0</td>\n",
       "    </tr>\n",
       "    <tr>\n",
       "      <th>99534</th>\n",
       "      <td>610</td>\n",
       "      <td>0</td>\n",
       "      <td>5.0</td>\n",
       "    </tr>\n",
       "  </tbody>\n",
       "</table>\n",
       "<p>215 rows × 3 columns</p>\n",
       "</div>"
      ],
      "text/plain": [
       "       userId  movieId  rating\n",
       "0           1        0     4.0\n",
       "516         5        0     4.0\n",
       "874         7        0     4.5\n",
       "1434       15        0     2.5\n",
       "1667       17        0     4.5\n",
       "...       ...      ...     ...\n",
       "97364     606        0     2.5\n",
       "98479     607        0     4.0\n",
       "98666     608        0     2.5\n",
       "99497     609        0     3.0\n",
       "99534     610        0     5.0\n",
       "\n",
       "[215 rows x 3 columns]"
      ]
     },
     "execution_count": 117,
     "metadata": {},
     "output_type": "execute_result"
    }
   ],
   "source": [
    "ratings[ratings[\"movieId\"] == 0]"
   ]
  },
  {
   "cell_type": "markdown",
   "id": "6be0081e",
   "metadata": {},
   "source": [
    "## Building a sparse matrix which contains the triple (u_k, m_i, r_ki)"
   ]
  },
  {
   "cell_type": "code",
   "execution_count": 118,
   "id": "2b767024",
   "metadata": {},
   "outputs": [
    {
     "data": {
      "text/plain": [
       "(100836, 3)"
      ]
     },
     "execution_count": 118,
     "metadata": {},
     "output_type": "execute_result"
    }
   ],
   "source": [
    "ratings_sparse = scipy.sparse.csr_matrix(ratings.values)\n",
    "ratings_sparse.shape"
   ]
  },
  {
   "cell_type": "code",
   "execution_count": 119,
   "id": "a4e708ca",
   "metadata": {},
   "outputs": [
    {
     "name": "stdout",
     "output_type": "stream",
     "text": [
      "USER ID : u_k = 610.0\n",
      "MOVIE ID : m_i = 9416.0\n",
      "SCORE : r_ki = 4.0\n"
     ]
    }
   ],
   "source": [
    "print(\"USER ID : u_k =\",  ratings_sparse[100831, 0])\n",
    "print(\"MOVIE ID : m_i =\", ratings_sparse[100831, 1])\n",
    "print(\"SCORE : r_ki =\",   ratings_sparse[100831, 2])"
   ]
  },
  {
   "cell_type": "markdown",
   "id": "9cf52078",
   "metadata": {},
   "source": [
    "## Building a matrix M = (n_movies, n_movies) which contains the number of users who'se seen m_i and m_j"
   ]
  },
  {
   "cell_type": "code",
   "execution_count": 120,
   "id": "64e05c1a",
   "metadata": {},
   "outputs": [],
   "source": [
    "data_dict = dict()\n",
    "\n",
    "for userId in set(ratings[\"userId\"]):\n",
    "    iterator = it.combinations(ratings[ratings['userId'] == userId][\"movieId\"], 2)\n",
    "    for x, y in iterator:\n",
    "        data_dict[(x,y)] = data_dict.get((x,y), 0) + 1\n",
    "        data_dict[(y,x)] = data_dict.get((y,x), 0) + 1"
   ]
  },
  {
   "cell_type": "code",
   "execution_count": 121,
   "id": "7e568a75",
   "metadata": {},
   "outputs": [],
   "source": [
    "keys = np.array(list(data_dict.keys()))"
   ]
  },
  {
   "cell_type": "code",
   "execution_count": 122,
   "id": "aa9d9399",
   "metadata": {},
   "outputs": [],
   "source": [
    "values = np.array(list(data_dict.values()))"
   ]
  },
  {
   "cell_type": "code",
   "execution_count": 123,
   "id": "880c8a39",
   "metadata": {},
   "outputs": [],
   "source": [
    "M_coo = scipy.sparse.coo_matrix((values, (keys[:,0], keys[:,1])))\n",
    "M_csr = M_coo.tocsr()"
   ]
  },
  {
   "cell_type": "code",
   "execution_count": 124,
   "id": "ec768468",
   "metadata": {},
   "outputs": [
    {
     "data": {
      "text/plain": [
       "(9724, 9724)"
      ]
     },
     "execution_count": 124,
     "metadata": {},
     "output_type": "execute_result"
    }
   ],
   "source": [
    "M_coo.shape"
   ]
  },
  {
   "cell_type": "code",
   "execution_count": 125,
   "id": "63b13430",
   "metadata": {},
   "outputs": [
    {
     "name": "stdout",
     "output_type": "stream",
     "text": [
      "The movies with ID 0 and 1 have been spotted 68 times in users watch list\n"
     ]
    }
   ],
   "source": [
    "print(\"The movies with ID 0 and 1 have been spotted\", M_csr[0,1], \"times in users watch list\")"
   ]
  },
  {
   "cell_type": "code",
   "execution_count": 126,
   "id": "dccb975d",
   "metadata": {},
   "outputs": [
    {
     "data": {
      "text/plain": [
       "(9724, 9724)"
      ]
     },
     "execution_count": 126,
     "metadata": {},
     "output_type": "execute_result"
    }
   ],
   "source": [
    "M_csr.shape"
   ]
  },
  {
   "cell_type": "markdown",
   "id": "cb9272f6",
   "metadata": {},
   "source": [
    "## Normalizing the M matrix"
   ]
  },
  {
   "cell_type": "code",
   "execution_count": 127,
   "id": "1de78caf",
   "metadata": {},
   "outputs": [],
   "source": [
    "M_norm = M_coo / M_coo.sum(axis=0)"
   ]
  },
  {
   "cell_type": "code",
   "execution_count": 128,
   "id": "97d25587",
   "metadata": {},
   "outputs": [
    {
     "data": {
      "text/plain": [
       "matrix([[0.        , 0.00151111, 0.00145627, ..., 0.        , 0.        ,\n",
       "         0.        ],\n",
       "        [0.00106875, 0.        , 0.00118322, ..., 0.        , 0.        ,\n",
       "         0.        ],\n",
       "        [0.00050294, 0.00057778, 0.        , ..., 0.        , 0.        ,\n",
       "         0.        ],\n",
       "        ...,\n",
       "        [0.        , 0.        , 0.        , ..., 0.        , 0.0075188 ,\n",
       "         0.        ],\n",
       "        [0.        , 0.        , 0.        , ..., 0.0075188 , 0.        ,\n",
       "         0.        ],\n",
       "        [0.        , 0.        , 0.        , ..., 0.        , 0.        ,\n",
       "         0.        ]])"
      ]
     },
     "execution_count": 128,
     "metadata": {},
     "output_type": "execute_result"
    }
   ],
   "source": [
    "M_norm"
   ]
  },
  {
   "cell_type": "markdown",
   "id": "a7d17efa",
   "metadata": {},
   "source": [
    "## Dimension et explication"
   ]
  },
  {
   "cell_type": "code",
   "execution_count": 129,
   "id": "a735390d",
   "metadata": {},
   "outputs": [],
   "source": [
    "# uk -> user k \n",
    "# ig -> movies i, genre g \n",
    "# R_uk -> movie,genre pour user uk\n",
    "# P_ig -> désigne la probabilité avec laquelle l'item i appartient au genre g\n",
    "# M -> matrice correlation\n",
    "# I_uk -> \n",
    "# r_ki -> \n"
   ]
  },
  {
   "cell_type": "code",
   "execution_count": 130,
   "id": "99fb9c31",
   "metadata": {},
   "outputs": [],
   "source": [
    "#R -> n_user X n_movies X n_genres\n",
    "#I -> n_user X n_movies X n_genres\n",
    "\n",
    "#M -> n_movies X n_movies\n",
    "#F_ig -> n_movies X n_genres\n",
    "#I_uk -> n_movies X n_genres"
   ]
  },
  {
   "cell_type": "markdown",
   "id": "6579c4b6",
   "metadata": {},
   "source": [
    "## Computing probabilites of genres P_ig"
   ]
  },
  {
   "cell_type": "code",
   "execution_count": 131,
   "id": "c5d91215",
   "metadata": {},
   "outputs": [
    {
     "data": {
      "text/plain": [
       "array([0.00154223, 0.08291754, 0.05724394, 0.02766942, 0.03011884,\n",
       "       0.17023496, 0.0542502 , 0.01986755, 0.19726935, 0.03528985,\n",
       "       0.00385557, 0.04431643, 0.00716683, 0.01510478, 0.02599111,\n",
       "       0.07216729, 0.04445251, 0.08568448, 0.01728205, 0.00757507])"
      ]
     },
     "execution_count": 131,
     "metadata": {},
     "output_type": "execute_result"
    }
   ],
   "source": [
    "sum_ = movies[[i for i in movies.columns if i != \"movieId\" and i != \"title\"]].to_numpy().sum(axis=0).astype(int)\n",
    "P_ig = sum_ / sum(sum_)\n",
    "P_ig"
   ]
  },
  {
   "cell_type": "code",
   "execution_count": 132,
   "id": "a56a2168",
   "metadata": {},
   "outputs": [
    {
     "data": {
      "text/plain": [
       "(20,)"
      ]
     },
     "execution_count": 132,
     "metadata": {},
     "output_type": "execute_result"
    }
   ],
   "source": [
    "P_ig.shape"
   ]
  },
  {
   "cell_type": "markdown",
   "id": "bc594e61",
   "metadata": {},
   "source": [
    "## Init Computing R_uk"
   ]
  },
  {
   "cell_type": "code",
   "execution_count": 133,
   "id": "83755818",
   "metadata": {},
   "outputs": [],
   "source": [
    "d = 0.15\n",
    "alpha = 0.1\n",
    "n_genres = len(movies.columns) - 2 # Number of genres\n",
    "n_movies = len(movies)\n",
    "n_user = len(set(ratings[\"userId\"]))"
   ]
  },
  {
   "cell_type": "code",
   "execution_count": 134,
   "id": "3be68611",
   "metadata": {},
   "outputs": [],
   "source": [
    "r = 1/(n_movies*n_genres)\n",
    "R_uk = np.full((n_movies, n_genres), r)"
   ]
  },
  {
   "cell_type": "code",
   "execution_count": 135,
   "id": "20d41c3e",
   "metadata": {},
   "outputs": [],
   "source": [
    "# R = np.full((n_user,n_movies, n_genres), r)\n",
    "R = np.array([ np.full((n_movies, n_genres), r) for i in range(n_user)])"
   ]
  },
  {
   "cell_type": "code",
   "execution_count": 136,
   "id": "33243921",
   "metadata": {},
   "outputs": [
    {
     "data": {
      "text/plain": [
       "(9724, 20)"
      ]
     },
     "execution_count": 136,
     "metadata": {},
     "output_type": "execute_result"
    }
   ],
   "source": [
    "R_uk.shape"
   ]
  },
  {
   "cell_type": "code",
   "execution_count": 137,
   "id": "2664f99d",
   "metadata": {},
   "outputs": [
    {
     "data": {
      "text/plain": [
       "(610, 9724, 20)"
      ]
     },
     "execution_count": 137,
     "metadata": {},
     "output_type": "execute_result"
    }
   ],
   "source": [
    "R.shape"
   ]
  },
  {
   "cell_type": "markdown",
   "id": "6cbcf163",
   "metadata": {},
   "source": [
    "## Computing F_ig"
   ]
  },
  {
   "cell_type": "code",
   "execution_count": 138,
   "id": "4b62ef4a",
   "metadata": {},
   "outputs": [],
   "source": [
    "F_ig = np.sum(R_uk, axis=1).reshape(-1,1) @ P_ig.reshape(1,-1)\n",
    "F = np.array([ np.sum(R[i], axis=1).reshape(-1,1) @ P_ig.reshape(1,-1) for i in range(n_user)])"
   ]
  },
  {
   "cell_type": "code",
   "execution_count": 139,
   "id": "f3755fcf",
   "metadata": {},
   "outputs": [
    {
     "data": {
      "text/plain": [
       "(9724, 20)"
      ]
     },
     "execution_count": 139,
     "metadata": {},
     "output_type": "execute_result"
    }
   ],
   "source": [
    "F_ig.shape"
   ]
  },
  {
   "cell_type": "code",
   "execution_count": 140,
   "id": "dbf37193",
   "metadata": {},
   "outputs": [
    {
     "data": {
      "text/plain": [
       "(610, 9724, 20)"
      ]
     },
     "execution_count": 140,
     "metadata": {},
     "output_type": "execute_result"
    }
   ],
   "source": [
    "F.shape"
   ]
  },
  {
   "cell_type": "markdown",
   "id": "638fcf39",
   "metadata": {},
   "source": [
    "# Matrix user X movie"
   ]
  },
  {
   "cell_type": "code",
   "execution_count": 141,
   "id": "4287305b",
   "metadata": {},
   "outputs": [
    {
     "data": {
      "text/plain": [
       "(611, 9724)"
      ]
     },
     "execution_count": 141,
     "metadata": {},
     "output_type": "execute_result"
    }
   ],
   "source": [
    "values = ratings[\"rating\"]\n",
    "rows = ratings[\"userId\"]\n",
    "cols = ratings[\"movieId\"]\n",
    "M_coo2 = scipy.sparse.coo_matrix((values, (rows, cols)))\n",
    "M_csr2 = M_coo2.tocsr()\n",
    "M_csr2.shape"
   ]
  },
  {
   "cell_type": "code",
   "execution_count": 142,
   "id": "2fcb7e63",
   "metadata": {},
   "outputs": [],
   "source": [
    "# Exemple user 1 ( Attention les users commence a 1 DONC pour user 0 marche pas cf after on decale de 1 les id_users)\n",
    "id_user = 1"
   ]
  },
  {
   "cell_type": "markdown",
   "id": "e442c2df",
   "metadata": {},
   "source": [
    "## Computing I_uk"
   ]
  },
  {
   "cell_type": "code",
   "execution_count": 143,
   "id": "7bde68c1",
   "metadata": {},
   "outputs": [
    {
     "data": {
      "text/plain": [
       "(9724, 20)"
      ]
     },
     "execution_count": 143,
     "metadata": {},
     "output_type": "execute_result"
    }
   ],
   "source": [
    "I_uk = M_csr2[id_user,:].T @ P_ig.reshape(1,-1)\n",
    "I_uk = I_uk / I_uk.sum(axis=0).T\n",
    "I_uk.shape"
   ]
  },
  {
   "cell_type": "code",
   "execution_count": 146,
   "id": "920c829d",
   "metadata": {},
   "outputs": [
    {
     "name": "stderr",
     "output_type": "stream",
     "text": [
      "<ipython-input-146-c30515867e2a>:5: RuntimeWarning: invalid value encountered in true_divide\n",
      "  I_temps = I_temps / I_temps.sum(axis=0).T\n"
     ]
    }
   ],
   "source": [
    "# warning a cause de ca ( Attention les users commence a 1 DONC pour user 0 marche pas cf after on decale de 1 les id_users) \n",
    "I = []\n",
    "for id_user in range(n_user) :\n",
    "    I_temps = M_csr2[id_user,:].T @ P_ig.reshape(1,-1)\n",
    "    I_temps = I_temps / I_temps.sum(axis=0).T\n",
    "    I.append(I_temps)\n",
    "I = np.array(I)"
   ]
  },
  {
   "cell_type": "code",
   "execution_count": 147,
   "id": "815ab9dd",
   "metadata": {},
   "outputs": [
    {
     "data": {
      "text/plain": [
       "(610, 9724, 20)"
      ]
     },
     "execution_count": 147,
     "metadata": {},
     "output_type": "execute_result"
    }
   ],
   "source": [
    "I.shape"
   ]
  },
  {
   "cell_type": "markdown",
   "id": "a09f7a92",
   "metadata": {},
   "source": [
    "## Computing R_uk"
   ]
  },
  {
   "cell_type": "code",
   "execution_count": 148,
   "id": "581a60b8",
   "metadata": {},
   "outputs": [
    {
     "data": {
      "text/plain": [
       "array([[9.62606067e-03, 8.15073859e-02, 5.88291082e-02, ...,\n",
       "        8.39515112e-02, 2.35295277e-02, 1.49550552e-02],\n",
       "       [4.43429109e-03, 5.52729362e-02, 3.92335420e-02, ...,\n",
       "        5.70015635e-02, 1.42676299e-02, 8.20326534e-03],\n",
       "       [5.52168083e-03, 3.03467561e-02, 2.25145417e-02, ...,\n",
       "        3.11908640e-02, 1.03234094e-02, 7.36211284e-03],\n",
       "       ...,\n",
       "       [1.31057937e-05, 1.63362234e-04, 1.15956913e-04, ...,\n",
       "        1.68471288e-04, 4.21687729e-05, 2.42452064e-05],\n",
       "       [1.31057937e-05, 1.63362234e-04, 1.15956913e-04, ...,\n",
       "        1.68471288e-04, 4.21687729e-05, 2.42452064e-05],\n",
       "       [1.64561469e-05, 2.05124008e-04, 1.45600034e-04, ...,\n",
       "        2.11539136e-04, 5.29487599e-05, 3.04432291e-05]])"
      ]
     },
     "execution_count": 148,
     "metadata": {},
     "output_type": "execute_result"
    }
   ],
   "source": [
    "# d -> 1\n",
    "# alpha -> 1\n",
    "# M_csr -> (9724, 9724)\n",
    "# R_uk -> (9724, 20)\n",
    "# F_ig -> (9724, 20)\n",
    "\n",
    "R_uk = d*alpha*M_csr@R_uk + d*(1-alpha)*M_csr@F_ig + (1-d)*I_uk\n",
    "R_uk"
   ]
  },
  {
   "cell_type": "code",
   "execution_count": 163,
   "id": "51776fbc",
   "metadata": {
    "scrolled": true
   },
   "outputs": [
    {
     "data": {
      "text/plain": [
       "(9724, 20)"
      ]
     },
     "execution_count": 163,
     "metadata": {},
     "output_type": "execute_result"
    }
   ],
   "source": [
    "R_uk.shape"
   ]
  },
  {
   "cell_type": "code",
   "execution_count": 150,
   "id": "9b812df0",
   "metadata": {},
   "outputs": [
    {
     "data": {
      "text/plain": [
       "(610, 9724, 20)"
      ]
     },
     "execution_count": 150,
     "metadata": {},
     "output_type": "execute_result"
    }
   ],
   "source": [
    "R = np.array([d*alpha*M_csr@R[i]+ d*(1-alpha)*M_csr@F[i] + (1-d)*I[i] for i in range(n_user)])\n",
    "R.shape"
   ]
  },
  {
   "cell_type": "markdown",
   "id": "c3053ed5",
   "metadata": {},
   "source": [
    "## Computing TR_ki"
   ]
  },
  {
   "cell_type": "code",
   "execution_count": 170,
   "id": "fcf37e65",
   "metadata": {},
   "outputs": [
    {
     "data": {
      "text/plain": [
       "(610, 9724)"
      ]
     },
     "execution_count": 170,
     "metadata": {},
     "output_type": "execute_result"
    }
   ],
   "source": [
    "TR_ki = (R_uk @ P_ig)\n",
    "TR = np.array([(R[i] @ P_ig) for i in range(n_user)])\n",
    "TR.shape"
   ]
  },
  {
   "cell_type": "markdown",
   "id": "280283bb",
   "metadata": {},
   "source": [
    "## Best movie"
   ]
  },
  {
   "cell_type": "code",
   "execution_count": 174,
   "id": "8bd6d7b6",
   "metadata": {},
   "outputs": [],
   "source": [
    "# Trie les recommendations\n",
    "for i in range(len(TR)) :\n",
    "    TR[i,:] = np.argsort(TR[i,:])[::-1]"
   ]
  },
  {
   "cell_type": "code",
   "execution_count": 175,
   "id": "d0388e33",
   "metadata": {},
   "outputs": [
    {
     "data": {
      "text/plain": [
       "(610, 10)"
      ]
     },
     "execution_count": 175,
     "metadata": {},
     "output_type": "execute_result"
    }
   ],
   "source": [
    "top_10 = TR[:,:10]\n",
    "top_10.shape"
   ]
  },
  {
   "cell_type": "code",
   "execution_count": 179,
   "id": "89ed404c",
   "metadata": {},
   "outputs": [
    {
     "data": {
      "text/plain": [
       "array([0., 1., 2., 3., 4., 5., 6., 7., 8., 9.])"
      ]
     },
     "execution_count": 179,
     "metadata": {},
     "output_type": "execute_result"
    }
   ],
   "source": [
    "top_10[1,:]"
   ]
  },
  {
   "cell_type": "code",
   "execution_count": null,
   "id": "1d022543",
   "metadata": {},
   "outputs": [],
   "source": []
  },
  {
   "cell_type": "code",
   "execution_count": null,
   "id": "16cc2709",
   "metadata": {},
   "outputs": [],
   "source": []
  },
  {
   "cell_type": "code",
   "execution_count": null,
   "id": "bbac8979",
   "metadata": {},
   "outputs": [],
   "source": []
  },
  {
   "cell_type": "code",
   "execution_count": null,
   "id": "ab298051",
   "metadata": {},
   "outputs": [],
   "source": []
  },
  {
   "cell_type": "code",
   "execution_count": null,
   "id": "cc308fd8",
   "metadata": {},
   "outputs": [],
   "source": [
    "# brouillon"
   ]
  },
  {
   "cell_type": "code",
   "execution_count": null,
   "id": "3823f0ad",
   "metadata": {},
   "outputs": [],
   "source": [
    "# ind_one_user  =ratings[ratings['userId'] ==1]['movieId'].to_numpy()"
   ]
  }
 ],
 "metadata": {
  "kernelspec": {
   "display_name": "Python 3",
   "language": "python",
   "name": "python3"
  },
  "language_info": {
   "codemirror_mode": {
    "name": "ipython",
    "version": 3
   },
   "file_extension": ".py",
   "mimetype": "text/x-python",
   "name": "python",
   "nbconvert_exporter": "python",
   "pygments_lexer": "ipython3",
   "version": "3.8.8"
  }
 },
 "nbformat": 4,
 "nbformat_minor": 5
}
