{
 "cells": [
  {
   "cell_type": "markdown",
   "id": "a076f437",
   "metadata": {},
   "source": [
    "## Importations"
   ]
  },
  {
   "cell_type": "code",
   "execution_count": 1,
   "id": "481b8bc2",
   "metadata": {},
   "outputs": [],
   "source": [
    "import numpy as np\n",
    "import pandas as pd\n",
    "import itertools as it\n",
    "import scipy\n",
    "from tqdm import tqdm\n",
    "from collections import Counter\n",
    "from sklearn.preprocessing import MultiLabelBinarizer"
   ]
  },
  {
   "cell_type": "markdown",
   "id": "f77d5c31",
   "metadata": {},
   "source": [
    "# Global variables"
   ]
  },
  {
   "cell_type": "code",
   "execution_count": null,
   "id": "79c44685",
   "metadata": {},
   "outputs": [],
   "source": [
    "# Small: 100,000 ratings and 3,600 tag applications applied to 9,000 movies by 600 users.\n",
    "# Average computation time without optimization : 10s/user --> 6100s --> less than 2 hours\n",
    "# Full: 27,000,000 ratings and 1,100,000 tag applications applied to 58,000 movies by 280,000 users.\n",
    "# Average computation time without optimization : "
   ]
  },
  {
   "cell_type": "code",
   "execution_count": 2,
   "id": "e093eebe",
   "metadata": {},
   "outputs": [],
   "source": [
    "PATH = \"../data/\"\n",
    "DATASET_TYPE = \"small\"\n",
    "TRAIN_SIZE = 0.8\n",
    "MINIMUM_SEEN_MOVIES = 1\n",
    "MINIMUM_SEEN_USERS = 20"
   ]
  },
  {
   "cell_type": "markdown",
   "id": "b3f29d4c",
   "metadata": {},
   "source": [
    "## Loading data"
   ]
  },
  {
   "cell_type": "code",
   "execution_count": 3,
   "id": "ab1b9e9d",
   "metadata": {},
   "outputs": [],
   "source": [
    "def load_data(path, dataset_type=\"small\"):\n",
    "\tif dataset_type == \"small\":\n",
    "\t\tmovies = pd.read_csv(path + \"ml-latest-small/movies.csv\")\n",
    "\t\tratings = pd.read_csv(path + \"ml-latest-small/ratings.csv\")\n",
    "\telif dataset_type == \"full\":\n",
    "\t\tmovies = pd.read_csv(path + \"ml-latest/movies.csv\")\n",
    "\t\tratings = pd.read_csv(path + \"ml-latest/ratings.csv\")\n",
    "\treturn movies, ratings"
   ]
  },
  {
   "cell_type": "code",
   "execution_count": 4,
   "id": "aae37329",
   "metadata": {},
   "outputs": [],
   "source": [
    "movies, ratings = load_data(PATH, DATASET_TYPE)"
   ]
  },
  {
   "cell_type": "markdown",
   "id": "b9eda4a1",
   "metadata": {},
   "source": [
    "# Preprocessing data"
   ]
  },
  {
   "cell_type": "code",
   "execution_count": 5,
   "id": "675978bc",
   "metadata": {},
   "outputs": [],
   "source": [
    "## Delete films seen only by a certain number of users\n",
    "\n",
    "def get_id_delete_solo_films(data, threshold,nom_colonne) :\n",
    "    '''\n",
    "    data -> movies ou ratings ( dataframe qui contient une colonne movieId )\n",
    "    '''\n",
    "    list_key_values = np.array(list(Counter(data[nom_colonne].values).items()))\n",
    "    key,values = list_key_values[:,0],list_key_values[:,1]\n",
    "    id_delete =  np.where(values < threshold)[0]\n",
    "    return key[id_delete]\n",
    "\n",
    "def delete_solo_films(data,id_delete,nom_colonne) :\n",
    "    '''\n",
    "    data -> movies ou ratings ( dataframe qui contient une colonne movieId )\n",
    "    '''\n",
    "    array_movieId = data[nom_colonne].values\n",
    "    ind = [i for i in range(len(array_movieId)) if array_movieId[i] not in id_delete ]\n",
    "    return data.iloc[ind]\n",
    "\n",
    "## Building ratings and movies dataframe which both contains the same movieId\n",
    "def clear_dataset(movies, ratings):\n",
    "\n",
    "\tid_delete = get_id_delete_solo_films(ratings, MINIMUM_SEEN_MOVIES,'movieId')\n",
    "\tratings = delete_solo_films(ratings,id_delete,'movieId')\n",
    "\tmovies = delete_solo_films(movies,id_delete,'movieId')\n",
    "\tid_delete = get_id_delete_solo_films(ratings, MINIMUM_SEEN_USERS,'userId')\n",
    "\tratings = delete_solo_films(ratings,id_delete,'userId')\n",
    "\t\n",
    "\tlist_movieId = list(set(movies[\"movieId\"].values).intersection(set(ratings[\"movieId\"].values)))\n",
    "\tmovies_old = movies['movieId'].values\n",
    "\tl = []\n",
    "\tfor i in range(len(movies_old)):\n",
    "\t\tif movies_old[i] in list_movieId:\n",
    "\t\t\tl.append(i)\n",
    "\tmovies = movies.iloc[l,:]\n",
    "\n",
    "\ta = sorted(list(list_movieId))\n",
    "\tb = range(len(a))\n",
    "\td = dict(zip(a,b))\n",
    "\tmovies = movies.replace({'movieId' : d})\n",
    "\n",
    "\ta = sorted(list(list_movieId))\n",
    "\tb = range(len(a))\n",
    "\td = dict(zip(a,b))\n",
    "\tratings = ratings.replace({'movieId' : d})\n",
    "    \n",
    "\tratings.index = range(len(ratings))\n",
    "\tmovies.index = range(len(movies))\n",
    "\n",
    "\treturn movies, ratings\t\n",
    "\t\n",
    "## Building one hot encoded genres in movies dataframe\n",
    "def one_hot_encode_genres(movies):\n",
    "\ttmp = []\n",
    "\tfor elt in movies[\"genres\"]:\n",
    "\t\ttmp.append(elt.split(\"|\"))\n",
    "\tmovies[\"genres\"] = tmp\n",
    "\tmlb = MultiLabelBinarizer(sparse_output=True)\n",
    "\tmovies = movies.join(\n",
    "\t\t\t\tpd.DataFrame.sparse.from_spmatrix(\n",
    "\t\t\t\t\t\t\t\t\t\t\t\tmlb.fit_transform(movies.pop('genres')),\n",
    "\t\t\t\t\t\t\t\t\t\t\t\tindex=movies.index,\n",
    "\t\t\t\t\t\t\t\t\t\t\t\tcolumns=mlb.classes_))\n",
    "\treturn movies\n",
    "\n",
    "## Cleaning ratings datagrame\n",
    "def preprocess_ratings(ratings):\n",
    "\tratings = ratings.drop(columns=[\"timestamp\"])\n",
    "\tratings['userId'] = ratings['userId'].to_numpy() - 1 # car pas de user 0\n",
    "\treturn ratings\n",
    "\n",
    "## Split for computing metrics on test later\n",
    "def split_set(userId, train_size, ratings):\n",
    "\trating_user = ratings[ratings[\"userId\"] == userId]\n",
    "\ttrain_rating_user, test_rating_user = rating_user.to_numpy()[:int(train_size*len(rating_user))], rating_user.to_numpy()[int(train_size*len(rating_user)):]\n",
    "\treturn train_rating_user, test_rating_user\n",
    "\n",
    "## Get informations on users watched/unwatched movies...\n",
    "def get_infos_user(userId):\n",
    "\twatched_user = set(ratings[ratings[\"userId\"] == userId][\"movieId\"])\n",
    "\twatched_all = set(ratings['movieId'])\n",
    "\tunwatched_user = list(watched_all.difference(watched_user))\n",
    "\treturn watched_user, watched_all, unwatched_user"
   ]
  },
  {
   "cell_type": "code",
   "execution_count": 6,
   "id": "3b8a7e5f",
   "metadata": {},
   "outputs": [],
   "source": [
    "movies, ratings = clear_dataset(movies, ratings)\n",
    "movies = one_hot_encode_genres(movies)\n",
    "ratings = preprocess_ratings(ratings)"
   ]
  },
  {
   "cell_type": "markdown",
   "id": "6be0081e",
   "metadata": {},
   "source": [
    "# Building matrix"
   ]
  },
  {
   "cell_type": "code",
   "execution_count": 7,
   "id": "025984d0",
   "metadata": {},
   "outputs": [],
   "source": [
    "# Building a sparse matrix which contains the triple (u_k, m_i, r_ki)\n",
    "# def build_sparse_matrix_triples(ratings):\n",
    "# \tratings_sparse = scipy.sparse.csr_matrix(ratings.values)\n",
    "# \treturn ratings_sparse\n",
    "\n",
    "## Building a matrix M = (n_movies, n_movies) which contains the number of users who'se seen m_i and m_j\n",
    "def build_M_matrix(ratings, train_size):\n",
    "\tdata_dict = dict()\n",
    "\ttrain_rating_user_list = []\n",
    "\ttest_rating_user_list = []\n",
    "\tfor userId in tqdm(set(ratings[\"userId\"])):\n",
    "\t\ttrain_rating_user, test_rating_user = split_set(userId, train_size, ratings)\n",
    "\t\ttrain_rating_user_list.append(np.array(train_rating_user))\n",
    "\t\ttest_rating_user_list.append(np.array(test_rating_user))\n",
    "\t\titerator = it.combinations(train_rating_user[:,1], 2)\n",
    "\t\tfor x, y in iterator:\n",
    "\t\t\tdata_dict[(x,y)] = data_dict.get((x,y), 0.) + 1.\n",
    "\t\t\tdata_dict[(y,x)] = data_dict.get((y,x), 0.) + 1.\n",
    "\t\titerator = it.combinations(test_rating_user[:,1], 2)\n",
    "\t\tfor x, y in iterator:\n",
    "\t\t\t# We need to ignore the test movies\n",
    "\t\t\tdata_dict[(x,y)] = 0\n",
    "\t\t\tdata_dict[(y,x)] = 0\n",
    "\tkeys = np.array(list(data_dict.keys())).astype(int)\n",
    "\tvalues = np.array(list(data_dict.values())).astype(float)\n",
    "\tM_coo = scipy.sparse.coo_matrix((values, (keys[:,0], keys[:,1])))\n",
    "\tM_csr = M_coo.tocsr()\n",
    "\tM_norm = M_csr\n",
    "\treturn M_norm, train_rating_user_list, test_rating_user_list\n",
    "\n",
    "## Computing probabilites of genres P_ig\n",
    "def build_P_ig(movies):\n",
    "\tsum_ = movies[[i for i in movies.columns if i != \"movieId\" and i != \"title\"]].to_numpy().sum(axis=0).astype(int)\n",
    "\tP_ig = sum_ / sum(sum_)\n",
    "\treturn P_ig.reshape(-1, 1)\n",
    "\n",
    "## Initialisation of R_uk before iterative algorithm\n",
    "def init_R_uk(movies):\n",
    "\tn_genres = len(movies.columns) - 2\n",
    "\tn_movies = len(movies)\n",
    "\tr = 1/(n_movies*n_genres)\n",
    "\tR_uk = np.full((n_movies, n_genres), r)\n",
    "\treturn R_uk\n",
    "\n",
    "## Computing F_ig for each user\n",
    "def build_F_ig(R_uk, P_ig):\n",
    "\tF_ig = np.sum(R_uk, axis=1).reshape(-1,1) @ P_ig.reshape(1,-1)\n",
    "\treturn F_ig\n",
    "\n",
    "## Matrix user X movie\n",
    "def build_ratings_matrix(ratings):\n",
    "\tvalues = ratings[\"rating\"]\n",
    "\trows = ratings[\"userId\"]\n",
    "\tcols = ratings[\"movieId\"]\n",
    "\tM_coo = scipy.sparse.coo_matrix((values, (rows, cols)))\n",
    "\tM_csr = M_coo.tocsr()\n",
    "\treturn M_csr\n",
    "\n",
    "## Build I_uk for each user\n",
    "def build_I_uk(tmp_M, id_user, P_ig):\n",
    "# \tprint(tmp_M[id_user,:].T.shape)\n",
    "\tI_uk = tmp_M[id_user,:].T @ P_ig.reshape(1,-1)\n",
    "\tI_uk = I_uk / I_uk.sum(axis=0).T\n",
    "\treturn I_uk\n",
    "\n",
    "## Init the matrix needed before running the iterative algorithm\n",
    "def init(movies, ratings, train_size):\n",
    "\tprint(\"Init R_uk...\")\n",
    "\tR_uk = init_R_uk(movies)\n",
    "\tprint(R_uk.shape)\n",
    "\tprint(\"Building P_ig...\")\n",
    "\ttmp_M = build_ratings_matrix(ratings)\n",
    "\tP_ig = build_P_ig(movies)\n",
    "\tprint(P_ig.shape)\n",
    "\tprint(\"Building M_csr...\")\n",
    "\tM_csr, train_rating_user_list, test_rating_user_list = build_M_matrix(ratings, train_size)\n",
    "\tprint(M_csr.shape)\n",
    "\treturn R_uk, tmp_M, P_ig, M_csr, np.array(train_rating_user_list, dtype=object), np.array(test_rating_user_list, dtype=object)"
   ]
  },
  {
   "cell_type": "code",
   "execution_count": 8,
   "id": "5ec458e5",
   "metadata": {
    "scrolled": true
   },
   "outputs": [
    {
     "name": "stdout",
     "output_type": "stream",
     "text": [
      "Init R_uk...\n",
      "(9724, 20)\n",
      "Building P_ig...\n",
      "(20, 1)\n",
      "Building M_csr...\n"
     ]
    },
    {
     "name": "stderr",
     "output_type": "stream",
     "text": [
      "100%|██████████| 610/610 [00:31<00:00, 19.26it/s]\n"
     ]
    },
    {
     "name": "stdout",
     "output_type": "stream",
     "text": [
      "(9724, 9724)\n"
     ]
    }
   ],
   "source": [
    "R_uk, tmp_M, P_ig, M_csr, train_rating_user_list, test_rating_user_list = init(movies, ratings, TRAIN_SIZE)"
   ]
  },
  {
   "cell_type": "markdown",
   "id": "d6051cda",
   "metadata": {},
   "source": [
    "## Run the algorithm"
   ]
  },
  {
   "cell_type": "code",
   "execution_count": 9,
   "id": "45ac2294",
   "metadata": {},
   "outputs": [],
   "source": [
    "## Compute TR_ki for a specific user\n",
    "def compute_TR_ki(id_user, R_uk, tmp_M, P_ig, M_csr, d, alpha, iter_max):\n",
    "\tI_uk = build_I_uk(tmp_M, id_user, P_ig)\n",
    "\tfor _ in range(iter_max):\n",
    "\t\tF_ig = build_F_ig(R_uk, P_ig)\n",
    "\t\tR_uk = d * alpha * M_csr @ R_uk + d * (1-alpha) * M_csr @ F_ig + (1-d) * I_uk\n",
    "\n",
    "\t\t# This part is useful if you want to normalize + break if converge\n",
    "\t\t# R_uk = (R_uk / R_uk.sum(axis=1)).T # Normalization isn't working\n",
    "\t\t#     print(np.abs(np.sum(R_uk - R_uk_old)))\n",
    "\t\t#     if np.abs(np.sum(R_uk - R_uk_old)) < eps :\n",
    "\t\t#         print(i)\n",
    "\t\t#         break\n",
    "\t\t# R_uk_old = R_uk.copy()\n",
    "\t\n",
    "\tTR_ki = np.array(R_uk @ P_ig) # It returns a np.mat object which can't be reduced to dimension 1\n",
    "\treturn TR_ki.reshape(-1)\n",
    "\n",
    "## Compute TR_ki for all users\n",
    "def iterative_TR_ki(n_user, R_uk, tmp_M, P_ig, M_csr, d=0.15, alpha=0.1, iter_max=5):\n",
    "\tprint(\"Computing TR_ki for all users...\")\n",
    "\tTR_ki_all_user = []\n",
    "\tfor id_user in tqdm(range(n_user)):\n",
    "\t\tTR_ki_all_user.append(compute_TR_ki(id_user, R_uk, tmp_M, P_ig, M_csr, d, alpha, iter_max))\n",
    "\treturn np.array(TR_ki_all_user)"
   ]
  },
  {
   "cell_type": "code",
   "execution_count": 10,
   "id": "8e820f8e",
   "metadata": {},
   "outputs": [
    {
     "name": "stdout",
     "output_type": "stream",
     "text": [
      "Computing TR_ki for all users...\n"
     ]
    },
    {
     "name": "stderr",
     "output_type": "stream",
     "text": [
      "100%|██████████| 610/610 [1:31:16<00:00,  8.98s/it]\n"
     ]
    }
   ],
   "source": [
    "n_user = len(np.unique(ratings[\"userId\"]))\n",
    "# n_user = 3 ## Use when testing\n",
    "\n",
    "TR_ki_all_user = iterative_TR_ki(n_user, R_uk, tmp_M, P_ig, M_csr, d=0.15, alpha=0.1, iter_max=15)"
   ]
  },
  {
   "cell_type": "markdown",
   "id": "0a9a8aae",
   "metadata": {},
   "source": [
    "## Running some test for a test user"
   ]
  },
  {
   "cell_type": "code",
   "execution_count": 11,
   "id": "357c0f41",
   "metadata": {},
   "outputs": [],
   "source": [
    "## Returns the recommandation for the users\n",
    "def sort_by_best_movie(TR_ki_all_user):\n",
    "\tsorted_movies_all_user = np.zeros_like(TR_ki_all_user)\n",
    "\tfor i in range(len(TR_ki_all_user)):\n",
    "\t\tsorted_movies_all_user[i,:] = np.argsort(TR_ki_all_user[i,:])[::-1]\n",
    "\treturn sorted_movies_all_user"
   ]
  },
  {
   "cell_type": "code",
   "execution_count": 12,
   "id": "c5718f05",
   "metadata": {},
   "outputs": [
    {
     "name": "stdout",
     "output_type": "stream",
     "text": [
      "TR_ki_all_user shape: (610, 9724)\n",
      "test_rating_user_list shape: (610,)\n",
      "TR_ki for test user :\n",
      " [2.93046160e+46 1.96685975e+46 9.19795737e+45 7.29222993e+44\n",
      " 7.18081385e+45 1.66184118e+46 7.31482045e+45 1.72714022e+45\n",
      " 1.60570300e+45 1.94510800e+46]\n"
     ]
    }
   ],
   "source": [
    "test_user_id = 1\n",
    "\n",
    "print(\"TR_ki_all_user shape:\", TR_ki_all_user.shape)\n",
    "print(\"test_rating_user_list shape:\", test_rating_user_list.shape)\n",
    "print(\"TR_ki for test user :\\n\", TR_ki_all_user[test_user_id, :10])"
   ]
  },
  {
   "cell_type": "code",
   "execution_count": 13,
   "id": "00396e95",
   "metadata": {},
   "outputs": [
    {
     "name": "stdout",
     "output_type": "stream",
     "text": [
      "sorted_movies_all_user shape: (610, 9724)\n",
      "Sorted best movies recommandation for test user :\n",
      " [ 314.  257.  224.  277. 1938.  897.  418.   43.    0.  899.]\n"
     ]
    }
   ],
   "source": [
    "sorted_movies_all_user = sort_by_best_movie(TR_ki_all_user)\n",
    "print(\"sorted_movies_all_user shape:\", sorted_movies_all_user.shape)\n",
    "print(\"Sorted best movies recommandation for test user :\\n\", sorted_movies_all_user[test_user_id,:10])"
   ]
  },
  {
   "cell_type": "markdown",
   "id": "967928da",
   "metadata": {},
   "source": [
    "## Running some test for the DOA metrics before computing it on whole user list"
   ]
  },
  {
   "cell_type": "code",
   "execution_count": 14,
   "id": "43786ec9",
   "metadata": {},
   "outputs": [],
   "source": [
    "## Computes DOA score for a specific user\n",
    "def compute_doa_score(TR_ki, test_rating_user, unwatched_user):\n",
    "\tscore = 0\n",
    "\tfor m_i in test_rating_user:\n",
    "\t\tfor m_j in unwatched_user:\n",
    "\t\t\tif TR_ki[int(m_i)] > TR_ki[int(m_j)]:\n",
    "\t\t\t\tscore += 1\n",
    "\treturn score / (len(test_rating_user) * len(unwatched_user))\n",
    "\n",
    "## Computes DOA for the whole user list\n",
    "def compute_all_doa(TR_ki_all_user, test_rating_user_list):\n",
    "\tscore = 0\n",
    "\tn_user = TR_ki_all_user.shape[0]\n",
    "\tfor user_id in range(n_user):\n",
    "\t\ttmp = test_rating_user_list[user_id]\n",
    "\t\ttest_films = tmp[:,1]\n",
    "\t\tTR_ki = TR_ki_all_user[user_id]\n",
    "\t\t_, _, unwatched_films = get_infos_user(user_id)\n",
    "\t\tscore += compute_doa_score(TR_ki, test_films, unwatched_films)\n",
    "\treturn score / n_user\n",
    "\n",
    "def test_doa_user(n_user, n_film_test):\n",
    "\tfor test_user_id in range(n_user):\n",
    "\t\tprint(\"---------- Testing user number\", test_user_id, \"----------\")\n",
    "\t\ttest = test_rating_user_list[test_user_id]\n",
    "\t\ttest_films = test[:,1]\n",
    "\t\tTR_ki = TR_ki_all_user[test_user_id]\n",
    "\t\t_, _, unwatched_films = get_infos_user(test_user_id)\n",
    "\t\tprint(\"Some movies from test set:\")\n",
    "\t\tprint(test_films[:n_film_test])\n",
    "\t\tprint(\"Some movies from unwatched set:\")\n",
    "\t\tprint(unwatched_films[:n_film_test])\n",
    "\t\tprint(\"Some score for test set (movies watched by user):\")\n",
    "\t\tfor i in test_films[:n_film_test]:\n",
    "\t\t\tprint(TR_ki[int(i)])\n",
    "\t\tprint(\"Some score for unwatched movies:\")\n",
    "\t\tfor i in unwatched_films[:n_film_test]:\n",
    "\t\t\tprint(TR_ki[int(i)])\n",
    "\t\tprint(\"Total DOA score for this user :\", compute_doa_score(TR_ki, test_films, unwatched_films))"
   ]
  },
  {
   "cell_type": "code",
   "execution_count": 15,
   "id": "4974fbec",
   "metadata": {},
   "outputs": [
    {
     "name": "stdout",
     "output_type": "stream",
     "text": [
      "---------- Testing user number 0 ----------\n",
      "Some movies from test set:\n",
      "[2156. 2181. 2192. 2214.]\n",
      "Some movies from unwatched set:\n",
      "[1, 3, 4, 6]\n",
      "Some score for test set (movies watched by user):\n",
      "5.146217412576088e+45\n",
      "0.004195459032576507\n",
      "1.620491243406999e+46\n",
      "5.50076201994018e+45\n",
      "Some score for unwatched movies:\n",
      "2.0152187453129057e+46\n",
      "7.471523319482544e+44\n",
      "7.357367855637517e+45\n",
      "7.49466926857134e+45\n",
      "Total DOA score for this user : 0.9124167271879567\n"
     ]
    }
   ],
   "source": [
    "test_doa_user(n_user=1, n_film_test=4)"
   ]
  },
  {
   "cell_type": "markdown",
   "id": "1c4d5093",
   "metadata": {},
   "source": [
    "## Computing final DOA metric for the whole dataset"
   ]
  },
  {
   "cell_type": "code",
   "execution_count": 16,
   "id": "b86cee92",
   "metadata": {},
   "outputs": [
    {
     "name": "stdout",
     "output_type": "stream",
     "text": [
      "DOA for all users : 0.7533029762621265\n"
     ]
    }
   ],
   "source": [
    "print(\"DOA for all users :\", compute_all_doa(TR_ki_all_user, test_rating_user_list))"
   ]
  },
  {
   "cell_type": "markdown",
   "id": "cd92bb73",
   "metadata": {},
   "source": [
    "## Building a dataset to do an experiment campaign"
   ]
  },
  {
   "cell_type": "code",
   "execution_count": 25,
   "id": "4cd6f3ee",
   "metadata": {},
   "outputs": [],
   "source": [
    "def build_experimental_dataset(movies, TR_ki_all_user, train_rating_user_list, test_rating_user_list, n_user, n_film_test):\n",
    "\tdataset = []\n",
    "\tdict_id_title = dict(zip(list(movies['movieId']),list(movies['title'])))\n",
    "\tfor userId in tqdm(range(n_user)):\n",
    "\t\ttrain_rating_user = train_rating_user_list[userId][:,1].astype(int)\n",
    "\t\ttest_rating_user = test_rating_user_list[userId][:,1].astype(int)\n",
    "\t\t_, _, unwatched_user = get_infos_user(userId)\n",
    "\t\tunwatched_user = np.append(test_rating_user, unwatched_user)\n",
    "\n",
    "\t\tind_sort =  np.argsort(TR_ki_all_user[userId,:])[::-1]\n",
    "\n",
    "\t\twatched_user_final = []\n",
    "\t\tunwatched_user_final = []\n",
    "\n",
    "\t\tfor ind in ind_sort :\n",
    "\n",
    "\t\t\tif ind in train_rating_user:\n",
    "\t\t\t\twatched_user_final.append(ind)\n",
    "\t\t\telse : #ind in unwatched_user_final\n",
    "\t\t\t\tunwatched_user_final.append(ind)\n",
    "\n",
    "\t\twatched_user_best = watched_user_final[:n_film_test]\n",
    "\t\tunwatched_user_best = unwatched_user_final[:n_film_test]\n",
    "\t\tunwatched_user_rand = np.random.choice(np.array(unwatched_user_final[n_film_test+1:]), size=n_film_test)\n",
    "\n",
    "\t\twatched_user_best_dict = { str(movieId) : dict_id_title[movieId] for movieId in watched_user_best } \n",
    "\t\tunwatched_user_best_dict = { str(movieId) : dict_id_title[movieId] for movieId in unwatched_user_best } \n",
    "\t\tunwatched_user_rand_dict = { str(movieId) : dict_id_title[movieId] for movieId in unwatched_user_rand }\n",
    "\n",
    "\t\tdataset.append((watched_user_best_dict,unwatched_user_best_dict,unwatched_user_rand_dict))\n",
    "\n",
    "\treturn np.array(dataset)"
   ]
  },
  {
   "cell_type": "code",
   "execution_count": 26,
   "id": "dd2525da",
   "metadata": {},
   "outputs": [],
   "source": [
    "dataset = build_experimental_dataset(movies, TR_ki_all_user, train_rating_user_list, test_rating_user_list, n_user, n_film_test=5)"
   ]
  },
  {
   "cell_type": "code",
   "execution_count": 27,
   "id": "820e5ce9",
   "metadata": {},
   "outputs": [
    {
     "data": {
      "text/plain": [
       "(610, 3)"
      ]
     },
     "execution_count": 27,
     "metadata": {},
     "output_type": "execute_result"
    }
   ],
   "source": [
    "dataset.shape"
   ]
  },
  {
   "cell_type": "markdown",
   "id": "0d337118",
   "metadata": {},
   "source": [
    "## Testing our experiment dataset"
   ]
  },
  {
   "cell_type": "code",
   "execution_count": 37,
   "id": "398f5e8e",
   "metadata": {},
   "outputs": [
    {
     "name": "stdout",
     "output_type": "stream",
     "text": [
      "[{'314': 'Forrest Gump (1994)', '257': 'Pulp Fiction (1994)', '224': 'Star Wars: Episode IV - A New Hope (1977)', '1938': 'Matrix, The (1999)', '897': 'Star Wars: Episode V - The Empire Strikes Back (1980)'}\n",
      " {'277': 'Shawshank Redemption, The (1994)', '2224': 'Fight Club (1999)', '659': 'Godfather, The (1972)', '507': 'Terminator 2: Judgment Day (1991)', '31': 'Twelve Monkeys (a.k.a. 12 Monkeys) (1995)'}\n",
      " {'6653': 'Untraceable (2008)', '4179': 'Mystery Date (1991)', '2993': 'Punchline (1988)', '6167': 'Friends with Money (2006)', '4298': 'House of 1000 Corpses (2003)'}]\n"
     ]
    }
   ],
   "source": [
    "userId = 0\n",
    "print(dataset[userId])"
   ]
  },
  {
   "cell_type": "code",
   "execution_count": 38,
   "id": "2fff6b2f",
   "metadata": {},
   "outputs": [
    {
     "name": "stdout",
     "output_type": "stream",
     "text": [
      "[{'277': 'Shawshank Redemption, The (1994)', '1283': 'Good Will Hunting (1997)', '2670': 'Gladiator (2000)', '4607': 'Kill Bill: Vol. 1 (2003)', '291': 'Tommy Boy (1995)'}\n",
      " {'314': 'Forrest Gump (1994)', '257': 'Pulp Fiction (1994)', '224': 'Star Wars: Episode IV - A New Hope (1977)', '1938': 'Matrix, The (1999)', '897': 'Star Wars: Episode V - The Empire Strikes Back (1980)'}\n",
      " {'4002': 'Brown Sugar (2002)', '5089': 'Frankenstein Unbound (1990)', '6845': 'City of Ember (2008)', '3209': 'Animal, The (2001)', '546': 'Mission: Impossible (1996)'}]\n"
     ]
    }
   ],
   "source": [
    "userId = 1\n",
    "print(dataset[userId])"
   ]
  },
  {
   "cell_type": "code",
   "execution_count": 42,
   "id": "5db19137",
   "metadata": {},
   "outputs": [
    {
     "data": {
      "text/plain": [
       "array([[{'314': 'Forrest Gump (1994)', '257': 'Pulp Fiction (1994)', '224': 'Star Wars: Episode IV - A New Hope (1977)', '1938': 'Matrix, The (1999)', '897': 'Star Wars: Episode V - The Empire Strikes Back (1980)'},\n",
       "        {'277': 'Shawshank Redemption, The (1994)', '2224': 'Fight Club (1999)', '659': 'Godfather, The (1972)', '507': 'Terminator 2: Judgment Day (1991)', '31': 'Twelve Monkeys (a.k.a. 12 Monkeys) (1995)'},\n",
       "        {'6653': 'Untraceable (2008)', '4179': 'Mystery Date (1991)', '2993': 'Punchline (1988)', '6167': 'Friends with Money (2006)', '4298': 'House of 1000 Corpses (2003)'}],\n",
       "       [{'277': 'Shawshank Redemption, The (1994)', '1283': 'Good Will Hunting (1997)', '2670': 'Gladiator (2000)', '4607': 'Kill Bill: Vol. 1 (2003)', '291': 'Tommy Boy (1995)'},\n",
       "        {'314': 'Forrest Gump (1994)', '257': 'Pulp Fiction (1994)', '224': 'Star Wars: Episode IV - A New Hope (1977)', '1938': 'Matrix, The (1999)', '897': 'Star Wars: Episode V - The Empire Strikes Back (1980)'},\n",
       "        {'4002': 'Brown Sugar (2002)', '5089': 'Frankenstein Unbound (1990)', '6845': 'City of Ember (2008)', '3209': 'Animal, The (2001)', '546': 'Mission: Impossible (1996)'}],\n",
       "       [{'461': \"Schindler's List (1993)\", '2941': 'Requiem for a Dream (2000)', '1543': 'Lady and the Tramp (1955)', '973': 'Highlander (1986)', '999': 'Field of Dreams (1989)'},\n",
       "        {'314': 'Forrest Gump (1994)', '257': 'Pulp Fiction (1994)', '224': 'Star Wars: Episode IV - A New Hope (1977)', '277': 'Shawshank Redemption, The (1994)', '1938': 'Matrix, The (1999)'},\n",
       "        {'8087': 'Safe Haven (2013)', '1167': 'Rough Magic (1995)', '5198': 'Christmas Carol, A (Scrooge) (1951)', '1399': 'Madeline (1998)', '9639': 'Ferdinand (2017)'}],\n",
       "       [{'257': 'Pulp Fiction (1994)', '224': 'Star Wars: Episode IV - A New Hope (1977)', '1938': 'Matrix, The (1999)', '897': 'Star Wars: Episode V - The Empire Strikes Back (1980)', '43': 'Seven (a.k.a. Se7en) (1995)'},\n",
       "        {'314': 'Forrest Gump (1994)', '277': 'Shawshank Redemption, The (1994)', '418': 'Jurassic Park (1993)', '0': 'Toy Story (1995)', '97': 'Braveheart (1995)'},\n",
       "        {'6730': 'Fall, The (2006)', '2171': 'Drive Me Crazy (1999)', '3244': 'Alice (1990)', '8082': 'Identity Thief (2013)', '7014': 'Night at the Museum: Battle of the Smithsonian (2009)'}],\n",
       "       [{'257': 'Pulp Fiction (1994)', '277': 'Shawshank Redemption, The (1994)', '0': 'Toy Story (1995)', '97': 'Braveheart (1995)', '46': 'Usual Suspects, The (1995)'},\n",
       "        {'314': 'Forrest Gump (1994)', '224': 'Star Wars: Episode IV - A New Hope (1977)', '1938': 'Matrix, The (1999)', '897': 'Star Wars: Episode V - The Empire Strikes Back (1980)', '418': 'Jurassic Park (1993)'},\n",
       "        {'1186': 'Contact (1997)', '9013': 'Ready Player One', '6551': 'December Boys (2007)', '4104': 'Elling (2001)', '3749': 'Taps (1981)'}],\n",
       "       [{'314': 'Forrest Gump (1994)', '257': 'Pulp Fiction (1994)', '277': 'Shawshank Redemption, The (1994)', '418': 'Jurassic Park (1993)', '43': 'Seven (a.k.a. Se7en) (1995)'},\n",
       "        {'224': 'Star Wars: Episode IV - A New Hope (1977)', '1938': 'Matrix, The (1999)', '897': 'Star Wars: Episode V - The Empire Strikes Back (1980)', '0': 'Toy Story (1995)', '899': 'Raiders of the Lost Ark (Indiana Jones and the Raiders of the Lost Ark) (1981)'},\n",
       "        {'5891': 'Cinderella Man (2005)', '5348': 'Tarnation (2003)', '3116': 'Battle Beyond the Stars (1980)', '7561': '13 Assassins (Jûsan-nin no shikaku) (2010)', '9179': 'Tomorrow (2015)'}],\n",
       "       [{'314': 'Forrest Gump (1994)', '224': 'Star Wars: Episode IV - A New Hope (1977)', '897': 'Star Wars: Episode V - The Empire Strikes Back (1980)', '418': 'Jurassic Park (1993)', '0': 'Toy Story (1995)'},\n",
       "        {'257': 'Pulp Fiction (1994)', '277': 'Shawshank Redemption, The (1994)', '1938': 'Matrix, The (1999)', '43': 'Seven (a.k.a. Se7en) (1995)', '899': 'Raiders of the Lost Ark (Indiana Jones and the Raiders of the Lost Ark) (1981)'},\n",
       "        {'1083': 'Last of the Mohicans, The (1992)', '1279': 'Butcher Boy, The (1997)', '1470': 'Poltergeist III (1988)', '359': 'Another Stakeout (1993)', '5181': 'Anthony Adverse (1936)'}],\n",
       "       [{'314': 'Forrest Gump (1994)', '257': 'Pulp Fiction (1994)', '277': 'Shawshank Redemption, The (1994)', '43': 'Seven (a.k.a. Se7en) (1995)', '97': 'Braveheart (1995)'},\n",
       "        {'224': 'Star Wars: Episode IV - A New Hope (1977)', '1938': 'Matrix, The (1999)', '897': 'Star Wars: Episode V - The Empire Strikes Back (1980)', '418': 'Jurassic Park (1993)', '0': 'Toy Story (1995)'},\n",
       "        {'6028': 'Revolver (2005)', '930': 'Right Stuff, The (1983)', '8112': 'Brass Teapot, The (2012)', '9159': 'Parasyte: Part 2 (2015)', '5876': 'Cocoanuts, The (1929)'}],\n",
       "       [{'899': 'Raiders of the Lost Ark (Indiana Jones and the Raiders of the Lost Ark) (1981)', '968': 'Back to the Future (1985)', '3633': 'Lord of the Rings: The Fellowship of the Ring, The (2001)', '1485': 'Back to the Future Part II (1989)', '1486': 'Back to the Future Part III (1990)'},\n",
       "        {'314': 'Forrest Gump (1994)', '257': 'Pulp Fiction (1994)', '224': 'Star Wars: Episode IV - A New Hope (1977)', '277': 'Shawshank Redemption, The (1994)', '1938': 'Matrix, The (1999)'},\n",
       "        {'8179': \"Adam and Eve (National Lampoon's Adam & Eve) (2005)\", '3467': 'Summer Catch (2001)', '2253': 'Rawhead Rex (1986)', '5987': 'Flightplan (2005)', '3430': 'Uncle Buck (1989)'}],\n",
       "       [{'314': 'Forrest Gump (1994)', '257': 'Pulp Fiction (1994)', '1938': 'Matrix, The (1999)', '2224': 'Fight Club (1999)', '2077': 'Sixth Sense, The (1999)'},\n",
       "        {'224': 'Star Wars: Episode IV - A New Hope (1977)', '277': 'Shawshank Redemption, The (1994)', '897': 'Star Wars: Episode V - The Empire Strikes Back (1980)', '418': 'Jurassic Park (1993)', '43': 'Seven (a.k.a. Se7en) (1995)'},\n",
       "        {'1098': 'Angel Baby (1995)', '8140': 'Great Gatsby, The (2013)', '2274': 'Drugstore Cowboy (1989)', '9636': 'The Post (2017)', '1645': 'Dirty Work (1998)'}],\n",
       "       [{'314': 'Forrest Gump (1994)', '277': 'Shawshank Redemption, The (1994)', '418': 'Jurassic Park (1993)', '97': 'Braveheart (1995)', '510': 'Silence of the Lambs, The (1991)'},\n",
       "        {'257': 'Pulp Fiction (1994)', '224': 'Star Wars: Episode IV - A New Hope (1977)', '1938': 'Matrix, The (1999)', '897': 'Star Wars: Episode V - The Empire Strikes Back (1980)', '43': 'Seven (a.k.a. Se7en) (1995)'},\n",
       "        {'7139': 'Education, An (2009)', '351': 'Federal Hill (1994)', '358': 'Air Up There, The (1994)', '1574': 'Outsiders, The (1983)', '8306': 'Guest from the Future (Gostya iz buduschego) (1985)'}],\n",
       "       [{'963': 'Groundhog Day (1993)', '1290': 'Titanic (1997)', '315': 'Four Weddings and a Funeral (1994)', '35': 'Clueless (1995)', '1562': 'Splash (1984)'},\n",
       "        {'314': 'Forrest Gump (1994)', '257': 'Pulp Fiction (1994)', '224': 'Star Wars: Episode IV - A New Hope (1977)', '277': 'Shawshank Redemption, The (1994)', '1938': 'Matrix, The (1999)'},\n",
       "        {'8228': 'Justice League: Crisis on Two Earths (2010)', '359': 'Another Stakeout (1993)', '5502': 'Boy Meets Girl (1984)', '2927': 'Creature from the Black Lagoon, The (1954)', '7251': 'District 13: Ultimatum (Banlieue 13 - Ultimatum) (2009)'}],\n",
       "       [{'1938': 'Matrix, The (1999)', '43': 'Seven (a.k.a. Se7en) (1995)', '899': 'Raiders of the Lost Ark (Indiana Jones and the Raiders of the Lost Ark) (1981)', '1290': 'Titanic (1997)', '2670': 'Gladiator (2000)'},\n",
       "        {'314': 'Forrest Gump (1994)', '257': 'Pulp Fiction (1994)', '224': 'Star Wars: Episode IV - A New Hope (1977)', '277': 'Shawshank Redemption, The (1994)', '897': 'Star Wars: Episode V - The Empire Strikes Back (1980)'},\n",
       "        {'2698': 'Better Living Through Circuitry (1999)', '7153': 'Aelita: The Queen of Mars (Aelita) (1924)', '3423': 'Sweetie (1989)', '2950': 'Ghoulies II (1987)', '5668': 'Helen of Troy (2003)'}],\n",
       "       [{'314': 'Forrest Gump (1994)', '257': 'Pulp Fiction (1994)', '277': 'Shawshank Redemption, The (1994)', '418': 'Jurassic Park (1993)', '43': 'Seven (a.k.a. Se7en) (1995)'},\n",
       "        {'224': 'Star Wars: Episode IV - A New Hope (1977)', '1938': 'Matrix, The (1999)', '897': 'Star Wars: Episode V - The Empire Strikes Back (1980)', '0': 'Toy Story (1995)', '899': 'Raiders of the Lost Ark (Indiana Jones and the Raiders of the Lost Ark) (1981)'},\n",
       "        {'9647': 'Porky in Wackyland (1938)', '8522': 'Culture High, The (2014)', '6519': 'Tell No One (Ne le dis à personne) (2006)', '5896': 'Adventures of Sharkboy and Lavagirl 3-D, The (2005)', '6923': 'Wild Child (2008)'}],\n",
       "       [{'314': 'Forrest Gump (1994)', '257': 'Pulp Fiction (1994)', '224': 'Star Wars: Episode IV - A New Hope (1977)', '277': 'Shawshank Redemption, The (1994)', '1938': 'Matrix, The (1999)'},\n",
       "        {'418': 'Jurassic Park (1993)', '97': 'Braveheart (1995)', '510': 'Silence of the Lambs, The (1991)', '46': 'Usual Suspects, The (1995)', '1182': 'Men in Black (a.k.a. MIB) (1997)'},\n",
       "        {'55': \"Mr. Holland's Opus (1995)\", '967': 'Arsenic and Old Lace (1944)', '675': 'Halloween: The Curse of Michael Myers (Halloween 6: The Curse of Michael Myers) (1995)', '8107': 'Call, The (2013)', '5636': 'Ali G Indahouse (2002)'}],\n",
       "       [{'314': 'Forrest Gump (1994)', '257': 'Pulp Fiction (1994)', '224': 'Star Wars: Episode IV - A New Hope (1977)', '277': 'Shawshank Redemption, The (1994)', '1938': 'Matrix, The (1999)'},\n",
       "        {'418': 'Jurassic Park (1993)', '0': 'Toy Story (1995)', '97': 'Braveheart (1995)', '910': 'Star Wars: Episode VI - Return of the Jedi (1983)', '1182': 'Men in Black (a.k.a. MIB) (1997)'},\n",
       "        {'3262': 'Cries and Whispers (Viskningar och rop) (1972)', '4491': '10 (1979)', '7216': \"Project A 2 ('A' gai wak juk jap) (1987)\", '7455': 'Casino Jack (2010)', '9146': 'The Ridiculous 6 (2015)'}],\n",
       "       [{'314': 'Forrest Gump (1994)', '257': 'Pulp Fiction (1994)', '224': 'Star Wars: Episode IV - A New Hope (1977)', '277': 'Shawshank Redemption, The (1994)', '1938': 'Matrix, The (1999)'},\n",
       "        {'1182': 'Men in Black (a.k.a. MIB) (1997)', '31': 'Twelve Monkeys (a.k.a. 12 Monkeys) (1995)', '334': 'Speed (1994)', '862': 'Monty Python and the Holy Grail (1975)', '520': 'Fargo (1996)'},\n",
       "        {'1483': 'Soylent Green (1973)', '3316': 'D.O.A. (1988)', '2327': 'Babes in Toyland (1934)', '1329': 'Suicide Kings (1997)', '712': 'Spellbound (1945)'}],\n",
       "       [{'314': 'Forrest Gump (1994)', '257': 'Pulp Fiction (1994)', '224': 'Star Wars: Episode IV - A New Hope (1977)', '277': 'Shawshank Redemption, The (1994)', '1938': 'Matrix, The (1999)'},\n",
       "        {'2144': 'American Beauty (1999)', '963': 'Groundhog Day (1993)', '123': 'Apollo 13 (1995)', '1978': 'Star Wars: Episode I - The Phantom Menace (1999)', '835': 'E.T. the Extra-Terrestrial (1982)'},\n",
       "        {'7329': 'Sex and the City 2 (2010)', '1667': 'Allnighter, The (1987)', '3958': 'Ernest Scared Stupid (1991)', '5791': 'Kung Fu Hustle (Gong fu) (2004)', '896': \"Cheech and Chong's Up in Smoke (1978)\"}],\n",
       "       [{'314': 'Forrest Gump (1994)', '224': 'Star Wars: Episode IV - A New Hope (1977)', '1938': 'Matrix, The (1999)', '897': 'Star Wars: Episode V - The Empire Strikes Back (1980)', '418': 'Jurassic Park (1993)'},\n",
       "        {'257': 'Pulp Fiction (1994)', '277': 'Shawshank Redemption, The (1994)', '97': 'Braveheart (1995)', '510': 'Silence of the Lambs, The (1991)', '46': 'Usual Suspects, The (1995)'},\n",
       "        {'2759': 'Alien Nation (1988)', '2352': 'End of Days (1999)', '8658': 'Tooth Fairy 2 (2012)', '6870': 'Role Models (2008)', '8432': 'Equalizer, The (2014)'}],\n",
       "       [{'322': 'Lion King, The (1994)', '835': 'E.T. the Extra-Terrestrial (1982)', '2670': 'Gladiator (2000)', '3189': 'Shrek (2001)', '506': 'Aladdin (1992)'},\n",
       "        {'314': 'Forrest Gump (1994)', '257': 'Pulp Fiction (1994)', '224': 'Star Wars: Episode IV - A New Hope (1977)', '277': 'Shawshank Redemption, The (1994)', '1938': 'Matrix, The (1999)'},\n",
       "        {'7065': 'Imaginarium of Doctor Parnassus, The (2009)', '3403': 'Punisher, The (1989)', '90': 'Mr. Wrong (1996)', '4754': 'Amarcord (1973)', '5328': 'Orca: The Killer Whale (1977)'}],\n",
       "       [{'314': 'Forrest Gump (1994)', '257': 'Pulp Fiction (1994)', '224': 'Star Wars: Episode IV - A New Hope (1977)', '1938': 'Matrix, The (1999)', '897': 'Star Wars: Episode V - The Empire Strikes Back (1980)'},\n",
       "        {'277': 'Shawshank Redemption, The (1994)', '43': 'Seven (a.k.a. Se7en) (1995)', '97': 'Braveheart (1995)', '510': 'Silence of the Lambs, The (1991)', '46': 'Usual Suspects, The (1995)'},\n",
       "        {'9243': 'Neighbors 2: Sorority Rising (2016)', '55': \"Mr. Holland's Opus (1995)\", '3438': \"Who'll Stop the Rain (1978)\", '4551': 'Triplets of Belleville, The (Les triplettes de Belleville) (2003)', '1968': 'Chopping Mall (a.k.a. Killbots) (1986)'}],\n",
       "       [{'314': 'Forrest Gump (1994)', '277': 'Shawshank Redemption, The (1994)', '2224': 'Fight Club (1999)', '659': 'Godfather, The (1972)', '474': 'Blade Runner (1982)'},\n",
       "        {'257': 'Pulp Fiction (1994)', '224': 'Star Wars: Episode IV - A New Hope (1977)', '1938': 'Matrix, The (1999)', '897': 'Star Wars: Episode V - The Empire Strikes Back (1980)', '418': 'Jurassic Park (1993)'},\n",
       "        {'3723': 'Zombie (a.k.a. Zombie 2: The Dead Are Among Us) (Zombi 2) (1979)', '3990': 'Welcome to Collinwood (2002)', '8844': 'Carol (2015)', '4510': 'Dust (2001)', '3053': 'Cop (1988)'}],\n",
       "       [{'257': 'Pulp Fiction (1994)', '46': 'Usual Suspects, The (1995)', '659': 'Godfather, The (1972)', '31': 'Twelve Monkeys (a.k.a. 12 Monkeys) (1995)', '793': 'Die Hard (1988)'},\n",
       "        {'314': 'Forrest Gump (1994)', '224': 'Star Wars: Episode IV - A New Hope (1977)', '277': 'Shawshank Redemption, The (1994)', '1938': 'Matrix, The (1999)', '897': 'Star Wars: Episode V - The Empire Strikes Back (1980)'},\n",
       "        {'9218': 'Rabbits (2002)', '7131': 'Metropia (2009)', '7394': 'Resident Evil: Afterlife (2010)', '5054': 'Winter Light (Nattvardsgästerna) (1963)', '7423': 'Luck by Chance (2009)'}],\n",
       "       [{'314': 'Forrest Gump (1994)', '257': 'Pulp Fiction (1994)', '277': 'Shawshank Redemption, The (1994)', '1938': 'Matrix, The (1999)', '899': 'Raiders of the Lost Ark (Indiana Jones and the Raiders of the Lost Ark) (1981)'},\n",
       "        {'224': 'Star Wars: Episode IV - A New Hope (1977)', '897': 'Star Wars: Episode V - The Empire Strikes Back (1980)', '418': 'Jurassic Park (1993)', '43': 'Seven (a.k.a. Se7en) (1995)', '0': 'Toy Story (1995)'},\n",
       "        {'2121': 'Three Days of the Condor (3 Days of the Condor) (1975)', '5061': 'Monterey Pop (1968)', '5440': 'Carabineers, The (Carabiniers, Les) (1963)', '9270': 'Buck Rogers in the 25th Century (1979)', '4961': 'Fountainhead, The (1949)'}],\n",
       "       [{'224': 'Star Wars: Episode IV - A New Hope (1977)', '1938': 'Matrix, The (1999)', '899': 'Raiders of the Lost Ark (Indiana Jones and the Raiders of the Lost Ark) (1981)', '1502': 'Saving Private Ryan (1998)', '461': \"Schindler's List (1993)\"},\n",
       "        {'314': 'Forrest Gump (1994)', '257': 'Pulp Fiction (1994)', '277': 'Shawshank Redemption, The (1994)', '897': 'Star Wars: Episode V - The Empire Strikes Back (1980)', '418': 'Jurassic Park (1993)'},\n",
       "        {'4632': 'Revolution Will Not Be Televised, The (a.k.a. Chavez: Inside the Coup) (2003)', '5662': \"Crimson Rivers 2: Angels of the Apocalypse (Rivières pourpres II - Les anges de l'apocalypse, Les) (2004)\", '1199': 'Desperate Measures (1998)', '7144': 'Where the Wild Things Are (2009)', '5046': 'Stray Dog (Nora inu) (1949)'}],\n",
       "       [{'314': 'Forrest Gump (1994)', '257': 'Pulp Fiction (1994)', '43': 'Seven (a.k.a. Se7en) (1995)', '123': 'Apollo 13 (1995)', '337': 'True Lies (1994)'},\n",
       "        {'224': 'Star Wars: Episode IV - A New Hope (1977)', '277': 'Shawshank Redemption, The (1994)', '1938': 'Matrix, The (1999)', '897': 'Star Wars: Episode V - The Empire Strikes Back (1980)', '418': 'Jurassic Park (1993)'},\n",
       "        {'4489': 'Atragon (Kaitei Gunkan) (1963)', '849': 'People vs. Larry Flynt, The (1996)', '9447': 'T2: Trainspotting (2017)', '4846': 'Perfect Score, The (2004)', '4665': 'Ordet (Word, The) (1955)'}],\n",
       "       [{'314': 'Forrest Gump (1994)', '224': 'Star Wars: Episode IV - A New Hope (1977)', '897': 'Star Wars: Episode V - The Empire Strikes Back (1980)', '418': 'Jurassic Park (1993)', '0': 'Toy Story (1995)'},\n",
       "        {'257': 'Pulp Fiction (1994)', '277': 'Shawshank Redemption, The (1994)', '1938': 'Matrix, The (1999)', '43': 'Seven (a.k.a. Se7en) (1995)', '2224': 'Fight Club (1999)'},\n",
       "        {'7062': 'Roots (1977)', '4345': 'Matrix Reloaded, The (2003)', '3480': 'Two Can Play That Game (2001)', '8260': 'Escape Plan (2013)', '3449': 'Theremin: An Electronic Odyssey (1993)'}],\n",
       "       [{'314': 'Forrest Gump (1994)', '257': 'Pulp Fiction (1994)', '224': 'Star Wars: Episode IV - A New Hope (1977)', '277': 'Shawshank Redemption, The (1994)', '1938': 'Matrix, The (1999)'},\n",
       "        {'0': 'Toy Story (1995)', '968': 'Back to the Future (1985)', '322': 'Lion King, The (1994)', '963': 'Groundhog Day (1993)', '325': 'Mask, The (1994)'},\n",
       "        {'7120': 'Thirst (Bakjwi) (2009)', '5547': 'Begotten (1990)', '655': 'Spitfire Grill, The (1996)', '7157': 'Love Exposure (Ai No Mukidashi) (2008)', '4141': 'Duellists, The (1977)'}],\n",
       "       [{'314': 'Forrest Gump (1994)', '257': 'Pulp Fiction (1994)', '277': 'Shawshank Redemption, The (1994)', '899': 'Raiders of the Lost Ark (Indiana Jones and the Raiders of the Lost Ark) (1981)', '46': 'Usual Suspects, The (1995)'},\n",
       "        {'224': 'Star Wars: Episode IV - A New Hope (1977)', '1938': 'Matrix, The (1999)', '897': 'Star Wars: Episode V - The Empire Strikes Back (1980)', '418': 'Jurassic Park (1993)', '43': 'Seven (a.k.a. Se7en) (1995)'},\n",
       "        {'8239': 'Insidious: Chapter 2 (2013)', '9233': 'Neon Bull (2015)', '578': 'Oliver & Company (1988)', '8240': 'Rush (2013)', '3776': 'Lucky Break (2001)'}],\n",
       "       [{'224': 'Star Wars: Episode IV - A New Hope (1977)', '277': 'Shawshank Redemption, The (1994)', '1938': 'Matrix, The (1999)', '897': 'Star Wars: Episode V - The Empire Strikes Back (1980)', '899': 'Raiders of the Lost Ark (Indiana Jones and the Raiders of the Lost Ark) (1981)'},\n",
       "        {'314': 'Forrest Gump (1994)', '257': 'Pulp Fiction (1994)', '418': 'Jurassic Park (1993)', '43': 'Seven (a.k.a. Se7en) (1995)', '0': 'Toy Story (1995)'},\n",
       "        {'3411': 'Cure (1997)', '3708': 'Dragonfly (2002)', '5925': 'Hardware (1990)', '1900': 'Alligator (1980)', '3382': 'January Man, The (1989)'}],\n",
       "       [{'897': 'Star Wars: Episode V - The Empire Strikes Back (1980)', '0': 'Toy Story (1995)', '899': 'Raiders of the Lost Ark (Indiana Jones and the Raiders of the Lost Ark) (1981)', '968': 'Back to the Future (1985)', '793': 'Die Hard (1988)'},\n",
       "        {'314': 'Forrest Gump (1994)', '257': 'Pulp Fiction (1994)', '224': 'Star Wars: Episode IV - A New Hope (1977)', '277': 'Shawshank Redemption, The (1994)', '1938': 'Matrix, The (1999)'},\n",
       "        {'6189': 'Art School Confidential (2006)', '1769': 'King Kong Lives (1986)', '2560': 'Death Wish (1974)', '4537': 'Anything Else (2003)', '8660': 'The Deadly Bees (1967)'}],\n",
       "       [{'257': 'Pulp Fiction (1994)', '224': 'Star Wars: Episode IV - A New Hope (1977)', '277': 'Shawshank Redemption, The (1994)', '0': 'Toy Story (1995)', '510': 'Silence of the Lambs, The (1991)'},\n",
       "        {'314': 'Forrest Gump (1994)', '1938': 'Matrix, The (1999)', '897': 'Star Wars: Episode V - The Empire Strikes Back (1980)', '418': 'Jurassic Park (1993)', '43': 'Seven (a.k.a. Se7en) (1995)'},\n",
       "        {'6925': 'Zeitgeist: Addendum (2008)', '3885': 'Road to Perdition (2002)', '3712': 'Monsoon Wedding (2001)', '4539': 'Fighting Temptations, The (2003)', '2014': 'Red Violin, The (Violon rouge, Le) (1998)'}],\n",
       "       [{'314': 'Forrest Gump (1994)', '257': 'Pulp Fiction (1994)', '277': 'Shawshank Redemption, The (1994)', '0': 'Toy Story (1995)', '97': 'Braveheart (1995)'},\n",
       "        {'224': 'Star Wars: Episode IV - A New Hope (1977)', '1938': 'Matrix, The (1999)', '897': 'Star Wars: Episode V - The Empire Strikes Back (1980)', '418': 'Jurassic Park (1993)', '43': 'Seven (a.k.a. Se7en) (1995)'},\n",
       "        {'4895': 'Broken Wings (Knafayim Shvurot) (2002)', '5005': 'Undercurrent (1946)', '772': 'Pollyanna (1960)', '1496': 'Last Temptation of Christ, The (1988)', '3816': 'Giant Spider Invasion, The (1975)'}],\n",
       "       [{'314': 'Forrest Gump (1994)', '277': 'Shawshank Redemption, The (1994)', '1938': 'Matrix, The (1999)', '2224': 'Fight Club (1999)', '97': 'Braveheart (1995)'},\n",
       "        {'257': 'Pulp Fiction (1994)', '224': 'Star Wars: Episode IV - A New Hope (1977)', '897': 'Star Wars: Episode V - The Empire Strikes Back (1980)', '418': 'Jurassic Park (1993)', '43': 'Seven (a.k.a. Se7en) (1995)'},\n",
       "        {'5771': 'Marriage of Maria Braun, The (Ehe der Maria Braun, Die) (1979)', '284': 'To Live (Huozhe) (1994)', '6039': 'Derailed (2005)', '256': \"Pyromaniac's Love Story, A (1995)\", '1304': 'Dark City (1998)'}],\n",
       "       [{'46': 'Usual Suspects, The (1995)', '123': 'Apollo 13 (1995)', '197': 'Dumb & Dumber (Dumb and Dumber) (1994)', '275': 'Stargate (1994)', '156': 'Net, The (1995)'},\n",
       "        {'314': 'Forrest Gump (1994)', '257': 'Pulp Fiction (1994)', '224': 'Star Wars: Episode IV - A New Hope (1977)', '277': 'Shawshank Redemption, The (1994)', '1938': 'Matrix, The (1999)'},\n",
       "        {'6361': 'Black Christmas (2006)', '6488': 'Fantastic Four: Rise of the Silver Surfer (2007)', '4435': 'Little Giants (1994)', '728': 'Giant (1956)', '1262': 'Joy Luck Club, The (1993)'}],\n",
       "       [{'277': 'Shawshank Redemption, The (1994)', '1283': 'Good Will Hunting (1997)', '701': 'Wizard of Oz, The (1939)', '922': 'Full Metal Jacket (1987)', '1486': 'Back to the Future Part III (1990)'},\n",
       "        {'314': 'Forrest Gump (1994)', '257': 'Pulp Fiction (1994)', '224': 'Star Wars: Episode IV - A New Hope (1977)', '1938': 'Matrix, The (1999)', '897': 'Star Wars: Episode V - The Empire Strikes Back (1980)'},\n",
       "        {'6999': 'X-Men Origins: Wolverine (2009)', '9369': 'Over the Garden Wall (2013)', '7606': 'Beginners (2010)', '8087': 'Safe Haven (2013)', '2612': \"Murphy's Romance (1985)\"}],\n",
       "       [{'314': 'Forrest Gump (1994)', '257': 'Pulp Fiction (1994)', '277': 'Shawshank Redemption, The (1994)', '123': 'Apollo 13 (1995)', '337': 'True Lies (1994)'},\n",
       "        {'224': 'Star Wars: Episode IV - A New Hope (1977)', '1938': 'Matrix, The (1999)', '897': 'Star Wars: Episode V - The Empire Strikes Back (1980)', '418': 'Jurassic Park (1993)', '43': 'Seven (a.k.a. Se7en) (1995)'},\n",
       "        {'1709': 'Strangeland (1998)', '412': 'In the Line of Fire (1993)', '7201': 'Sorority Babes in the Slimeball Bowl-O-Rama (1988)', '2717': 'Endless Summer, The (1966)', '6706': \"Nim's Island (2008)\"}],\n",
       "       [{'314': 'Forrest Gump (1994)', '257': 'Pulp Fiction (1994)', '277': 'Shawshank Redemption, The (1994)', '418': 'Jurassic Park (1993)', '97': 'Braveheart (1995)'},\n",
       "        {'224': 'Star Wars: Episode IV - A New Hope (1977)', '1938': 'Matrix, The (1999)', '897': 'Star Wars: Episode V - The Empire Strikes Back (1980)', '43': 'Seven (a.k.a. Se7en) (1995)', '0': 'Toy Story (1995)'},\n",
       "        {'6674': 'Descent (2007)', '6395': 'Unknown (2006)', '13': 'Nixon (1995)', '506': 'Aladdin (1992)', '1446': 'Nightmare on Elm Street 3: Dream Warriors, A (1987)'}],\n",
       "       [{'257': 'Pulp Fiction (1994)', '224': 'Star Wars: Episode IV - A New Hope (1977)', '1938': 'Matrix, The (1999)', '897': 'Star Wars: Episode V - The Empire Strikes Back (1980)', '43': 'Seven (a.k.a. Se7en) (1995)'},\n",
       "        {'314': 'Forrest Gump (1994)', '277': 'Shawshank Redemption, The (1994)', '418': 'Jurassic Park (1993)', '0': 'Toy Story (1995)', '2224': 'Fight Club (1999)'},\n",
       "        {'462': 'Scout, The (1994)', '6917': 'Bedtime Stories (2008)', '2662': 'Smiling Fish and Goat on Fire (1999)', '6018': 'Shopgirl (2005)', '2965': 'Men of Honor (2000)'}],\n",
       "       [{'257': 'Pulp Fiction (1994)', '277': 'Shawshank Redemption, The (1994)', '0': 'Toy Story (1995)', '97': 'Braveheart (1995)', '322': 'Lion King, The (1994)'},\n",
       "        {'314': 'Forrest Gump (1994)', '224': 'Star Wars: Episode IV - A New Hope (1977)', '1938': 'Matrix, The (1999)', '897': 'Star Wars: Episode V - The Empire Strikes Back (1980)', '418': 'Jurassic Park (1993)'},\n",
       "        {'4389': 'Music Box (1989)', '5106': 'Charly (1968)', '7254': 'Crazies, The (2010)', '5467': 'Topo, El (1970)', '9116': \"Le Maître d'école (1981)\"}],\n",
       "       [{'314': 'Forrest Gump (1994)', '257': 'Pulp Fiction (1994)', '1938': 'Matrix, The (1999)', '43': 'Seven (a.k.a. Se7en) (1995)', '2224': 'Fight Club (1999)'},\n",
       "        {'224': 'Star Wars: Episode IV - A New Hope (1977)', '277': 'Shawshank Redemption, The (1994)', '897': 'Star Wars: Episode V - The Empire Strikes Back (1980)', '418': 'Jurassic Park (1993)', '0': 'Toy Story (1995)'},\n",
       "        {'3917': 'Secret Ballot (Raye makhfi) (2001)', '1769': 'King Kong Lives (1986)', '5733': 'Merchant of Venice, The (2004)', '814': 'Crossfire (1947)', '8949': 'Amy (2015)'}],\n",
       "       [{'314': 'Forrest Gump (1994)', '257': 'Pulp Fiction (1994)', '224': 'Star Wars: Episode IV - A New Hope (1977)', '277': 'Shawshank Redemption, The (1994)', '1938': 'Matrix, The (1999)'},\n",
       "        {'418': 'Jurassic Park (1993)', '0': 'Toy Story (1995)', '899': 'Raiders of the Lost Ark (Indiana Jones and the Raiders of the Lost Ark) (1981)', '507': 'Terminator 2: Judgment Day (1991)', '31': 'Twelve Monkeys (a.k.a. 12 Monkeys) (1995)'},\n",
       "        {'2640': 'East is East (1999)', '7630': 'One Day (2011)', '4462': 'Divorce, Le (2003)', '4414': 'Tenant, The (Locataire, Le) (1976)', '3313': 'Couch Trip, The (1988)'}],\n",
       "       [{'314': 'Forrest Gump (1994)', '257': 'Pulp Fiction (1994)', '277': 'Shawshank Redemption, The (1994)', '418': 'Jurassic Park (1993)', '43': 'Seven (a.k.a. Se7en) (1995)'},\n",
       "        {'224': 'Star Wars: Episode IV - A New Hope (1977)', '1938': 'Matrix, The (1999)', '897': 'Star Wars: Episode V - The Empire Strikes Back (1980)', '899': 'Raiders of the Lost Ark (Indiana Jones and the Raiders of the Lost Ark) (1981)', '2224': 'Fight Club (1999)'},\n",
       "        {'777': '20,000 Leagues Under the Sea (1954)', '9386': 'La La Land (2016)', '9199': 'Grease Live (2016)', '1798': 'Santa Claus: The Movie (1985)', '5865': 'Enron: The Smartest Guys in the Room (2005)'}],\n",
       "       [{'224': 'Star Wars: Episode IV - A New Hope (1977)', '0': 'Toy Story (1995)', '615': 'Independence Day (a.k.a. ID4) (1996)', '546': 'Mission: Impossible (1996)', '92': 'Happy Gilmore (1996)'},\n",
       "        {'314': 'Forrest Gump (1994)', '257': 'Pulp Fiction (1994)', '277': 'Shawshank Redemption, The (1994)', '1938': 'Matrix, The (1999)', '897': 'Star Wars: Episode V - The Empire Strikes Back (1980)'},\n",
       "        {'2275': 'Falling Down (1993)', '3898': 'Austin Powers in Goldmember (2002)', '6186': 'American Haunting, An (2005)', '9613': 'Male Hunt (1964)', '3710': \"How to Kill Your Neighbor's Dog (2000)\"}],\n",
       "       [{'314': 'Forrest Gump (1994)', '257': 'Pulp Fiction (1994)', '224': 'Star Wars: Episode IV - A New Hope (1977)', '1938': 'Matrix, The (1999)', '897': 'Star Wars: Episode V - The Empire Strikes Back (1980)'},\n",
       "        {'277': 'Shawshank Redemption, The (1994)', '43': 'Seven (a.k.a. Se7en) (1995)', '334': 'Speed (1994)', '520': 'Fargo (1996)', '914': 'Alien (1979)'},\n",
       "        {'4487': 'THX 1138 (1971)', '4638': \"My Architect: A Son's Journey (2003)\", '5932': 'Sky High (2005)', '5325': 'Come Back, Little Sheba (1952)', '5736': 'White Noise (2005)'}],\n",
       "       [{'277': 'Shawshank Redemption, The (1994)', '0': 'Toy Story (1995)', '97': 'Braveheart (1995)', '46': 'Usual Suspects, The (1995)', '31': 'Twelve Monkeys (a.k.a. 12 Monkeys) (1995)'},\n",
       "        {'314': 'Forrest Gump (1994)', '257': 'Pulp Fiction (1994)', '224': 'Star Wars: Episode IV - A New Hope (1977)', '1938': 'Matrix, The (1999)', '897': 'Star Wars: Episode V - The Empire Strikes Back (1980)'},\n",
       "        {'9069': 'Wonder Woman (2017)', '1815': 'Back to School (1986)', '6024': \"Don't Move (Non ti muovere) (2004)\", '6216': \"Jet Li's Fearless (Huo Yuan Jia) (2006)\", '7207': 'Book of Eli, The (2010)'}],\n",
       "       [{'314': 'Forrest Gump (1994)', '277': 'Shawshank Redemption, The (1994)', '43': 'Seven (a.k.a. Se7en) (1995)', '2224': 'Fight Club (1999)', '510': 'Silence of the Lambs, The (1991)'},\n",
       "        {'257': 'Pulp Fiction (1994)', '224': 'Star Wars: Episode IV - A New Hope (1977)', '1938': 'Matrix, The (1999)', '897': 'Star Wars: Episode V - The Empire Strikes Back (1980)', '418': 'Jurassic Park (1993)'},\n",
       "        {'4512': 'Jeepers Creepers 2 (2003)', '234': 'Madness of King George, The (1994)', '4772': 'Wings of Honneamise (Ôritsu uchûgun Oneamisu no tsubasa) (1987)', '2009': 'Instinct (1999)', '1120': \"Vegas Vacation (National Lampoon's Las Vegas Vacation) (1997)\"}],\n",
       "       [{'1938': 'Matrix, The (1999)', '1182': 'Men in Black (a.k.a. MIB) (1997)', '615': 'Independence Day (a.k.a. ID4) (1996)', '1575': 'Indiana Jones and the Temple of Doom (1984)', '1157': 'Fifth Element, The (1997)'},\n",
       "        {'314': 'Forrest Gump (1994)', '257': 'Pulp Fiction (1994)', '224': 'Star Wars: Episode IV - A New Hope (1977)', '277': 'Shawshank Redemption, The (1994)', '897': 'Star Wars: Episode V - The Empire Strikes Back (1980)'},\n",
       "        {'9089': 'Goosebumps (2015)', '5292': 'Musa the Warrior (Musa) (2001)', '5392': 'Freshman, The (1925)', '765': 'Apple Dumpling Gang, The (1975)', '3581': 'Midway (1976)'}],\n",
       "       [{'314': 'Forrest Gump (1994)', '277': 'Shawshank Redemption, The (1994)', '1938': 'Matrix, The (1999)', '97': 'Braveheart (1995)', '1502': 'Saving Private Ryan (1998)'},\n",
       "        {'257': 'Pulp Fiction (1994)', '224': 'Star Wars: Episode IV - A New Hope (1977)', '897': 'Star Wars: Episode V - The Empire Strikes Back (1980)', '418': 'Jurassic Park (1993)', '43': 'Seven (a.k.a. Se7en) (1995)'},\n",
       "        {'9427': \"Assassin's Creed (2016)\", '9260': 'I Am Wrath (2016)', '7128': 'Serious Man, A (2009)', '4632': 'Revolution Will Not Be Televised, The (a.k.a. Chavez: Inside the Coup) (2003)', '4911': 'Walking Tall (2004)'}],\n",
       "       [{'314': 'Forrest Gump (1994)', '257': 'Pulp Fiction (1994)', '277': 'Shawshank Redemption, The (1994)', '1938': 'Matrix, The (1999)', '0': 'Toy Story (1995)'},\n",
       "        {'224': 'Star Wars: Episode IV - A New Hope (1977)', '897': 'Star Wars: Episode V - The Empire Strikes Back (1980)', '418': 'Jurassic Park (1993)', '43': 'Seven (a.k.a. Se7en) (1995)', '97': 'Braveheart (1995)'},\n",
       "        {'28': 'City of Lost Children, The (Cité des enfants perdus, La) (1995)', '7194': 'Alice (2009)', '5281': 'Prime of Miss Jean Brodie, The (1969)', '4944': 'Enemy Mine (1985)', '5474': 'Emmanuelle (1974)'}]],\n",
       "      dtype=object)"
      ]
     },
     "execution_count": 42,
     "metadata": {},
     "output_type": "execute_result"
    }
   ],
   "source": [
    "n_user_experiment = 50\n",
    "dataset[:n_user_experiment]"
   ]
  },
  {
   "cell_type": "code",
   "execution_count": 40,
   "id": "a79de2e6",
   "metadata": {},
   "outputs": [
    {
     "data": {
      "text/plain": [
       "(10, 3)"
      ]
     },
     "execution_count": 40,
     "metadata": {},
     "output_type": "execute_result"
    }
   ],
   "source": [
    "np.array(dataset[:n_user_experiment]).shape"
   ]
  },
  {
   "cell_type": "markdown",
   "id": "19fcc17e",
   "metadata": {},
   "source": [
    "## Explication & Dimension"
   ]
  },
  {
   "cell_type": "code",
   "execution_count": 23,
   "id": "545625ac",
   "metadata": {},
   "outputs": [],
   "source": [
    "# uk -> user k \n",
    "# ig -> movies i, genre g \n",
    "# R_uk -> movie,genre pour user uk\n",
    "# P_ig -> désigne la probabilité avec laquelle l'item i appartient au genre g\n",
    "# M -> matrice correlation\n",
    "# F -> \n",
    "# I_uk -> \n",
    "# r_ki -> \n",
    "\n",
    "#R -> n_user X n_movies X n_genres\n",
    "#I -> n_user X n_movies X n_genres\n",
    "\n",
    "#M -> n_movies X n_movies\n",
    "#F_ig -> n_movies X n_genres\n",
    "#I_uk -> n_movies X n_genres\n",
    "\n",
    "# Split train test sur les users????????\n",
    "# Entrainement sur le train \n",
    "# Test a la fin comparaison NDCG entre tri du ranking et notes de l'utilisateur \n",
    "\n",
    "# Split train test sur les ratings par users (on ignore les ratings test pour le train)\n",
    "# Entrainement sur le train (il reste le meme, on a juste caché des notes)\n",
    "# Test a la fin comparaison NDCG entre tri du ranking (donné par l'algo grace au train) et notes de l'utilisateur (qu'on a garder en test)\n",
    "# Test avec le DOA entre les films (qu'on a cache) et les films unwatched ?\n",
    "\n",
    "# On prend pour un utilisateur sa liste de film + ses notes\n",
    "# On montre cette liste a des nouveaux utilisateurs puis on leur demande parmis les films que notre algo sort quel est celui qui devrait etre recommandé\n",
    "# On compare les resultats avec notre ranking reel apres train\n",
    "# Test de student "
   ]
  }
 ],
 "metadata": {
  "kernelspec": {
   "display_name": "Python 3",
   "language": "python",
   "name": "python3"
  },
  "language_info": {
   "codemirror_mode": {
    "name": "ipython",
    "version": 3
   },
   "file_extension": ".py",
   "mimetype": "text/x-python",
   "name": "python",
   "nbconvert_exporter": "python",
   "pygments_lexer": "ipython3",
   "version": "3.9.12"
  }
 },
 "nbformat": 4,
 "nbformat_minor": 5
}
