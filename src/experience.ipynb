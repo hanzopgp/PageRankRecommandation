{
 "cells": [
  {
   "cell_type": "markdown",
   "id": "a076f437",
   "metadata": {},
   "source": [
    "## Importations"
   ]
  },
  {
   "cell_type": "code",
   "execution_count": 1,
   "id": "481b8bc2",
   "metadata": {},
   "outputs": [],
   "source": [
    "import numpy as np\n",
    "import pandas as pd\n",
    "import itertools as it\n",
    "import scipy\n",
    "from tqdm import tqdm\n",
    "from sklearn.preprocessing import MultiLabelBinarizer"
   ]
  },
  {
   "cell_type": "markdown",
   "id": "f77d5c31",
   "metadata": {},
   "source": [
    "# Global variables"
   ]
  },
  {
   "cell_type": "code",
   "execution_count": 2,
   "id": "e093eebe",
   "metadata": {},
   "outputs": [],
   "source": [
    "PATH = \"../data/ml-latest-small/\""
   ]
  },
  {
   "cell_type": "markdown",
   "id": "b3f29d4c",
   "metadata": {},
   "source": [
    "## Loading data"
   ]
  },
  {
   "cell_type": "code",
   "execution_count": 3,
   "id": "ab1b9e9d",
   "metadata": {},
   "outputs": [],
   "source": [
    "def load_data(path):\n",
    "\tmovies = pd.read_csv(path+\"movies.csv\")\n",
    "\tratings = pd.read_csv(path+\"ratings.csv\")\n",
    "\treturn movies, ratings"
   ]
  },
  {
   "cell_type": "code",
   "execution_count": 4,
   "id": "aae37329",
   "metadata": {},
   "outputs": [],
   "source": [
    "movies, ratings = load_data(PATH)"
   ]
  },
  {
   "cell_type": "markdown",
   "id": "b9eda4a1",
   "metadata": {},
   "source": [
    "# Preprocessing data"
   ]
  },
  {
   "cell_type": "code",
   "execution_count": 5,
   "id": "675978bc",
   "metadata": {},
   "outputs": [],
   "source": [
    "## Building ratings and movies dataframe which both contains the same movieId\n",
    "def clear_dataset(movies, ratings):\n",
    "\tlist_movieId = set(movies[\"movieId\"]).intersection(set(ratings[\"movieId\"]))\n",
    "\n",
    "\tl = []\n",
    "\tfor i in range(len(movies['movieId'])):\n",
    "\t\tif movies['movieId'][i] in list_movieId:\n",
    "\t\t\tl.append(i)\n",
    "\tmovies = movies.iloc[l,:]\n",
    "\n",
    "\ta = sorted(list(list_movieId))\n",
    "\tb = range(len(a))\n",
    "\td = dict(zip(a,b))\n",
    "\tmovies = movies.replace({'movieId' : d})\n",
    "\n",
    "\ta = sorted(list(list_movieId))\n",
    "\tb = range(len(a))\n",
    "\td = dict(zip(a,b))\n",
    "\tratings = ratings.replace({'movieId' : d})\n",
    "\n",
    "\treturn movies, ratings\t\n",
    "\t\n",
    "## Building one hot encoded genres in movies dataframe\n",
    "def one_hot_encode_genres(movies):\n",
    "\ttmp = []\n",
    "\tfor elt in movies[\"genres\"]:\n",
    "\t\ttmp.append(elt.split(\"|\"))\n",
    "\tmovies[\"genres\"] = tmp\n",
    "\n",
    "\tmlb = MultiLabelBinarizer(sparse_output=True)\n",
    "\tmovies = movies.join(\n",
    "\t\t\t\tpd.DataFrame.sparse.from_spmatrix(\n",
    "\t\t\t\t\t\t\t\t\t\t\t\tmlb.fit_transform(movies.pop('genres')),\n",
    "\t\t\t\t\t\t\t\t\t\t\t\tindex=movies.index,\n",
    "\t\t\t\t\t\t\t\t\t\t\t\tcolumns=mlb.classes_))\n",
    "\n",
    "\treturn movies\n",
    "\n",
    "## Cleaning ratings datagrame\n",
    "def preprocess_ratings(ratings):\n",
    "\tratings = ratings.drop(columns=[\"timestamp\"])\n",
    "\tratings['userId'] = ratings['userId'].to_numpy() - 1 # car pas de user 0\n",
    "\treturn ratings\n",
    "\n",
    "def split_set(userId, train_size, ratings):\n",
    "\trating_user = ratings[ratings[\"userId\"] == userId]\n",
    "\ttrain_rating_user, test_rating_user = rating_user.to_numpy()[:int(train_size*len(rating_user))], rating_user.to_numpy()[int(train_size*len(rating_user)):]\n",
    "\treturn train_rating_user, test_rating_user\n",
    "\n",
    "def get_infos_user(userId):\n",
    "\twatched_user = set(ratings[ratings[\"userId\"] == userId][\"movieId\"])\n",
    "\twatched_all = set(ratings['movieId'])\n",
    "\tunwatched_user = list(watched_all.difference(watched_user))\n",
    "\treturn watched_user, watched_all, unwatched_user"
   ]
  },
  {
   "cell_type": "code",
   "execution_count": 6,
   "id": "3b8a7e5f",
   "metadata": {},
   "outputs": [],
   "source": [
    "movies, ratings = clear_dataset(movies, ratings)\n",
    "movies = one_hot_encode_genres(movies)\n",
    "ratings = preprocess_ratings(ratings)"
   ]
  },
  {
   "cell_type": "markdown",
   "id": "6be0081e",
   "metadata": {},
   "source": [
    "# Building matrix"
   ]
  },
  {
   "cell_type": "code",
   "execution_count": 7,
   "id": "025984d0",
   "metadata": {},
   "outputs": [],
   "source": [
    "# Building a sparse matrix which contains the triple (u_k, m_i, r_ki)\n",
    "# def build_sparse_matrix_triples(ratings):\n",
    "# \tratings_sparse = scipy.sparse.csr_matrix(ratings.values)\n",
    "# \treturn ratings_sparse\n",
    "\n",
    "## Building a matrix M = (n_movies, n_movies) which contains the number of users who'se seen m_i and m_j\n",
    "def build_M_matrix(ratings, train_size):\n",
    "\tdata_dict = dict()\n",
    "\ttest_rating_user_list = []\n",
    "\tfor userId in tqdm(set(ratings[\"userId\"])):\n",
    "\t\ttrain_rating_user, test_rating_user = split_set(userId, train_size, ratings)\n",
    "\t\ttest_rating_user_list.append(test_rating_user)\n",
    "\t\titerator = it.combinations(train_rating_user[:,1], 2)\n",
    "\t\tfor x, y in iterator:\n",
    "\t\t\tdata_dict[(x,y)] = data_dict.get((x,y), 0) + 1\n",
    "\t\t\tdata_dict[(y,x)] = data_dict.get((y,x), 0) + 1\n",
    "\t\titerator = it.combinations(test_rating_user[:,1], 2)\n",
    "\t\tfor x, y in iterator:\n",
    "\t\t\tdata_dict[(x,y)] = 1\n",
    "\t\t\tdata_dict[(y,x)] = 1\n",
    "\tkeys = np.array(list(data_dict.keys())).astype(int)\n",
    "\tvalues = np.array(list(data_dict.values())).astype(int)\n",
    "\t# print(keys)\n",
    "\t# print(\"====\")\n",
    "\t# print(values)\n",
    "\tM_coo = scipy.sparse.coo_matrix((values, (keys[:,0], keys[:,1])))\n",
    "\tM_csr = M_coo.tocsr()\n",
    "\tM_norm = M_csr / M_csr.sum(axis=0)\n",
    "\treturn M_norm, test_rating_user_list\n",
    "\n",
    "## Computing probabilites of genres P_ig\n",
    "def build_P_ig(movies):\n",
    "\tsum_ = movies[[i for i in movies.columns if i != \"movieId\" and i != \"title\"]].to_numpy().sum(axis=0).astype(int)\n",
    "\tP_ig = sum_ / sum(sum_)\n",
    "\treturn P_ig.reshape(-1, 1)\n",
    "\n",
    "## Initialisation of R_uk before iterative algorithm\n",
    "def init_R_uk(movies):\n",
    "\tn_genres = len(movies.columns) - 2\n",
    "\tn_movies = len(movies)\n",
    "\tr = 1/(n_movies*n_genres)\n",
    "\tR_uk = np.full((n_movies, n_genres), r)\n",
    "\treturn R_uk\n",
    "\n",
    "## Computing F_ig for each user\n",
    "def build_F_ig(R_uk, P_ig):\n",
    "\tF_ig = np.sum(R_uk, axis=1).reshape(-1,1) @ P_ig.reshape(1,-1)\n",
    "\treturn F_ig\n",
    "\n",
    "## Matrix user X movie\n",
    "def build_ratings_matrix(ratings):\n",
    "\tvalues = ratings[\"rating\"]\n",
    "\trows = ratings[\"userId\"]\n",
    "\tcols = ratings[\"movieId\"]\n",
    "\tM_coo = scipy.sparse.coo_matrix((values, (rows, cols)))\n",
    "\tM_csr = M_coo.tocsr()\n",
    "\treturn M_csr\n",
    "\n",
    "## Build I_uk for each user\n",
    "def build_I_uk(tmp_M, id_user, P_ig):\n",
    "# \tprint(tmp_M[id_user,:].T.shape)\n",
    "\tI_uk = tmp_M[id_user,:].T @ P_ig.reshape(1,-1)\n",
    "\tI_uk = I_uk / I_uk.sum(axis=0).T\n",
    "\treturn I_uk\n",
    "\n",
    "def compute_R_uk(id_user, R_uk, tmp_M, P_ig, M_csr, d, alpha, iter_max):\n",
    "\tI_uk = build_I_uk(tmp_M, id_user, P_ig)\n",
    "\tfor _ in range(iter_max):\n",
    "\t\tF_ig = build_F_ig(R_uk, P_ig)\n",
    "\t\tR_uk = d * alpha * M_csr @ R_uk + d * (1-alpha) * M_csr @ F_ig + (1-d) * I_uk\n",
    "\n",
    "\t\t# This part is usefull if you want to normalize + break if converge\n",
    "\t\t# R_uk = (R_uk / R_uk.sum(axis=1)).T # Normalization isn't working\n",
    "\t\t#     print(np.abs(np.sum(R_uk - R_uk_old)))\n",
    "\t\t#     if np.abs(np.sum(R_uk - R_uk_old)) < eps :\n",
    "\t\t#         print(i)\n",
    "\t\t#         break\n",
    "\t\t# R_uk_old = R_uk.copy()\n",
    "\t\n",
    "\tTR_ki = np.array(R_uk @ P_ig) # It returns a np.mat object which can't be reduced to dimension 1\n",
    "\treturn TR_ki.reshape(-1)\n",
    "\n",
    "def iterative_R_uk(n_user, R_uk, tmp_M, P_ig, M_csr, d=0.15, alpha=0.1, iter_max=10):\n",
    "\tprint(\"Computing TR_ki for all users...\")\n",
    "\tTR_ki_all_user = []\n",
    "\tfor id_user in tqdm(range(n_user)):\n",
    "\t\tTR_ki_all_user.append(compute_R_uk(id_user, R_uk, tmp_M, P_ig, M_csr, d, alpha, iter_max))\n",
    "\treturn np.array(TR_ki_all_user)\n",
    "\n",
    "def init(movies, ratings, train_size):\n",
    "\tprint(\"Init R_uk...\")\n",
    "\tR_uk = init_R_uk(movies)\n",
    "\t# print(R_uk.shape)\n",
    "\tprint(\"Building P_ig...\")\n",
    "\ttmp_M = build_ratings_matrix(ratings)\n",
    "\tP_ig = build_P_ig(movies)\n",
    "\t# print(P_ig.shape)\n",
    "\tprint(\"Building M_csr...\")\n",
    "\tM_csr, test_rating_user_list = build_M_matrix(ratings, train_size)\n",
    "\t# print(M_csr.shape)\n",
    "\treturn R_uk, tmp_M, P_ig, M_csr, np.array(test_rating_user_list)"
   ]
  },
  {
   "cell_type": "markdown",
   "id": "2dde15dc",
   "metadata": {},
   "source": [
    "## Metrics"
   ]
  },
  {
   "cell_type": "code",
   "execution_count": 8,
   "id": "fd3af65e",
   "metadata": {},
   "outputs": [],
   "source": [
    "def sort_by_best_movie(TR_ki_all_user):\n",
    "\tsorted_movies_all_user = np.zeros_like(TR_ki_all_user)\n",
    "\tfor i in range(len(TR_ki_all_user)):\n",
    "\t\tsorted_movies_all_user[i,:] = np.argsort(TR_ki_all_user[i,:])[::-1]\n",
    "\treturn sorted_movies_all_user\n",
    "\n",
    "# def compute_doa_score(TR_ki, test_rating_user, unwatched_user):\n",
    "# \tscore = 0\n",
    "# \tfor m_i in test_rating_user:\n",
    "# \t\tfor m_j in unwatched_user:\n",
    "# \t\t\tif TR_ki[int(m_i)] > TR_ki[int(m_j)]:\n",
    "# \t\t\t\tscore += 1\n",
    "# \treturn score / (len(test_rating_user) * len(unwatched_user))\n",
    "\n",
    "# def compute_all_doa(TR_ki_all_user):\n",
    "# \tn_user = TR_ki_all_user.shape[0]\n",
    "# \tscore = 0\n",
    "# \tfor userId in range(n_user):\n",
    "# \t\t_, test_rating_user = split_set(userId, train_size)\n",
    "# \t\t_, _, unwatched_user = get_infos_user(userId)\n",
    "# \t\tscore += compute_doa_score(TR_ki_all_user[userId,:], test_rating_user, unwatched_user)\n",
    "# \treturn score / n_user"
   ]
  },
  {
   "cell_type": "code",
   "execution_count": 9,
   "id": "694f03f9",
   "metadata": {},
   "outputs": [
    {
     "name": "stdout",
     "output_type": "stream",
     "text": [
      "Init R_uk...\n",
      "Building P_ig...\n",
      "Building M_csr...\n"
     ]
    },
    {
     "name": "stderr",
     "output_type": "stream",
     "text": [
      "100%|██████████| 610/610 [00:15<00:00, 38.17it/s]\n",
      "C:\\Users\\karna\\AppData\\Local\\Temp\\ipykernel_25612\\2257952696.py:101: VisibleDeprecationWarning: Creating an ndarray from ragged nested sequences (which is a list-or-tuple of lists-or-tuples-or ndarrays with different lengths or shapes) is deprecated. If you meant to do this, you must specify 'dtype=object' when creating the ndarray.\n",
      "  return R_uk, tmp_M, P_ig, M_csr, np.array(test_rating_user_list)\n"
     ]
    }
   ],
   "source": [
    "train_size = 0.7\n",
    "\n",
    "R_uk, tmp_M, P_ig, M_csr, test_rating_user_list = init(movies, ratings, train_size)"
   ]
  },
  {
   "cell_type": "code",
   "execution_count": 10,
   "id": "8e820f8e",
   "metadata": {},
   "outputs": [
    {
     "name": "stdout",
     "output_type": "stream",
     "text": [
      "Computing TR_ki for all users...\n"
     ]
    },
    {
     "name": "stderr",
     "output_type": "stream",
     "text": [
      "100%|██████████| 1/1 [00:47<00:00, 47.77s/it]\n"
     ]
    }
   ],
   "source": [
    "n_user = len(np.unique(ratings[\"userId\"]))\n",
    "n_user = 1\n",
    "\n",
    "TR_ki_all_user = iterative_R_uk(n_user, R_uk, tmp_M, P_ig, M_csr, d=0.15, alpha=0.1, iter_max=10)"
   ]
  },
  {
   "cell_type": "code",
   "execution_count": 11,
   "id": "c5718f05",
   "metadata": {},
   "outputs": [
    {
     "name": "stdout",
     "output_type": "stream",
     "text": [
      "TR_ki_all_user shape: (1, 9724)\n",
      "test_rating_user_list shape: (610,)\n",
      "TR_ki for test user :\n",
      " [3.86440122e-03 3.39452951e-04 3.55532392e-03 1.21628588e-05\n",
      " 1.31800830e-04 3.66160230e-03 1.32070721e-04 3.63199808e-05\n",
      " 2.91618793e-05 3.35040980e-04]\n"
     ]
    }
   ],
   "source": [
    "test_user_id = 0\n",
    "\n",
    "print(\"TR_ki_all_user shape:\", TR_ki_all_user.shape)\n",
    "print(\"test_rating_user_list shape:\", test_rating_user_list.shape)\n",
    "print(\"TR_ki for test user :\\n\", TR_ki_all_user[test_user_id, :10])"
   ]
  },
  {
   "cell_type": "code",
   "execution_count": 12,
   "id": "00396e95",
   "metadata": {},
   "outputs": [
    {
     "name": "stdout",
     "output_type": "stream",
     "text": [
      "sorted_movies_all_user shape: (1, 9724)\n",
      "Sorted best movies recommandation for test user :\n",
      " [ 224.  897.   43.   46.  910.  899.  520.  968.  827. 1938.]\n"
     ]
    }
   ],
   "source": [
    "sorted_movies_all_user = sort_by_best_movie(TR_ki_all_user)\n",
    "print(\"sorted_movies_all_user shape:\", sorted_movies_all_user.shape)\n",
    "print(\"Sorted best movies recommandation for test user :\\n\", sorted_movies_all_user[test_user_id,:10])"
   ]
  },
  {
   "cell_type": "code",
   "execution_count": 13,
   "id": "ed5ba363",
   "metadata": {},
   "outputs": [],
   "source": [
    "# Split train test sur les users????????\n",
    "# Entrainement sur le train \n",
    "# Test a la fin comparaison NDCG entre tri du ranking et notes de l'utilisateur \n",
    "\n",
    "# Split train test sur les ratings par users (on ignore les ratings test pour le train)\n",
    "# Entrainement sur le train (il reste le meme, on a juste caché des notes)\n",
    "# Test a la fin comparaison NDCG entre tri du ranking (donné par l'algo grace au train) et notes de l'utilisateur (qu'on a garder en test)\n",
    "# Test avec le DOA entre les films (qu'on a cache) et les films unwatched ?\n",
    "\n",
    "# On prend pour un utilisateur sa liste de film + ses notes\n",
    "# On montre cette liste a des nouveaux utilisateurs puis on leur demande parmis les films que notre algo sort quel est celui qui devrait etre recommandé\n",
    "# On compare les resultats avec notre ranking reel apres train\n",
    "# Test de student "
   ]
  },
  {
   "cell_type": "code",
   "execution_count": 14,
   "id": "43786ec9",
   "metadata": {},
   "outputs": [
    {
     "name": "stdout",
     "output_type": "stream",
     "text": [
      "232 9724 9492\n"
     ]
    },
    {
     "ename": "NameError",
     "evalue": "name 'compute_doa_score' is not defined",
     "output_type": "error",
     "traceback": [
      "\u001b[1;31m---------------------------------------------------------------------------\u001b[0m",
      "\u001b[1;31mNameError\u001b[0m                                 Traceback (most recent call last)",
      "\u001b[1;32mc:\\Users\\karna\\Desktop\\Projects\\PythonProject\\PageRankRecommandation\\src\\experience.ipynb Cell 20'\u001b[0m in \u001b[0;36m<cell line: 5>\u001b[1;34m()\u001b[0m\n\u001b[0;32m      <a href='vscode-notebook-cell:/c%3A/Users/karna/Desktop/Projects/PythonProject/PageRankRecommandation/src/experience.ipynb#ch0000017?line=2'>3</a>\u001b[0m watched_user0, watched_all0, unwatched_user0 \u001b[39m=\u001b[39m get_infos_user(test_user_id)\n\u001b[0;32m      <a href='vscode-notebook-cell:/c%3A/Users/karna/Desktop/Projects/PythonProject/PageRankRecommandation/src/experience.ipynb#ch0000017?line=3'>4</a>\u001b[0m \u001b[39mprint\u001b[39m(\u001b[39mlen\u001b[39m(watched_user0), \u001b[39mlen\u001b[39m(watched_all0), \u001b[39mlen\u001b[39m(unwatched_user0))\n\u001b[1;32m----> <a href='vscode-notebook-cell:/c%3A/Users/karna/Desktop/Projects/PythonProject/PageRankRecommandation/src/experience.ipynb#ch0000017?line=4'>5</a>\u001b[0m \u001b[39mprint\u001b[39m(compute_doa_score(TR_ki_all_user[test_user_id], test_rating_user0, unwatched_user0))\n\u001b[0;32m      <a href='vscode-notebook-cell:/c%3A/Users/karna/Desktop/Projects/PythonProject/PageRankRecommandation/src/experience.ipynb#ch0000017?line=6'>7</a>\u001b[0m test_user_id \u001b[39m=\u001b[39m \u001b[39m1\u001b[39m\n\u001b[0;32m      <a href='vscode-notebook-cell:/c%3A/Users/karna/Desktop/Projects/PythonProject/PageRankRecommandation/src/experience.ipynb#ch0000017?line=7'>8</a>\u001b[0m train_rating_user0, test_rating_user0 \u001b[39m=\u001b[39m split_set(test_user_id, train_size, ratings)\n",
      "\u001b[1;31mNameError\u001b[0m: name 'compute_doa_score' is not defined"
     ]
    }
   ],
   "source": [
    "test_user_id = 0\n",
    "train_rating_user0, test_rating_user0 = split_set(test_user_id, train_size, ratings)\n",
    "watched_user0, watched_all0, unwatched_user0 = get_infos_user(test_user_id)\n",
    "print(len(watched_user0), len(watched_all0), len(unwatched_user0))\n",
    "print(compute_doa_score(TR_ki_all_user[test_user_id], test_rating_user0, unwatched_user0))\n",
    "\n",
    "test_user_id = 1\n",
    "train_rating_user0, test_rating_user0 = split_set(test_user_id, train_size, ratings)\n",
    "watched_user0, watched_all0, unwatched_user0 = get_infos_user(test_user_id)\n",
    "print(len(watched_user0), len(watched_all0), len(unwatched_user0))\n",
    "print(compute_doa_score(TR_ki_all_user[test_user_id], test_rating_user0, unwatched_user0))\n",
    "\n",
    "test_user_id = 2\n",
    "train_rating_user0, test_rating_user0 = split_set(test_user_id, train_size, ratings)\n",
    "watched_user0, watched_all0, unwatched_user0 = get_infos_user(test_user_id)\n",
    "print(len(watched_user0), len(watched_all0), len(unwatched_user0))\n",
    "print(compute_doa_score(TR_ki_all_user[test_user_id], test_rating_user0, unwatched_user0))\n",
    "\n",
    "test_user_id = 3\n",
    "rating_user = ratings[ratings[\"userId\"] == 3]\n",
    "# print(rating_user)\n",
    "# train_rating_user0, test_rating_user0 = split_set(test_user_id, train_size, ratings)\n",
    "# watched_user0, watched_all0, unwatched_user0 = get_infos_user(test_user_id)\n",
    "# print(len(watched_user0), len(watched_all0), len(unwatched_user0))\n",
    "# print(compute_doa_score(TR_ki_all_user[test_user_id], test_rating_user0, unwatched_user0))\n",
    "\n",
    "# test_user_id = 4\n",
    "# train_rating_user0, test_rating_user0 = split_set(test_user_id, train_size, ratings)\n",
    "# watched_user0, watched_all0, unwatched_user0 = get_infos_user(test_user_id)\n",
    "# print(len(watched_user0), len(watched_all0), len(unwatched_user0))\n",
    "# print(compute_doa_score(TR_ki_all_user[test_user_id], test_rating_user0, unwatched_user0))"
   ]
  },
  {
   "cell_type": "code",
   "execution_count": null,
   "id": "b86cee92",
   "metadata": {},
   "outputs": [
    {
     "ename": "IndexError",
     "evalue": "index 3 is out of bounds for axis 1 with size 3",
     "output_type": "error",
     "traceback": [
      "\u001b[1;31m---------------------------------------------------------------------------\u001b[0m",
      "\u001b[1;31mIndexError\u001b[0m                                Traceback (most recent call last)",
      "\u001b[1;32mc:\\Users\\karna\\Desktop\\Projects\\PythonProject\\PageRankRecommandation\\src\\experience.ipynb Cell 18'\u001b[0m in \u001b[0;36m<cell line: 1>\u001b[1;34m()\u001b[0m\n\u001b[1;32m----> <a href='vscode-notebook-cell:/c%3A/Users/karna/Desktop/Projects/PythonProject/PageRankRecommandation/src/experience.ipynb#ch0000034?line=0'>1</a>\u001b[0m \u001b[39mprint\u001b[39m(compute_all_doa(TR_ki_all_user))\n",
      "\u001b[1;32mc:\\Users\\karna\\Desktop\\Projects\\PythonProject\\PageRankRecommandation\\src\\experience.ipynb Cell 14'\u001b[0m in \u001b[0;36mcompute_all_doa\u001b[1;34m(TR_ki_all_user)\u001b[0m\n\u001b[0;32m     <a href='vscode-notebook-cell:/c%3A/Users/karna/Desktop/Projects/PythonProject/PageRankRecommandation/src/experience.ipynb#ch0000018?line=27'>28</a>\u001b[0m score \u001b[39m=\u001b[39m \u001b[39m0\u001b[39m\n\u001b[0;32m     <a href='vscode-notebook-cell:/c%3A/Users/karna/Desktop/Projects/PythonProject/PageRankRecommandation/src/experience.ipynb#ch0000018?line=28'>29</a>\u001b[0m \u001b[39mfor\u001b[39;00m userId \u001b[39min\u001b[39;00m \u001b[39mrange\u001b[39m(n_user):\n\u001b[1;32m---> <a href='vscode-notebook-cell:/c%3A/Users/karna/Desktop/Projects/PythonProject/PageRankRecommandation/src/experience.ipynb#ch0000018?line=29'>30</a>\u001b[0m \t_, test_rating_user \u001b[39m=\u001b[39m split_set(userId, train_size)\n\u001b[0;32m     <a href='vscode-notebook-cell:/c%3A/Users/karna/Desktop/Projects/PythonProject/PageRankRecommandation/src/experience.ipynb#ch0000018?line=30'>31</a>\u001b[0m \t_, _, unwatched_user \u001b[39m=\u001b[39m get_infos_user(userId)\n\u001b[0;32m     <a href='vscode-notebook-cell:/c%3A/Users/karna/Desktop/Projects/PythonProject/PageRankRecommandation/src/experience.ipynb#ch0000018?line=31'>32</a>\u001b[0m \tscore \u001b[39m+\u001b[39m\u001b[39m=\u001b[39m compute_doa_score(TR_ki_all_user[userId,:], test_rating_user, unwatched_user)\n",
      "\u001b[1;32mc:\\Users\\karna\\Desktop\\Projects\\PythonProject\\PageRankRecommandation\\src\\experience.ipynb Cell 14'\u001b[0m in \u001b[0;36msplit_set\u001b[1;34m(userId, train_size)\u001b[0m\n\u001b[0;32m      <a href='vscode-notebook-cell:/c%3A/Users/karna/Desktop/Projects/PythonProject/PageRankRecommandation/src/experience.ipynb#ch0000018?line=0'>1</a>\u001b[0m \u001b[39mdef\u001b[39;00m \u001b[39msplit_set\u001b[39m(userId, train_size):\n\u001b[0;32m      <a href='vscode-notebook-cell:/c%3A/Users/karna/Desktop/Projects/PythonProject/PageRankRecommandation/src/experience.ipynb#ch0000018?line=1'>2</a>\u001b[0m \trating_user \u001b[39m=\u001b[39m ratings[ratings[\u001b[39m\"\u001b[39m\u001b[39muserId\u001b[39m\u001b[39m\"\u001b[39m] \u001b[39m==\u001b[39m userId]\n\u001b[1;32m----> <a href='vscode-notebook-cell:/c%3A/Users/karna/Desktop/Projects/PythonProject/PageRankRecommandation/src/experience.ipynb#ch0000018?line=2'>3</a>\u001b[0m \ttrain_rating_user, test_rating_user \u001b[39m=\u001b[39m rating_user\u001b[39m.\u001b[39;49mto_numpy()[:\u001b[39mint\u001b[39;49m(train_size\u001b[39m*\u001b[39;49m\u001b[39mlen\u001b[39;49m(rating_user))][:,userId], rating_user\u001b[39m.\u001b[39mto_numpy()[\u001b[39mint\u001b[39m(train_size\u001b[39m*\u001b[39m\u001b[39mlen\u001b[39m(rating_user)):][:,userId]\n\u001b[0;32m      <a href='vscode-notebook-cell:/c%3A/Users/karna/Desktop/Projects/PythonProject/PageRankRecommandation/src/experience.ipynb#ch0000018?line=3'>4</a>\u001b[0m \t\u001b[39mreturn\u001b[39;00m train_rating_user, test_rating_user\n",
      "\u001b[1;31mIndexError\u001b[0m: index 3 is out of bounds for axis 1 with size 3"
     ]
    }
   ],
   "source": [
    "print(compute_all_doa(TR_ki_all_user))"
   ]
  },
  {
   "cell_type": "markdown",
   "id": "eeedf2a5",
   "metadata": {},
   "source": [
    "## Dimension & explication"
   ]
  },
  {
   "cell_type": "code",
   "execution_count": null,
   "id": "9b45b2fd",
   "metadata": {},
   "outputs": [],
   "source": [
    "# uk -> user k \n",
    "# ig -> movies i, genre g \n",
    "# R_uk -> movie,genre pour user uk\n",
    "# P_ig -> désigne la probabilité avec laquelle l'item i appartient au genre g\n",
    "# M -> matrice correlation\n",
    "# F -> \n",
    "# I_uk -> \n",
    "# r_ki -> \n",
    "\n",
    "#R -> n_user X n_movies X n_genres\n",
    "#I -> n_user X n_movies X n_genres\n",
    "\n",
    "#M -> n_movies X n_movies\n",
    "#F_ig -> n_movies X n_genres\n",
    "#I_uk -> n_movies X n_genres"
   ]
  }
 ],
 "metadata": {
  "kernelspec": {
   "display_name": "Python 3",
   "language": "python",
   "name": "python3"
  },
  "language_info": {
   "codemirror_mode": {
    "name": "ipython",
    "version": 3
   },
   "file_extension": ".py",
   "mimetype": "text/x-python",
   "name": "python",
   "nbconvert_exporter": "python",
   "pygments_lexer": "ipython3",
   "version": "3.9.12"
  }
 },
 "nbformat": 4,
 "nbformat_minor": 5
}
