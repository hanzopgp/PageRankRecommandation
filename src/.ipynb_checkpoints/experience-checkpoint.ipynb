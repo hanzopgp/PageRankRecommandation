{
 "cells": [
  {
   "cell_type": "markdown",
   "id": "5c8445c1-789a-45e0-b633-b460e1dce5e6",
   "metadata": {},
   "source": [
    "## Importations"
   ]
  },
  {
   "cell_type": "code",
   "execution_count": 1,
   "id": "9937e822-abfd-4b81-ab46-ea00f2bb4a7b",
   "metadata": {},
   "outputs": [],
   "source": [
    "import numpy as np\n",
    "import pandas as pd\n",
    "import itertools as it\n",
    "import scipy\n",
    "import tqdm\n",
    "from sklearn.preprocessing import MultiLabelBinarizer"
   ]
  },
  {
   "cell_type": "markdown",
   "id": "97f704fb-c6f2-4314-9fd6-2b981532ff8a",
   "metadata": {},
   "source": [
    "## Loading data"
   ]
  },
  {
   "cell_type": "code",
   "execution_count": 2,
   "id": "c6d6ac67-4dd0-4f09-ab6c-ac98aa1ae4b3",
   "metadata": {},
   "outputs": [],
   "source": [
    "PATH = \"../data/ml-latest-small/\"\n",
    "\n",
    "movies = pd.read_csv(PATH+\"movies.csv\")\n",
    "ratings = pd.read_csv(PATH+\"ratings.csv\")"
   ]
  },
  {
   "cell_type": "markdown",
   "id": "d3e47ba3-98be-445e-a018-fb685dd9b733",
   "metadata": {},
   "source": [
    "## Building ratings and movies dataframe which both contains the same movieId"
   ]
  },
  {
   "cell_type": "code",
   "execution_count": 3,
   "id": "f1067f82-1c2c-42be-82a0-12919565df96",
   "metadata": {},
   "outputs": [],
   "source": [
    "list_movieId = set(movies[\"movieId\"]).intersection(set(ratings[\"movieId\"]))"
   ]
  },
  {
   "cell_type": "code",
   "execution_count": 4,
   "id": "5ef7f7e7-a939-4932-a134-14368d32adef",
   "metadata": {},
   "outputs": [],
   "source": [
    "l = []\n",
    "for i in range(len(movies['movieId'])):\n",
    "    if movies['movieId'][i] in list_movieId:\n",
    "        l.append(i)\n",
    "movies = movies.iloc[l,:]"
   ]
  },
  {
   "cell_type": "code",
   "execution_count": 5,
   "id": "5d431db0-a821-479f-96d6-a0efba0a3005",
   "metadata": {},
   "outputs": [
    {
     "data": {
      "text/plain": [
       "9724"
      ]
     },
     "execution_count": 5,
     "metadata": {},
     "output_type": "execute_result"
    }
   ],
   "source": [
    "a = sorted(list(list_movieId))\n",
    "b = range(len(a))\n",
    "d = dict(zip(a,b))\n",
    "movies = movies.replace({'movieId' : d})\n",
    "len(set(movies['movieId']))"
   ]
  },
  {
   "cell_type": "code",
   "execution_count": 6,
   "id": "9c2f713f-6454-4ad0-83ae-59c2c9cad512",
   "metadata": {},
   "outputs": [
    {
     "data": {
      "text/plain": [
       "9724"
      ]
     },
     "execution_count": 6,
     "metadata": {},
     "output_type": "execute_result"
    }
   ],
   "source": [
    "a = sorted(list(list_movieId))\n",
    "b = range(len(a))\n",
    "d = dict(zip(a,b))\n",
    "ratings = ratings.replace({'movieId' : d})\n",
    "len(set(movies['movieId']))"
   ]
  },
  {
   "cell_type": "markdown",
   "id": "cf4b018a-1293-481d-a71a-95b4e5cabcfb",
   "metadata": {},
   "source": [
    "## Building one hot encoded genres in movies dataframe"
   ]
  },
  {
   "cell_type": "code",
   "execution_count": 7,
   "id": "fc27a8a6-5f56-4d7f-90f4-f098d2d33154",
   "metadata": {},
   "outputs": [],
   "source": [
    "tmp = []\n",
    "for elt in movies[\"genres\"]:\n",
    "    tmp.append(elt.split(\"|\"))\n",
    "movies[\"genres\"] = tmp"
   ]
  },
  {
   "cell_type": "code",
   "execution_count": 8,
   "id": "f1ce80ac-d08d-4e8e-9b30-fa8c6308aa5b",
   "metadata": {},
   "outputs": [],
   "source": [
    "mlb = MultiLabelBinarizer(sparse_output=True)\n",
    "movies = movies.join(\n",
    "            pd.DataFrame.sparse.from_spmatrix(\n",
    "                mlb.fit_transform(movies.pop('genres')),\n",
    "                index=movies.index,\n",
    "                columns=mlb.classes_))"
   ]
  },
  {
   "cell_type": "code",
   "execution_count": 9,
   "id": "540744a6-16d0-47c2-a253-4b0775f072f4",
   "metadata": {},
   "outputs": [
    {
     "data": {
      "text/html": [
       "<div>\n",
       "<style scoped>\n",
       "    .dataframe tbody tr th:only-of-type {\n",
       "        vertical-align: middle;\n",
       "    }\n",
       "\n",
       "    .dataframe tbody tr th {\n",
       "        vertical-align: top;\n",
       "    }\n",
       "\n",
       "    .dataframe thead th {\n",
       "        text-align: right;\n",
       "    }\n",
       "</style>\n",
       "<table border=\"1\" class=\"dataframe\">\n",
       "  <thead>\n",
       "    <tr style=\"text-align: right;\">\n",
       "      <th></th>\n",
       "      <th>movieId</th>\n",
       "      <th>title</th>\n",
       "      <th>(no genres listed)</th>\n",
       "      <th>Action</th>\n",
       "      <th>Adventure</th>\n",
       "      <th>Animation</th>\n",
       "      <th>Children</th>\n",
       "      <th>Comedy</th>\n",
       "      <th>Crime</th>\n",
       "      <th>Documentary</th>\n",
       "      <th>...</th>\n",
       "      <th>Film-Noir</th>\n",
       "      <th>Horror</th>\n",
       "      <th>IMAX</th>\n",
       "      <th>Musical</th>\n",
       "      <th>Mystery</th>\n",
       "      <th>Romance</th>\n",
       "      <th>Sci-Fi</th>\n",
       "      <th>Thriller</th>\n",
       "      <th>War</th>\n",
       "      <th>Western</th>\n",
       "    </tr>\n",
       "  </thead>\n",
       "  <tbody>\n",
       "    <tr>\n",
       "      <th>0</th>\n",
       "      <td>0</td>\n",
       "      <td>Toy Story (1995)</td>\n",
       "      <td>0</td>\n",
       "      <td>0</td>\n",
       "      <td>1</td>\n",
       "      <td>1</td>\n",
       "      <td>1</td>\n",
       "      <td>1</td>\n",
       "      <td>0</td>\n",
       "      <td>0</td>\n",
       "      <td>...</td>\n",
       "      <td>0</td>\n",
       "      <td>0</td>\n",
       "      <td>0</td>\n",
       "      <td>0</td>\n",
       "      <td>0</td>\n",
       "      <td>0</td>\n",
       "      <td>0</td>\n",
       "      <td>0</td>\n",
       "      <td>0</td>\n",
       "      <td>0</td>\n",
       "    </tr>\n",
       "    <tr>\n",
       "      <th>1</th>\n",
       "      <td>1</td>\n",
       "      <td>Jumanji (1995)</td>\n",
       "      <td>0</td>\n",
       "      <td>0</td>\n",
       "      <td>1</td>\n",
       "      <td>0</td>\n",
       "      <td>1</td>\n",
       "      <td>0</td>\n",
       "      <td>0</td>\n",
       "      <td>0</td>\n",
       "      <td>...</td>\n",
       "      <td>0</td>\n",
       "      <td>0</td>\n",
       "      <td>0</td>\n",
       "      <td>0</td>\n",
       "      <td>0</td>\n",
       "      <td>0</td>\n",
       "      <td>0</td>\n",
       "      <td>0</td>\n",
       "      <td>0</td>\n",
       "      <td>0</td>\n",
       "    </tr>\n",
       "    <tr>\n",
       "      <th>2</th>\n",
       "      <td>2</td>\n",
       "      <td>Grumpier Old Men (1995)</td>\n",
       "      <td>0</td>\n",
       "      <td>0</td>\n",
       "      <td>0</td>\n",
       "      <td>0</td>\n",
       "      <td>0</td>\n",
       "      <td>1</td>\n",
       "      <td>0</td>\n",
       "      <td>0</td>\n",
       "      <td>...</td>\n",
       "      <td>0</td>\n",
       "      <td>0</td>\n",
       "      <td>0</td>\n",
       "      <td>0</td>\n",
       "      <td>0</td>\n",
       "      <td>1</td>\n",
       "      <td>0</td>\n",
       "      <td>0</td>\n",
       "      <td>0</td>\n",
       "      <td>0</td>\n",
       "    </tr>\n",
       "    <tr>\n",
       "      <th>3</th>\n",
       "      <td>3</td>\n",
       "      <td>Waiting to Exhale (1995)</td>\n",
       "      <td>0</td>\n",
       "      <td>0</td>\n",
       "      <td>0</td>\n",
       "      <td>0</td>\n",
       "      <td>0</td>\n",
       "      <td>1</td>\n",
       "      <td>0</td>\n",
       "      <td>0</td>\n",
       "      <td>...</td>\n",
       "      <td>0</td>\n",
       "      <td>0</td>\n",
       "      <td>0</td>\n",
       "      <td>0</td>\n",
       "      <td>0</td>\n",
       "      <td>1</td>\n",
       "      <td>0</td>\n",
       "      <td>0</td>\n",
       "      <td>0</td>\n",
       "      <td>0</td>\n",
       "    </tr>\n",
       "    <tr>\n",
       "      <th>4</th>\n",
       "      <td>4</td>\n",
       "      <td>Father of the Bride Part II (1995)</td>\n",
       "      <td>0</td>\n",
       "      <td>0</td>\n",
       "      <td>0</td>\n",
       "      <td>0</td>\n",
       "      <td>0</td>\n",
       "      <td>1</td>\n",
       "      <td>0</td>\n",
       "      <td>0</td>\n",
       "      <td>...</td>\n",
       "      <td>0</td>\n",
       "      <td>0</td>\n",
       "      <td>0</td>\n",
       "      <td>0</td>\n",
       "      <td>0</td>\n",
       "      <td>0</td>\n",
       "      <td>0</td>\n",
       "      <td>0</td>\n",
       "      <td>0</td>\n",
       "      <td>0</td>\n",
       "    </tr>\n",
       "    <tr>\n",
       "      <th>...</th>\n",
       "      <td>...</td>\n",
       "      <td>...</td>\n",
       "      <td>...</td>\n",
       "      <td>...</td>\n",
       "      <td>...</td>\n",
       "      <td>...</td>\n",
       "      <td>...</td>\n",
       "      <td>...</td>\n",
       "      <td>...</td>\n",
       "      <td>...</td>\n",
       "      <td>...</td>\n",
       "      <td>...</td>\n",
       "      <td>...</td>\n",
       "      <td>...</td>\n",
       "      <td>...</td>\n",
       "      <td>...</td>\n",
       "      <td>...</td>\n",
       "      <td>...</td>\n",
       "      <td>...</td>\n",
       "      <td>...</td>\n",
       "      <td>...</td>\n",
       "    </tr>\n",
       "    <tr>\n",
       "      <th>9737</th>\n",
       "      <td>9719</td>\n",
       "      <td>Black Butler: Book of the Atlantic (2017)</td>\n",
       "      <td>0</td>\n",
       "      <td>1</td>\n",
       "      <td>0</td>\n",
       "      <td>1</td>\n",
       "      <td>0</td>\n",
       "      <td>1</td>\n",
       "      <td>0</td>\n",
       "      <td>0</td>\n",
       "      <td>...</td>\n",
       "      <td>0</td>\n",
       "      <td>0</td>\n",
       "      <td>0</td>\n",
       "      <td>0</td>\n",
       "      <td>0</td>\n",
       "      <td>0</td>\n",
       "      <td>0</td>\n",
       "      <td>0</td>\n",
       "      <td>0</td>\n",
       "      <td>0</td>\n",
       "    </tr>\n",
       "    <tr>\n",
       "      <th>9738</th>\n",
       "      <td>9720</td>\n",
       "      <td>No Game No Life: Zero (2017)</td>\n",
       "      <td>0</td>\n",
       "      <td>0</td>\n",
       "      <td>0</td>\n",
       "      <td>1</td>\n",
       "      <td>0</td>\n",
       "      <td>1</td>\n",
       "      <td>0</td>\n",
       "      <td>0</td>\n",
       "      <td>...</td>\n",
       "      <td>0</td>\n",
       "      <td>0</td>\n",
       "      <td>0</td>\n",
       "      <td>0</td>\n",
       "      <td>0</td>\n",
       "      <td>0</td>\n",
       "      <td>0</td>\n",
       "      <td>0</td>\n",
       "      <td>0</td>\n",
       "      <td>0</td>\n",
       "    </tr>\n",
       "    <tr>\n",
       "      <th>9739</th>\n",
       "      <td>9721</td>\n",
       "      <td>Flint (2017)</td>\n",
       "      <td>0</td>\n",
       "      <td>0</td>\n",
       "      <td>0</td>\n",
       "      <td>0</td>\n",
       "      <td>0</td>\n",
       "      <td>0</td>\n",
       "      <td>0</td>\n",
       "      <td>0</td>\n",
       "      <td>...</td>\n",
       "      <td>0</td>\n",
       "      <td>0</td>\n",
       "      <td>0</td>\n",
       "      <td>0</td>\n",
       "      <td>0</td>\n",
       "      <td>0</td>\n",
       "      <td>0</td>\n",
       "      <td>0</td>\n",
       "      <td>0</td>\n",
       "      <td>0</td>\n",
       "    </tr>\n",
       "    <tr>\n",
       "      <th>9740</th>\n",
       "      <td>9722</td>\n",
       "      <td>Bungo Stray Dogs: Dead Apple (2018)</td>\n",
       "      <td>0</td>\n",
       "      <td>1</td>\n",
       "      <td>0</td>\n",
       "      <td>1</td>\n",
       "      <td>0</td>\n",
       "      <td>0</td>\n",
       "      <td>0</td>\n",
       "      <td>0</td>\n",
       "      <td>...</td>\n",
       "      <td>0</td>\n",
       "      <td>0</td>\n",
       "      <td>0</td>\n",
       "      <td>0</td>\n",
       "      <td>0</td>\n",
       "      <td>0</td>\n",
       "      <td>0</td>\n",
       "      <td>0</td>\n",
       "      <td>0</td>\n",
       "      <td>0</td>\n",
       "    </tr>\n",
       "    <tr>\n",
       "      <th>9741</th>\n",
       "      <td>9723</td>\n",
       "      <td>Andrew Dice Clay: Dice Rules (1991)</td>\n",
       "      <td>0</td>\n",
       "      <td>0</td>\n",
       "      <td>0</td>\n",
       "      <td>0</td>\n",
       "      <td>0</td>\n",
       "      <td>1</td>\n",
       "      <td>0</td>\n",
       "      <td>0</td>\n",
       "      <td>...</td>\n",
       "      <td>0</td>\n",
       "      <td>0</td>\n",
       "      <td>0</td>\n",
       "      <td>0</td>\n",
       "      <td>0</td>\n",
       "      <td>0</td>\n",
       "      <td>0</td>\n",
       "      <td>0</td>\n",
       "      <td>0</td>\n",
       "      <td>0</td>\n",
       "    </tr>\n",
       "  </tbody>\n",
       "</table>\n",
       "<p>9724 rows × 22 columns</p>\n",
       "</div>"
      ],
      "text/plain": [
       "      movieId                                      title  (no genres listed)  \\\n",
       "0           0                           Toy Story (1995)                   0   \n",
       "1           1                             Jumanji (1995)                   0   \n",
       "2           2                    Grumpier Old Men (1995)                   0   \n",
       "3           3                   Waiting to Exhale (1995)                   0   \n",
       "4           4         Father of the Bride Part II (1995)                   0   \n",
       "...       ...                                        ...                 ...   \n",
       "9737     9719  Black Butler: Book of the Atlantic (2017)                   0   \n",
       "9738     9720               No Game No Life: Zero (2017)                   0   \n",
       "9739     9721                               Flint (2017)                   0   \n",
       "9740     9722        Bungo Stray Dogs: Dead Apple (2018)                   0   \n",
       "9741     9723        Andrew Dice Clay: Dice Rules (1991)                   0   \n",
       "\n",
       "      Action  Adventure  Animation  Children  Comedy  Crime  Documentary  ...  \\\n",
       "0          0          1          1         1       1      0            0  ...   \n",
       "1          0          1          0         1       0      0            0  ...   \n",
       "2          0          0          0         0       1      0            0  ...   \n",
       "3          0          0          0         0       1      0            0  ...   \n",
       "4          0          0          0         0       1      0            0  ...   \n",
       "...      ...        ...        ...       ...     ...    ...          ...  ...   \n",
       "9737       1          0          1         0       1      0            0  ...   \n",
       "9738       0          0          1         0       1      0            0  ...   \n",
       "9739       0          0          0         0       0      0            0  ...   \n",
       "9740       1          0          1         0       0      0            0  ...   \n",
       "9741       0          0          0         0       1      0            0  ...   \n",
       "\n",
       "      Film-Noir  Horror  IMAX  Musical  Mystery  Romance  Sci-Fi  Thriller  \\\n",
       "0             0       0     0        0        0        0       0         0   \n",
       "1             0       0     0        0        0        0       0         0   \n",
       "2             0       0     0        0        0        1       0         0   \n",
       "3             0       0     0        0        0        1       0         0   \n",
       "4             0       0     0        0        0        0       0         0   \n",
       "...         ...     ...   ...      ...      ...      ...     ...       ...   \n",
       "9737          0       0     0        0        0        0       0         0   \n",
       "9738          0       0     0        0        0        0       0         0   \n",
       "9739          0       0     0        0        0        0       0         0   \n",
       "9740          0       0     0        0        0        0       0         0   \n",
       "9741          0       0     0        0        0        0       0         0   \n",
       "\n",
       "      War  Western  \n",
       "0       0        0  \n",
       "1       0        0  \n",
       "2       0        0  \n",
       "3       0        0  \n",
       "4       0        0  \n",
       "...   ...      ...  \n",
       "9737    0        0  \n",
       "9738    0        0  \n",
       "9739    0        0  \n",
       "9740    0        0  \n",
       "9741    0        0  \n",
       "\n",
       "[9724 rows x 22 columns]"
      ]
     },
     "execution_count": 9,
     "metadata": {},
     "output_type": "execute_result"
    }
   ],
   "source": [
    "movies"
   ]
  },
  {
   "cell_type": "markdown",
   "id": "b50e1e06-fa61-45b1-8842-07920d1b37bf",
   "metadata": {},
   "source": [
    "## Cleaning ratings datagrame"
   ]
  },
  {
   "cell_type": "code",
   "execution_count": 10,
   "id": "1b0d5218-50f6-46c9-8042-b840970fc90d",
   "metadata": {},
   "outputs": [],
   "source": [
    "ratings = ratings.drop(columns=[\"timestamp\"])"
   ]
  },
  {
   "cell_type": "code",
   "execution_count": 11,
   "id": "844736a7-37d7-4190-bb33-db3167e60a70",
   "metadata": {},
   "outputs": [
    {
     "data": {
      "text/html": [
       "<div>\n",
       "<style scoped>\n",
       "    .dataframe tbody tr th:only-of-type {\n",
       "        vertical-align: middle;\n",
       "    }\n",
       "\n",
       "    .dataframe tbody tr th {\n",
       "        vertical-align: top;\n",
       "    }\n",
       "\n",
       "    .dataframe thead th {\n",
       "        text-align: right;\n",
       "    }\n",
       "</style>\n",
       "<table border=\"1\" class=\"dataframe\">\n",
       "  <thead>\n",
       "    <tr style=\"text-align: right;\">\n",
       "      <th></th>\n",
       "      <th>userId</th>\n",
       "      <th>movieId</th>\n",
       "      <th>rating</th>\n",
       "    </tr>\n",
       "  </thead>\n",
       "  <tbody>\n",
       "    <tr>\n",
       "      <th>0</th>\n",
       "      <td>1</td>\n",
       "      <td>0</td>\n",
       "      <td>4.0</td>\n",
       "    </tr>\n",
       "    <tr>\n",
       "      <th>1</th>\n",
       "      <td>1</td>\n",
       "      <td>2</td>\n",
       "      <td>4.0</td>\n",
       "    </tr>\n",
       "    <tr>\n",
       "      <th>2</th>\n",
       "      <td>1</td>\n",
       "      <td>5</td>\n",
       "      <td>4.0</td>\n",
       "    </tr>\n",
       "    <tr>\n",
       "      <th>3</th>\n",
       "      <td>1</td>\n",
       "      <td>43</td>\n",
       "      <td>5.0</td>\n",
       "    </tr>\n",
       "    <tr>\n",
       "      <th>4</th>\n",
       "      <td>1</td>\n",
       "      <td>46</td>\n",
       "      <td>5.0</td>\n",
       "    </tr>\n",
       "    <tr>\n",
       "      <th>...</th>\n",
       "      <td>...</td>\n",
       "      <td>...</td>\n",
       "      <td>...</td>\n",
       "    </tr>\n",
       "    <tr>\n",
       "      <th>100831</th>\n",
       "      <td>610</td>\n",
       "      <td>9416</td>\n",
       "      <td>4.0</td>\n",
       "    </tr>\n",
       "    <tr>\n",
       "      <th>100832</th>\n",
       "      <td>610</td>\n",
       "      <td>9443</td>\n",
       "      <td>5.0</td>\n",
       "    </tr>\n",
       "    <tr>\n",
       "      <th>100833</th>\n",
       "      <td>610</td>\n",
       "      <td>9444</td>\n",
       "      <td>5.0</td>\n",
       "    </tr>\n",
       "    <tr>\n",
       "      <th>100834</th>\n",
       "      <td>610</td>\n",
       "      <td>9445</td>\n",
       "      <td>5.0</td>\n",
       "    </tr>\n",
       "    <tr>\n",
       "      <th>100835</th>\n",
       "      <td>610</td>\n",
       "      <td>9485</td>\n",
       "      <td>3.0</td>\n",
       "    </tr>\n",
       "  </tbody>\n",
       "</table>\n",
       "<p>100836 rows × 3 columns</p>\n",
       "</div>"
      ],
      "text/plain": [
       "        userId  movieId  rating\n",
       "0            1        0     4.0\n",
       "1            1        2     4.0\n",
       "2            1        5     4.0\n",
       "3            1       43     5.0\n",
       "4            1       46     5.0\n",
       "...        ...      ...     ...\n",
       "100831     610     9416     4.0\n",
       "100832     610     9443     5.0\n",
       "100833     610     9444     5.0\n",
       "100834     610     9445     5.0\n",
       "100835     610     9485     3.0\n",
       "\n",
       "[100836 rows x 3 columns]"
      ]
     },
     "execution_count": 11,
     "metadata": {},
     "output_type": "execute_result"
    }
   ],
   "source": [
    "ratings"
   ]
  },
  {
   "cell_type": "code",
   "execution_count": 12,
   "id": "0e0011e0-23be-4621-b643-53e56ff7df7c",
   "metadata": {},
   "outputs": [
    {
     "data": {
      "text/html": [
       "<div>\n",
       "<style scoped>\n",
       "    .dataframe tbody tr th:only-of-type {\n",
       "        vertical-align: middle;\n",
       "    }\n",
       "\n",
       "    .dataframe tbody tr th {\n",
       "        vertical-align: top;\n",
       "    }\n",
       "\n",
       "    .dataframe thead th {\n",
       "        text-align: right;\n",
       "    }\n",
       "</style>\n",
       "<table border=\"1\" class=\"dataframe\">\n",
       "  <thead>\n",
       "    <tr style=\"text-align: right;\">\n",
       "      <th></th>\n",
       "      <th>userId</th>\n",
       "      <th>movieId</th>\n",
       "      <th>rating</th>\n",
       "    </tr>\n",
       "  </thead>\n",
       "  <tbody>\n",
       "    <tr>\n",
       "      <th>0</th>\n",
       "      <td>1</td>\n",
       "      <td>0</td>\n",
       "      <td>4.0</td>\n",
       "    </tr>\n",
       "    <tr>\n",
       "      <th>516</th>\n",
       "      <td>5</td>\n",
       "      <td>0</td>\n",
       "      <td>4.0</td>\n",
       "    </tr>\n",
       "    <tr>\n",
       "      <th>874</th>\n",
       "      <td>7</td>\n",
       "      <td>0</td>\n",
       "      <td>4.5</td>\n",
       "    </tr>\n",
       "    <tr>\n",
       "      <th>1434</th>\n",
       "      <td>15</td>\n",
       "      <td>0</td>\n",
       "      <td>2.5</td>\n",
       "    </tr>\n",
       "    <tr>\n",
       "      <th>1667</th>\n",
       "      <td>17</td>\n",
       "      <td>0</td>\n",
       "      <td>4.5</td>\n",
       "    </tr>\n",
       "    <tr>\n",
       "      <th>...</th>\n",
       "      <td>...</td>\n",
       "      <td>...</td>\n",
       "      <td>...</td>\n",
       "    </tr>\n",
       "    <tr>\n",
       "      <th>97364</th>\n",
       "      <td>606</td>\n",
       "      <td>0</td>\n",
       "      <td>2.5</td>\n",
       "    </tr>\n",
       "    <tr>\n",
       "      <th>98479</th>\n",
       "      <td>607</td>\n",
       "      <td>0</td>\n",
       "      <td>4.0</td>\n",
       "    </tr>\n",
       "    <tr>\n",
       "      <th>98666</th>\n",
       "      <td>608</td>\n",
       "      <td>0</td>\n",
       "      <td>2.5</td>\n",
       "    </tr>\n",
       "    <tr>\n",
       "      <th>99497</th>\n",
       "      <td>609</td>\n",
       "      <td>0</td>\n",
       "      <td>3.0</td>\n",
       "    </tr>\n",
       "    <tr>\n",
       "      <th>99534</th>\n",
       "      <td>610</td>\n",
       "      <td>0</td>\n",
       "      <td>5.0</td>\n",
       "    </tr>\n",
       "  </tbody>\n",
       "</table>\n",
       "<p>215 rows × 3 columns</p>\n",
       "</div>"
      ],
      "text/plain": [
       "       userId  movieId  rating\n",
       "0           1        0     4.0\n",
       "516         5        0     4.0\n",
       "874         7        0     4.5\n",
       "1434       15        0     2.5\n",
       "1667       17        0     4.5\n",
       "...       ...      ...     ...\n",
       "97364     606        0     2.5\n",
       "98479     607        0     4.0\n",
       "98666     608        0     2.5\n",
       "99497     609        0     3.0\n",
       "99534     610        0     5.0\n",
       "\n",
       "[215 rows x 3 columns]"
      ]
     },
     "execution_count": 12,
     "metadata": {},
     "output_type": "execute_result"
    }
   ],
   "source": [
    "ratings[ratings[\"movieId\"] == 0]"
   ]
  },
  {
   "cell_type": "markdown",
   "id": "e98d1447-9e53-4dbb-acdd-511bf267b843",
   "metadata": {},
   "source": [
    "## Building a sparse matrix which contains the triple (u_k, m_i, r_ki)"
   ]
  },
  {
   "cell_type": "code",
   "execution_count": 13,
   "id": "4e2956b7-b494-47e8-ae2d-f3324cb8c0d0",
   "metadata": {},
   "outputs": [
    {
     "data": {
      "text/plain": [
       "(100836, 3)"
      ]
     },
     "execution_count": 13,
     "metadata": {},
     "output_type": "execute_result"
    }
   ],
   "source": [
    "ratings_sparse = scipy.sparse.csr_matrix(ratings.values)\n",
    "ratings_sparse.shape"
   ]
  },
  {
   "cell_type": "code",
   "execution_count": 14,
   "id": "04dbde92-e5e3-4c5d-9e9c-35a1122165cc",
   "metadata": {},
   "outputs": [
    {
     "name": "stdout",
     "output_type": "stream",
     "text": [
      "USER ID : u_k = 610.0\n",
      "MOVIE ID : m_i = 9416.0\n",
      "SCORE : r_ki = 4.0\n"
     ]
    }
   ],
   "source": [
    "print(\"USER ID : u_k =\",  ratings_sparse[100831, 0])\n",
    "print(\"MOVIE ID : m_i =\", ratings_sparse[100831, 1])\n",
    "print(\"SCORE : r_ki =\",   ratings_sparse[100831, 2])"
   ]
  },
  {
   "cell_type": "markdown",
   "id": "aebdfd6d-31be-429c-b6ee-9b2e2b9e286a",
   "metadata": {},
   "source": [
    "## Building a matrix M = (n_movies, n_movies) which contains the number of users who'se seen m_i and m_j"
   ]
  },
  {
   "cell_type": "code",
   "execution_count": 52,
   "id": "09dbdd98-a7b0-4851-83e7-39f06a533d6a",
   "metadata": {},
   "outputs": [],
   "source": [
    "data_dict = dict()\n",
    "\n",
    "for userId in set(ratings[\"userId\"]):\n",
    "    iterator = it.combinations(ratings[ratings['userId'] == userId][\"movieId\"], 2)\n",
    "    for x, y in iterator:\n",
    "        data_dict[(x,y)] = data_dict.get((x,y), 0) + 1\n",
    "        data_dict[(y,x)] = data_dict.get((y,x), 0) + 1"
   ]
  },
  {
   "cell_type": "code",
   "execution_count": 53,
   "id": "41741293-801e-4a9f-b990-7991af0d73a4",
   "metadata": {},
   "outputs": [],
   "source": [
    "keys = np.array(list(data_dict.keys()))"
   ]
  },
  {
   "cell_type": "code",
   "execution_count": 54,
   "id": "bb71de7a-520a-4f16-bd23-e309d5f7604b",
   "metadata": {},
   "outputs": [],
   "source": [
    "values = np.array(list(data_dict.values()))"
   ]
  },
  {
   "cell_type": "code",
   "execution_count": 55,
   "id": "233d04ad-a243-4977-bcd5-00c911c15899",
   "metadata": {},
   "outputs": [],
   "source": [
    "M_coo = scipy.sparse.coo_matrix((values, (keys[:,0], keys[:,1])))\n",
    "M_csr = M_coo.tocsr()"
   ]
  },
  {
   "cell_type": "code",
   "execution_count": 56,
   "id": "3cd6fe6f-b2df-4a60-99b0-2f8b2e7f6d1e",
   "metadata": {},
   "outputs": [
    {
     "data": {
      "text/plain": [
       "(9724, 9724)"
      ]
     },
     "execution_count": 56,
     "metadata": {},
     "output_type": "execute_result"
    }
   ],
   "source": [
    "M_coo.shape"
   ]
  },
  {
   "cell_type": "code",
   "execution_count": 57,
   "id": "6ba120f1-f3b0-4d6b-9ca3-f79e7d5e207c",
   "metadata": {},
   "outputs": [
    {
     "name": "stdout",
     "output_type": "stream",
     "text": [
      "The movies with ID 0 and 1 have been spotted 68 times in users watch list\n"
     ]
    }
   ],
   "source": [
    "print(\"The movies with ID 0 and 1 have been spotted\", M_csr[0,1], \"times in users watch list\")"
   ]
  },
  {
   "cell_type": "markdown",
   "id": "50b67459-d39a-4210-9be7-5cf7784f6cf8",
   "metadata": {},
   "source": [
    "## Normalizing the M matrix"
   ]
  },
  {
   "cell_type": "code",
   "execution_count": 58,
   "id": "f3e74b86-b226-4a73-b0f5-d5d0dd0aa9b4",
   "metadata": {},
   "outputs": [],
   "source": [
    "M_norm = M_coo / M_coo.sum(axis=0)"
   ]
  },
  {
   "cell_type": "code",
   "execution_count": 61,
   "id": "a41b15cb-5757-4185-94f7-872491938c46",
   "metadata": {},
   "outputs": [
    {
     "data": {
      "text/plain": [
       "matrix([[0.        , 0.00151111, 0.00145627, ..., 0.        , 0.        ,\n",
       "         0.        ],\n",
       "        [0.00106875, 0.        , 0.00118322, ..., 0.        , 0.        ,\n",
       "         0.        ],\n",
       "        [0.00050294, 0.00057778, 0.        , ..., 0.        , 0.        ,\n",
       "         0.        ],\n",
       "        ...,\n",
       "        [0.        , 0.        , 0.        , ..., 0.        , 0.0075188 ,\n",
       "         0.        ],\n",
       "        [0.        , 0.        , 0.        , ..., 0.0075188 , 0.        ,\n",
       "         0.        ],\n",
       "        [0.        , 0.        , 0.        , ..., 0.        , 0.        ,\n",
       "         0.        ]])"
      ]
     },
     "execution_count": 61,
     "metadata": {},
     "output_type": "execute_result"
    }
   ],
   "source": [
    "M_norm"
   ]
  },
  {
   "cell_type": "markdown",
   "id": "e812a8b6-99de-402e-8d4a-cfcf07acd900",
   "metadata": {},
   "source": [
    "## Computing probabilites of genres P_ig"
   ]
  },
  {
   "cell_type": "code",
   "execution_count": 81,
   "id": "ff189ed3-0bf2-4a16-b069-d5469466a7f7",
   "metadata": {},
   "outputs": [
    {
     "data": {
      "text/plain": [
       "array([0.00154223, 0.08291754, 0.05724394, 0.02766942, 0.03011884,\n",
       "       0.17023496, 0.0542502 , 0.01986755, 0.19726935, 0.03528985,\n",
       "       0.00385557, 0.04431643, 0.00716683, 0.01510478, 0.02599111,\n",
       "       0.07216729, 0.04445251, 0.08568448, 0.01728205, 0.00757507])"
      ]
     },
     "execution_count": 81,
     "metadata": {},
     "output_type": "execute_result"
    }
   ],
   "source": [
    "sum_ = movies[[i for i in movies.columns if i != \"movieId\" and i != \"title\"]].to_numpy().sum(axis=0).astype(int)\n",
    "P_ig = sum_ / sum(sum_)\n",
    "P_ig"
   ]
  },
  {
   "cell_type": "markdown",
   "id": "45e2b5a0-f5de-4db1-a2b0-27b89d657451",
   "metadata": {},
   "source": [
    "## Computing R_uk"
   ]
  },
  {
   "cell_type": "code",
   "execution_count": 83,
   "id": "2425af92-4610-4b3b-aa8f-a025c1d6af90",
   "metadata": {},
   "outputs": [],
   "source": [
    "d = 0.15\n",
    "alpha = 0.1\n",
    "n_genres = len(movies.columns) - 2 # Number of genres\n",
    "n_movies = len(movies)"
   ]
  },
  {
   "cell_type": "code",
   "execution_count": 88,
   "id": "7f7d700d-c897-4e21-9da9-895536c70bb1",
   "metadata": {},
   "outputs": [
    {
     "name": "stdout",
     "output_type": "stream",
     "text": [
      "(20,)\n"
     ]
    },
    {
     "ename": "ValueError",
     "evalue": "operands could not be broadcast together with shapes (100836,3) (20,) ",
     "output_type": "error",
     "traceback": [
      "\u001b[1;31m---------------------------------------------------------------------------\u001b[0m",
      "\u001b[1;31mValueError\u001b[0m                                Traceback (most recent call last)",
      "\u001b[1;32m~\\AppData\\Local\\Temp/ipykernel_6972/568234096.py\u001b[0m in \u001b[0;36m<module>\u001b[1;34m\u001b[0m\n\u001b[0;32m      6\u001b[0m \u001b[0mprint\u001b[0m\u001b[1;33m(\u001b[0m\u001b[0mF_ig\u001b[0m\u001b[1;33m.\u001b[0m\u001b[0mshape\u001b[0m\u001b[1;33m)\u001b[0m\u001b[1;33m\u001b[0m\u001b[1;33m\u001b[0m\u001b[0m\n\u001b[0;32m      7\u001b[0m \u001b[1;33m\u001b[0m\u001b[0m\n\u001b[1;32m----> 8\u001b[1;33m \u001b[0mI_uk\u001b[0m \u001b[1;33m=\u001b[0m \u001b[0mratings\u001b[0m\u001b[1;33m.\u001b[0m\u001b[0mto_numpy\u001b[0m\u001b[1;33m(\u001b[0m\u001b[1;33m)\u001b[0m \u001b[1;33m*\u001b[0m \u001b[0mP_ig\u001b[0m\u001b[1;33m\u001b[0m\u001b[1;33m\u001b[0m\u001b[0m\n\u001b[0m\u001b[0;32m      9\u001b[0m \u001b[0mR_new\u001b[0m \u001b[1;33m=\u001b[0m \u001b[0md\u001b[0m\u001b[1;33m*\u001b[0m\u001b[0malpha\u001b[0m\u001b[1;33m*\u001b[0m\u001b[0mM_csr\u001b[0m\u001b[1;33m*\u001b[0m\u001b[0mR\u001b[0m \u001b[1;33m+\u001b[0m \u001b[0md\u001b[0m\u001b[1;33m*\u001b[0m\u001b[1;33m(\u001b[0m\u001b[1;36m1\u001b[0m\u001b[1;33m-\u001b[0m\u001b[0malpha\u001b[0m\u001b[1;33m)\u001b[0m\u001b[1;33m*\u001b[0m\u001b[0mM_csr\u001b[0m\u001b[1;33m*\u001b[0m\u001b[0mF_ig\u001b[0m \u001b[1;33m+\u001b[0m \u001b[1;33m(\u001b[0m\u001b[1;36m1\u001b[0m\u001b[1;33m-\u001b[0m\u001b[0md\u001b[0m\u001b[1;33m)\u001b[0m\u001b[1;33m\u001b[0m\u001b[1;33m\u001b[0m\u001b[0m\n",
      "\u001b[1;31mValueError\u001b[0m: operands could not be broadcast together with shapes (100836,3) (20,) "
     ]
    }
   ],
   "source": [
    "r = 1/(n_movies*n_genres)\n",
    "R = np.full((n_movies, n_genres), R)\n",
    "\n",
    "F_ig = np.sum(R, axis=0) * P_ig\n",
    "\n",
    "I_uk = ratings.to_numpy() * P_ig\n",
    "R_new = d*alpha*M_csr*R + d*(1-alpha)*M_csr*F_ig + (1-d)\n",
    "\n",
    "# I_uk --> (n_user, n_film) ?\n",
    "# P_ig --> (n_film, n_genre) ?"
   ]
  },
  {
   "cell_type": "markdown",
   "id": "916fa8eb-36f2-4064-9e2c-d579141d1622",
   "metadata": {},
   "source": [
    "## Computing TR_ki"
   ]
  },
  {
   "cell_type": "code",
   "execution_count": null,
   "id": "79eef753-c799-44f7-afac-1d24484d28b9",
   "metadata": {},
   "outputs": [],
   "source": []
  }
 ],
 "metadata": {
  "kernelspec": {
   "display_name": "Python 3 (ipykernel)",
   "language": "python",
   "name": "python3"
  },
  "language_info": {
   "codemirror_mode": {
    "name": "ipython",
    "version": 3
   },
   "file_extension": ".py",
   "mimetype": "text/x-python",
   "name": "python",
   "nbconvert_exporter": "python",
   "pygments_lexer": "ipython3",
   "version": "3.8.12"
  }
 },
 "nbformat": 4,
 "nbformat_minor": 5
}
